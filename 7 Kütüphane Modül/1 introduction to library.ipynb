{
 "cells": [
  {
   "cell_type": "markdown",
   "metadata": {},
   "source": [
    "# Libraries"
   ]
  },
  {
   "cell_type": "code",
   "execution_count": null,
   "metadata": {},
   "outputs": [],
   "source": [
    "# Bir kütüphane yüklemek için \"import\" yapısını kullanyoruz.\n",
    "\n",
    "import libraryname          # kütüphanenin tamamını indirir.\n",
    " \n",
    " # kütüphanenin tamamını değil de belirli modülleri indirmek istersek;\n",
    "\n",
    "from libraryname import modulename as mn            # as yapısı kullanılarak uzun ve karışık modül isimleri kısaltılabilir.\n",
    "\n",
    "# modül hakkında bilgi almak içn ise,\n",
    "\n",
    "help(modulename) # yapısı kullanılabilir.\n",
    "\n",
    "# fonksiyon hakkında bilgi almak için ise,\n",
    "\n",
    "help(modulename.functionname) # yapısı kullanılır."
   ]
  }
 ],
 "metadata": {
  "kernelspec": {
   "display_name": "Python 3.10.6 64-bit (system)",
   "language": "python",
   "name": "python3"
  },
  "language_info": {
   "codemirror_mode": {
    "name": "ipython",
    "version": 3
   },
   "file_extension": ".py",
   "mimetype": "text/x-python",
   "name": "python",
   "nbconvert_exporter": "python",
   "pygments_lexer": "ipython3",
   "version": "3.10.6"
  },
  "orig_nbformat": 4,
  "vscode": {
   "interpreter": {
    "hash": "153b678b2f7a8cf3f4ae0b3640dd641e7d064b4c764ba4b70fe37c6e052025cd"
   }
  }
 },
 "nbformat": 4,
 "nbformat_minor": 2
}
