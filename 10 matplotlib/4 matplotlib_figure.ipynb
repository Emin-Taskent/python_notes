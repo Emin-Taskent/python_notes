{
 "cells": [
  {
   "cell_type": "code",
   "execution_count": 1,
   "metadata": {},
   "outputs": [],
   "source": [
    "import matplotlib.pyplot as plt"
   ]
  },
  {
   "cell_type": "markdown",
   "metadata": {},
   "source": [
    "Sıfırdan bir grafik hazırlamak istediğimizde plt.figure() fonksiyonu ile işlem yapılır. \n",
    "figure yapısını kullanarak objeler üretir ve objeler üzerinden daha kolay bir şekilde grafikler üretip, grafiklere müdahale edebilme imkanına sahip olabiliriz. \n",
    "\n",
    "https://www.youtube.com/watch?v=_oAqEQqLvbg&list=PLK8LlaNiWQOusZmEzLunxfgti9-ciRuXe&index=115&ab_channel=Anla%C5%9F%C4%B1l%C4%B1rEkonomi"
   ]
  },
  {
   "cell_type": "markdown",
   "metadata": {},
   "source": []
  }
 ],
 "metadata": {
  "kernelspec": {
   "display_name": "Python 3.10.6 64-bit (system)",
   "language": "python",
   "name": "python3"
  },
  "language_info": {
   "codemirror_mode": {
    "name": "ipython",
    "version": 3
   },
   "file_extension": ".py",
   "mimetype": "text/x-python",
   "name": "python",
   "nbconvert_exporter": "python",
   "pygments_lexer": "ipython3",
   "version": "3.10.6"
  },
  "orig_nbformat": 4,
  "vscode": {
   "interpreter": {
    "hash": "153b678b2f7a8cf3f4ae0b3640dd641e7d064b4c764ba4b70fe37c6e052025cd"
   }
  }
 },
 "nbformat": 4,
 "nbformat_minor": 2
}
