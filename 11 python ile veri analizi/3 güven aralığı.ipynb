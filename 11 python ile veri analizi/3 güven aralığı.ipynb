{
 "cells": [
  {
   "cell_type": "code",
   "execution_count": 12,
   "metadata": {},
   "outputs": [],
   "source": [
    "from scipy import stats\n",
    "import numpy as np"
   ]
  },
  {
   "cell_type": "markdown",
   "metadata": {},
   "source": [
    "# Z tablosu"
   ]
  },
  {
   "cell_type": "markdown",
   "metadata": {},
   "source": [
    "Bir fabrikada rassal olarak seçilen 100 ürünün ortalama ağırlığı 1040 gr, standart sapması 25gr olarak bulunmuştur. \n",
    "\n",
    "Bu fabrikada üretilen tüm  ürünlerin ortalama ağırlıkları %95 güven aralığında kaçtır? "
   ]
  },
  {
   "cell_type": "code",
   "execution_count": 13,
   "metadata": {},
   "outputs": [],
   "source": [
    "n=100\n",
    "xbar=1040\n",
    "x_sd=25\n",
    "confidence_level=0.95\n",
    "\n",
    "conf_interval=stats.norm.interval(confidence=confidence_level, loc=xbar, scale=x_sd/np.sqrt(n))"
   ]
  },
  {
   "cell_type": "code",
   "execution_count": 14,
   "metadata": {},
   "outputs": [
    {
     "data": {
      "text/plain": [
       "(1035.1000900386498, 1044.8999099613502)"
      ]
     },
     "execution_count": 14,
     "metadata": {},
     "output_type": "execute_result"
    }
   ],
   "source": [
    "conf_interval"
   ]
  },
  {
   "cell_type": "markdown",
   "metadata": {},
   "source": [
    "# T tablosu"
   ]
  },
  {
   "cell_type": "code",
   "execution_count": 15,
   "metadata": {},
   "outputs": [
    {
     "name": "stdout",
     "output_type": "stream",
     "text": [
      "(209.10729151418025, 223.95270848581976)\n"
     ]
    }
   ],
   "source": [
    "n2=20\n",
    "x2_bar=216.53\n",
    "x2_sd=15.86\n",
    "confidence_level2=0.95\n",
    "d_of_freedom=n2-1\n",
    "\n",
    "conf_interval2=stats.t.interval(confidence=confidence_level2, loc=x2_bar, df=d_of_freedom, scale=x2_sd/np.sqrt(n2))\n",
    "\n",
    "print(conf_interval2)\n",
    "\n"
   ]
  },
  {
   "cell_type": "markdown",
   "metadata": {},
   "source": [
    "# İki popülasyonun Farkı"
   ]
  },
  {
   "cell_type": "markdown",
   "metadata": {},
   "source": [
    "Bir fabrikada A ve B ürünlerinin ağırlıklarının varyansları sırasıyla 164gr ve \n",
    "216gr'dır. A ürününden 28 adet, B ürününden 30 adet Örneklem alındığında A \n",
    "ürününün ortalama ağırlığı 32gr, B ürününün ortalama ağırlığı 26gr çıkmıştır. \n",
    "Bu verilere göre A ve B ürünlerinin ortalama ağırlıklarının farkını %95 güven \n",
    "aralığında bulunuz? \n"
   ]
  },
  {
   "cell_type": "code",
   "execution_count": 18,
   "metadata": {},
   "outputs": [
    {
     "name": "stdout",
     "output_type": "stream",
     "text": [
      "(-1.0822649344425628, 13.082264934442563)\n"
     ]
    }
   ],
   "source": [
    "from numpy import sqrt\n",
    "\n",
    "\n",
    "n_a=28\n",
    "n_b=30\n",
    "\n",
    "var_a=164\n",
    "var_b=216\n",
    "\n",
    "x_a_bar= 32\n",
    "x_b_bar=26\n",
    "\n",
    "confidence_level3=0.95\n",
    "\n",
    "conf_interval3=stats.norm.interval(confidence=confidence_level3, loc=(x_a_bar-x_b_bar), scale=np.sqrt((var_a/n_a)+(var_b/n_b)) )\n",
    "print(conf_interval3)"
   ]
  },
  {
   "cell_type": "code",
   "execution_count": null,
   "metadata": {},
   "outputs": [],
   "source": []
  }
 ],
 "metadata": {
  "kernelspec": {
   "display_name": "Python 3.10.7 64-bit",
   "language": "python",
   "name": "python3"
  },
  "language_info": {
   "codemirror_mode": {
    "name": "ipython",
    "version": 3
   },
   "file_extension": ".py",
   "mimetype": "text/x-python",
   "name": "python",
   "nbconvert_exporter": "python",
   "pygments_lexer": "ipython3",
   "version": "3.10.7"
  },
  "orig_nbformat": 4,
  "vscode": {
   "interpreter": {
    "hash": "a1a7efbbe97ace3e6a3903a1087b84955237a79a84605ff960f6ddbd0678e993"
   }
  }
 },
 "nbformat": 4,
 "nbformat_minor": 2
}
