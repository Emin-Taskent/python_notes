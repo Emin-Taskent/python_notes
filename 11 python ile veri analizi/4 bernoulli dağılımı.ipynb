{
 "cells": [
  {
   "cell_type": "markdown",
   "metadata": {},
   "source": [
    "# Bernoulli Dağılımı"
   ]
  },
  {
   "cell_type": "code",
   "execution_count": 4,
   "metadata": {},
   "outputs": [],
   "source": [
    "# the Bernoulli distribution is the **discrete probability** (kesikli dağılım) distribution of a random variable \n",
    "# which takes the value 1 with probability *p* and the value 0 with probability *q=1-p*.\n",
    "\n",
    "# Less formally, it can be thought of as a model for the set of possible outcomes of any single experiment \n",
    "# that asks a yes–no question or sucess-failure.\n",
    "\n",
    "\n",
    "#               __x__             f(x)=(p^x)*(1-p)^(1-x) veya f(x)=p.pow(x)*(1-p).pow(1-x) ikisi de aynı gösterim. Syntax farkı var.\n",
    "# Başarılı    ->  1               P(x=0) ise yukarıdaki formülden P(x=0)=1-p\n",
    "# Başarısız   ->  0               P(x=1) ise yukarıdaki formülden P(x=1)=p\n",
    "\n",
    "# E(x)=p\n",
    "# variance_x=p*(1-p)\n",
    "\n",
    "# For more information: https://en.wikipedia.org/wiki/Bernoulli_distribution\n",
    "#                       https://www.youtube.com/watch?v=N9MCfKdjKik&list=PLK8LlaNiWQOvAYUMGMTFeZIOo0oKmZhdw&index=42&ab_channel=Anla%C5%9F%C4%B1l%C4%B1rEkonomi\n",
    "\n"
   ]
  },
  {
   "cell_type": "code",
   "execution_count": 2,
   "metadata": {},
   "outputs": [],
   "source": [
    "from scipy import stats"
   ]
  },
  {
   "cell_type": "code",
   "execution_count": 5,
   "metadata": {},
   "outputs": [
    {
     "name": "stdout",
     "output_type": "stream",
     "text": [
      "0.2 0.8\n"
     ]
    }
   ],
   "source": [
    "possibility_of_sucess=0.2\n",
    "\n",
    "distribution=stats.bernoulli(possibility_of_sucess)\n",
    "\n",
    "success=distribution.pmf(k=1)           #başarı k parametresi ile gönderilir.\n",
    "failure=distribution.pmf(k=0)\n",
    "\n",
    "print(success, failure)\n",
    "\n"
   ]
  },
  {
   "cell_type": "code",
   "execution_count": null,
   "metadata": {},
   "outputs": [],
   "source": []
  }
 ],
 "metadata": {
  "kernelspec": {
   "display_name": "Python 3.10.7 64-bit",
   "language": "python",
   "name": "python3"
  },
  "language_info": {
   "codemirror_mode": {
    "name": "ipython",
    "version": 3
   },
   "file_extension": ".py",
   "mimetype": "text/x-python",
   "name": "python",
   "nbconvert_exporter": "python",
   "pygments_lexer": "ipython3",
   "version": "3.10.7"
  },
  "orig_nbformat": 4,
  "vscode": {
   "interpreter": {
    "hash": "a1a7efbbe97ace3e6a3903a1087b84955237a79a84605ff960f6ddbd0678e993"
   }
  }
 },
 "nbformat": 4,
 "nbformat_minor": 2
}
