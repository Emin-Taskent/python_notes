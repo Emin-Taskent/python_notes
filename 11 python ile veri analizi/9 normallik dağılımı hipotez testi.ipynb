{
 "cells": [
  {
   "cell_type": "markdown",
   "metadata": {},
   "source": [
    "# Normallik Dağılımı Hipotez Testleri"
   ]
  },
  {
   "cell_type": "code",
   "execution_count": 1,
   "metadata": {},
   "outputs": [
    {
     "name": "stderr",
     "output_type": "stream",
     "text": [
      "Matplotlib is building the font cache; this may take a moment.\n"
     ]
    }
   ],
   "source": [
    "import numpy as np \n",
    "from scipy import stats \n",
    "import matplotlib.pyplot as plt \n",
    "import seaborn as sns \n"
   ]
  },
  {
   "cell_type": "markdown",
   "metadata": {},
   "source": [
    "#### Kolmogorov-Smirnov Tek Örneklem Sınaması"
   ]
  },
  {
   "cell_type": "code",
   "execution_count": 2,
   "metadata": {},
   "outputs": [
    {
     "name": "stdout",
     "output_type": "stream",
     "text": [
      "KstestResult(statistic=0.024206764619964294, pvalue=0.9243169445892152)\n"
     ]
    }
   ],
   "source": [
    "np.random.seed (10) \n",
    "veri=stats.norm.rvs(loc=38, size=500)\n",
    "\n",
    "\n",
    "ks=stats.kstest(veri, cdf=\"norm\", args=(veri.mean() , veri.std())) \n",
    "\n",
    "# içerisine \"args=()\" parametresini göndermezsek test standart normal dağılıma göre test eder. N~(0,1)\n",
    "# \"cdf=\" parametresi ile hangi dağılıma göre test yapılacağını söyleriz. \n",
    "# Bu case'de \"norm\" yazarak normal dağılıma göre test etmek istediğimizi söylüyoruz. \n",
    "\n",
    "# Hipotezler ise; \n",
    "# H0=\"Veriler normal dağılmaktadır.\"\n",
    "# H1=\"\"Veriler normal dağılmaktadır.\"\n",
    "# Dolayısıyla biz normal dağılmasını istiyorsak p-value'nin 0.05'ten büyük olmasını istiyoruz ki,\n",
    "# H0 hipotezini reject etmeyelim.\n",
    "\n",
    "print(ks) "
   ]
  },
  {
   "cell_type": "markdown",
   "metadata": {},
   "source": [
    "#### Shapiro-Wilk Testi"
   ]
  },
  {
   "cell_type": "code",
   "execution_count": 3,
   "metadata": {},
   "outputs": [
    {
     "name": "stdout",
     "output_type": "stream",
     "text": [
      "ShapiroResult(statistic=0.9970565438270569, pvalue=0.5094923377037048)\n"
     ]
    }
   ],
   "source": [
    "sw=stats.shapiro(veri)\n",
    "print(sw) "
   ]
  },
  {
   "cell_type": "code",
   "execution_count": null,
   "metadata": {},
   "outputs": [],
   "source": []
  }
 ],
 "metadata": {
  "kernelspec": {
   "display_name": "Python 3.10.7 64-bit",
   "language": "python",
   "name": "python3"
  },
  "language_info": {
   "codemirror_mode": {
    "name": "ipython",
    "version": 3
   },
   "file_extension": ".py",
   "mimetype": "text/x-python",
   "name": "python",
   "nbconvert_exporter": "python",
   "pygments_lexer": "ipython3",
   "version": "3.10.7"
  },
  "orig_nbformat": 4,
  "vscode": {
   "interpreter": {
    "hash": "a1a7efbbe97ace3e6a3903a1087b84955237a79a84605ff960f6ddbd0678e993"
   }
  }
 },
 "nbformat": 4,
 "nbformat_minor": 2
}
