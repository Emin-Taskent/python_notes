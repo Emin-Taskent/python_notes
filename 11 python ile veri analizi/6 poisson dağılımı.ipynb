{
 "cells": [
  {
   "cell_type": "markdown",
   "metadata": {},
   "source": [
    "# Poisson Dağılımı"
   ]
  },
  {
   "cell_type": "markdown",
   "metadata": {},
   "source": [
    "Poisson dağılımı, bir ayrık **(kesikli)** olasılık dağılımı olup belli bir sabit zaman birim aralığında meydana gelme sayısının olasılığını ifade eder. \n",
    "\n",
    "Bu zaman aralığında ortalama olay meydana gelme sayısının bilindiği ve herhangi bir olayla onu hemen takip eden olay arasındaki zaman farkının, önceki zaman farklarından bağımsız oluştuğu kabul edilir.\n",
    "\n",
    "Poission dağılımı, bazı zaman dilimleri içerisinde saklı kalmış nadir gerçekleşebilecek olaylar için kullandığımız bir dağılım yapısıdır.\n",
    "\n",
    "Poisson dağılımı için bizim lamda parametresine ihtiyacımız olacak lambda parametresi bizim gözlem yaptığımız olaylarla ilgili ortalama değerlerdir.\n",
    "\n",
    "Bir olasılığı p ile gösteriyorduk.\n",
    "n>=50 ve n*p<5 ise bu olay **nadir olaydır**.\n",
    "\n"
   ]
  },
  {
   "cell_type": "code",
   "execution_count": 1,
   "metadata": {},
   "outputs": [],
   "source": [
    "# f(x)= ((lambda^x)*(e^(-lambda)))/(x!)\n",
    "# E(x)= lamda veya E(x)=n*p\n",
    "# variance=lamda"
   ]
  },
  {
   "cell_type": "code",
   "execution_count": 2,
   "metadata": {},
   "outputs": [],
   "source": [
    "from scipy import stats"
   ]
  },
  {
   "cell_type": "code",
   "execution_count": 6,
   "metadata": {},
   "outputs": [
    {
     "name": "stdout",
     "output_type": "stream",
     "text": [
      "0.004539992976248485\n"
     ]
    }
   ],
   "source": [
    "# Geçmiş verilere bakılarak, bir çağrı merkezine 1 dakika içerisinde gelen telefon sayısı ortalama olarak 10 adettir.\n",
    "# 1 dakika içerisinde hiç telefon gelmeme olasılığı nedir?\n",
    "\n",
    "# Soru P(x=0)=?'ni sormaktadır.\n",
    "\n",
    "lamda=10\n",
    "\n",
    "dist1=stats.poisson(lamda)\n",
    "\n",
    "p0=dist1.pmf(k=0)\n",
    "print(p0*100)       # sonucu yüzde olarak ifade etmek için böyle yazdık.\n",
    "\n",
    "# Zira önümüzdeki bir dakika içerisinde çağrı merkezine telefon gelmeme olasılığı yüzde 0.0045'a eşittir."
   ]
  },
  {
   "cell_type": "code",
   "execution_count": 8,
   "metadata": {},
   "outputs": [
    {
     "name": "stdout",
     "output_type": "stream",
     "text": [
      "0.12465201948308108\n"
     ]
    }
   ],
   "source": [
    "# Bir santralda herhangi bir zamanda gelen telefonların sayısı saniyede 0.25 ortalamaya sahiptir. \n",
    "# Herhangi bir 20 saniyede gelen telefonlara ilişkin olasılık fonksiyonunu yazın ve en çok 2 telefon gelme olasılığını hesaplayın?\n",
    "\n",
    "lamda1=0.25     # lakin birze 20 saniyeyi sorduğu için;\n",
    "lamda2=0.25*20  # 20 saniye cinsine çeviriyoruz ki 5 yapıyor.\n",
    "\n",
    "# Olasılık fonksiyonu ise;\n",
    "# P(X=x)=((5^x)*(e^(-5)))/(x!)          x=0,1,2 ...\n",
    "\n",
    "# P(X<=2)=P(X=0) + P(X=1) + P(X=2)\n",
    "\n",
    "dist2=stats.poisson(lamda2)\n",
    "prob=dist2.cdf(x=2)\n",
    "print(prob)"
   ]
  },
  {
   "cell_type": "code",
   "execution_count": null,
   "metadata": {},
   "outputs": [],
   "source": []
  }
 ],
 "metadata": {
  "kernelspec": {
   "display_name": "Python 3.10.7 64-bit",
   "language": "python",
   "name": "python3"
  },
  "language_info": {
   "codemirror_mode": {
    "name": "ipython",
    "version": 3
   },
   "file_extension": ".py",
   "mimetype": "text/x-python",
   "name": "python",
   "nbconvert_exporter": "python",
   "pygments_lexer": "ipython3",
   "version": "3.10.7"
  },
  "orig_nbformat": 4,
  "vscode": {
   "interpreter": {
    "hash": "a1a7efbbe97ace3e6a3903a1087b84955237a79a84605ff960f6ddbd0678e993"
   }
  }
 },
 "nbformat": 4,
 "nbformat_minor": 2
}
