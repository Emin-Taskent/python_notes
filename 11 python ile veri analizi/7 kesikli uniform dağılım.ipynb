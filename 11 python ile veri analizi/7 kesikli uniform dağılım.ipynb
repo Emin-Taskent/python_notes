{
 "cells": [
  {
   "cell_type": "markdown",
   "metadata": {},
   "source": [
    "# Kesikli Uniform Dağılım"
   ]
  },
  {
   "cell_type": "markdown",
   "metadata": {},
   "source": [
    "Kesikli tekdüze dağılım (İngilizce discrete uniform distribution), bir rassal değişken için belirli bir alt ve üst sınır tam sayı arasında mümkün olan bir sıra tam sayı sonuç değerlerin hepsinin eşit ölçüde olasılık göstermesi özelliğini taşıyan ayrık olasılık dağılımıdır."
   ]
  },
  {
   "cell_type": "code",
   "execution_count": 1,
   "metadata": {},
   "outputs": [],
   "source": [
    "# f(x)=P(X=x)=1/n          x=1,2, ... n\n",
    "# E(x)=(n+1)/2\n",
    "# Variance=((n^2)-1)/12\n",
    "\n",
    "# Örnek olarak zar atma verilebilir. Bir zar atıldığınha üst yüze gelecek olan her bir sayının gelme olasılığı 1/6'dır.\n",
    "# E(x)=(6+1)/2=3.5\n",
    "# Variance= 35/12=2.91"
   ]
  },
  {
   "cell_type": "code",
   "execution_count": 2,
   "metadata": {},
   "outputs": [],
   "source": [
    "from scipy import stats"
   ]
  },
  {
   "cell_type": "code",
   "execution_count": 4,
   "metadata": {},
   "outputs": [
    {
     "name": "stdout",
     "output_type": "stream",
     "text": [
      "0.16666666666666666\n",
      "3.5\n"
     ]
    }
   ],
   "source": [
    "n=6\n",
    "\n",
    "dist=stats.randint(1,n+1)\n",
    "prob=dist.pmf(k=5)          # bir zar atılıdığında 5 gelme olasılığı\n",
    "expected=dist.expect()\n",
    "\n",
    "print(prob)\n",
    "print(expected)"
   ]
  },
  {
   "cell_type": "code",
   "execution_count": null,
   "metadata": {},
   "outputs": [],
   "source": []
  }
 ],
 "metadata": {
  "kernelspec": {
   "display_name": "Python 3.10.7 64-bit",
   "language": "python",
   "name": "python3"
  },
  "language_info": {
   "codemirror_mode": {
    "name": "ipython",
    "version": 3
   },
   "file_extension": ".py",
   "mimetype": "text/x-python",
   "name": "python",
   "nbconvert_exporter": "python",
   "pygments_lexer": "ipython3",
   "version": "3.10.7"
  },
  "orig_nbformat": 4,
  "vscode": {
   "interpreter": {
    "hash": "a1a7efbbe97ace3e6a3903a1087b84955237a79a84605ff960f6ddbd0678e993"
   }
  }
 },
 "nbformat": 4,
 "nbformat_minor": 2
}
