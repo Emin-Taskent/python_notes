{
 "cells": [
  {
   "cell_type": "markdown",
   "metadata": {},
   "source": [
    "# T-testi Hipotez Testi"
   ]
  },
  {
   "cell_type": "code",
   "execution_count": 6,
   "metadata": {},
   "outputs": [],
   "source": [
    "from scipy import stats\n",
    "import numpy as np"
   ]
  },
  {
   "cell_type": "code",
   "execution_count": 11,
   "metadata": {},
   "outputs": [
    {
     "name": "stdout",
     "output_type": "stream",
     "text": [
      "2.746194120979329 0.01901964255331356\n"
     ]
    }
   ],
   "source": [
    "veri=[28,29,35,37,32,26,37,39,22,29,36,38]\n",
    "alfa=0.05 \n",
    "\n",
    "\n",
    "\n",
    "thesap, p=stats.ttest_1samp(veri , popmean=28 , alternative= \"two-sided\") \n",
    "\n",
    "print(thesap,p) "
   ]
  },
  {
   "cell_type": "markdown",
   "metadata": {},
   "source": [
    "p value 0.05'ten büyük olduğu için H0 reddilebilir. Yani istatistiksel olarak ortalama 28'den farklıdır."
   ]
  },
  {
   "cell_type": "code",
   "execution_count": 12,
   "metadata": {},
   "outputs": [
    {
     "data": {
      "text/plain": [
       "32.333333333333336"
      ]
     },
     "execution_count": 12,
     "metadata": {},
     "output_type": "execute_result"
    }
   ],
   "source": [
    "np.mean(veri)"
   ]
  },
  {
   "cell_type": "code",
   "execution_count": null,
   "metadata": {},
   "outputs": [],
   "source": []
  }
 ],
 "metadata": {
  "kernelspec": {
   "display_name": "Python 3.10.7 64-bit",
   "language": "python",
   "name": "python3"
  },
  "language_info": {
   "codemirror_mode": {
    "name": "ipython",
    "version": 3
   },
   "file_extension": ".py",
   "mimetype": "text/x-python",
   "name": "python",
   "nbconvert_exporter": "python",
   "pygments_lexer": "ipython3",
   "version": "3.10.7"
  },
  "orig_nbformat": 4,
  "vscode": {
   "interpreter": {
    "hash": "a1a7efbbe97ace3e6a3903a1087b84955237a79a84605ff960f6ddbd0678e993"
   }
  }
 },
 "nbformat": 4,
 "nbformat_minor": 2
}
