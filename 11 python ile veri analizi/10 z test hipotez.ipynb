{
 "cells": [
  {
   "cell_type": "code",
   "execution_count": 1,
   "metadata": {},
   "outputs": [],
   "source": [
    "from statsmodels.stats.weightstats import ztest"
   ]
  },
  {
   "cell_type": "code",
   "execution_count": 3,
   "metadata": {},
   "outputs": [
    {
     "name": "stdout",
     "output_type": "stream",
     "text": [
      "0.6339555069870142 0.26305492964421917\n"
     ]
    }
   ],
   "source": [
    "veri=[95, 70, 120,65, 130, 38, 110, 90, 60] \n",
    "alfa=0.05\n",
    "\n",
    "\n",
    "zhesap, p=ztest(veri , value=80, alternative=\"larger\")  \n",
    "\n",
    "# H0: ortalama=80\n",
    "# H1: yukarıda ortalamının 80'den büyük olduğu yer için hesaplama yaptık, küçük olduğu alternatif hipotezi isteseydik \"smaller\",\n",
    "# eşit olmadığı hipotezi isteseydik \"two-sided\" ifadesini göndermemiz gerekirdi.\n",
    "\n",
    "print(zhesap,p) \n"
   ]
  },
  {
   "cell_type": "markdown",
   "metadata": {},
   "source": [
    "p-value 0.05'ten büyük olduğu için HO'ı reddedemeyiz."
   ]
  },
  {
   "cell_type": "code",
   "execution_count": null,
   "metadata": {},
   "outputs": [],
   "source": []
  }
 ],
 "metadata": {
  "kernelspec": {
   "display_name": "Python 3.10.7 64-bit",
   "language": "python",
   "name": "python3"
  },
  "language_info": {
   "codemirror_mode": {
    "name": "ipython",
    "version": 3
   },
   "file_extension": ".py",
   "mimetype": "text/x-python",
   "name": "python",
   "nbconvert_exporter": "python",
   "pygments_lexer": "ipython3",
   "version": "3.10.7"
  },
  "orig_nbformat": 4,
  "vscode": {
   "interpreter": {
    "hash": "a1a7efbbe97ace3e6a3903a1087b84955237a79a84605ff960f6ddbd0678e993"
   }
  }
 },
 "nbformat": 4,
 "nbformat_minor": 2
}
