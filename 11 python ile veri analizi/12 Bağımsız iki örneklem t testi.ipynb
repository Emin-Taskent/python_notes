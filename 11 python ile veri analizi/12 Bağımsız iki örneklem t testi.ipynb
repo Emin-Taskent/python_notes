{
 "cells": [
  {
   "cell_type": "markdown",
   "metadata": {},
   "source": [
    "# Bağımısız iki örneklem T-testi"
   ]
  },
  {
   "cell_type": "markdown",
   "metadata": {},
   "source": [
    "Bu test iki bağımsız örneklemden elde edilen ortalamalar arasındaki farkın anlamlılığını test etmek için için kullanılan parametrik bir testtir."
   ]
  },
  {
   "cell_type": "markdown",
   "metadata": {},
   "source": [
    "**Varsayımlar**\n",
    "\n",
    "1. Alınan örneklem rassal olmalıdır.\n",
    "2. İki örneklem grubu birbirinden bağımsızdır. (cinsiyet, medeni durum gibi)\n",
    "3. Bağımlı değişken sürekli olmalıdır. \n",
    "    \n",
    "    Örneğin; \"Cinsiyete göre alınan notlarda bir değişiklik var mı?\" araştırmasında bağımlı değişken notlardır. Cinsiyete göre durumuna bakılmaktadır.\n",
    "4. Bağımsız değişken kategorik olmalıdır.\n",
    "5. Her grup için bağımlı değişken normal dağılım göstermelidir.\n",
    "6. n1 ve n2 > 25 olmalıdır. (Başka bir yere göre ise 15)\n",
    "7. Aykırı değer olmamalıdır.\n",
    "8. Örneklemler tarafından temsil edilen evrenlerin varyansları homojendir."
   ]
  },
  {
   "cell_type": "code",
   "execution_count": 2,
   "metadata": {},
   "outputs": [],
   "source": [
    "from scipy import stats \n",
    "import pandas as pd\n",
    "import numpy as np\n"
   ]
  },
  {
   "cell_type": "code",
   "execution_count": 5,
   "metadata": {},
   "outputs": [
    {
     "name": "stdout",
     "output_type": "stream",
     "text": [
      "2.1892354788555783 0.043749510241205485\n"
     ]
    }
   ],
   "source": [
    "okul_a=[280,287,280,275,279,278,289,284,288]\n",
    "okul_b=[281,274,270,273,276,273,281,282,284]\n",
    "\n",
    "alfa=0.05\n",
    "\n",
    "thesap, p=stats.ttest_ind(okul_a, okul_b, alternative=\"two-sided\")\n",
    "\n",
    "print(thesap, p)"
   ]
  },
  {
   "cell_type": "code",
   "execution_count": null,
   "metadata": {},
   "outputs": [],
   "source": []
  }
 ],
 "metadata": {
  "kernelspec": {
   "display_name": "Python 3.10.7 64-bit",
   "language": "python",
   "name": "python3"
  },
  "language_info": {
   "codemirror_mode": {
    "name": "ipython",
    "version": 3
   },
   "file_extension": ".py",
   "mimetype": "text/x-python",
   "name": "python",
   "nbconvert_exporter": "python",
   "pygments_lexer": "ipython3",
   "version": "3.10.7"
  },
  "orig_nbformat": 4,
  "vscode": {
   "interpreter": {
    "hash": "a1a7efbbe97ace3e6a3903a1087b84955237a79a84605ff960f6ddbd0678e993"
   }
  }
 },
 "nbformat": 4,
 "nbformat_minor": 2
}
