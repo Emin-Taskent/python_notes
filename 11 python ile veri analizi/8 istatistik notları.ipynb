{
 "cells": [
  {
   "cell_type": "markdown",
   "metadata": {},
   "source": [
    "# İstatistik Notları"
   ]
  },
  {
   "cell_type": "markdown",
   "metadata": {},
   "source": [
    " Kurtosis ve Skewness değerleri -1,5 ile +1.5 Olduğu zaman normal dağılım Olduğu kabul edilmektedir (Tabachnİck and Fidel], 2013). "
   ]
  },
  {
   "cell_type": "code",
   "execution_count": null,
   "metadata": {},
   "outputs": [],
   "source": []
  }
 ],
 "metadata": {
  "kernelspec": {
   "display_name": "Python 3.10.7 64-bit",
   "language": "python",
   "name": "python3"
  },
  "language_info": {
   "name": "python",
   "version": "3.10.7"
  },
  "orig_nbformat": 4,
  "vscode": {
   "interpreter": {
    "hash": "a1a7efbbe97ace3e6a3903a1087b84955237a79a84605ff960f6ddbd0678e993"
   }
  }
 },
 "nbformat": 4,
 "nbformat_minor": 2
}
