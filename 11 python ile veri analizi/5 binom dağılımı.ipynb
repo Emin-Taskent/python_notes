{
 "cells": [
  {
   "cell_type": "markdown",
   "metadata": {},
   "source": [
    "# Binom Dağılımı"
   ]
  },
  {
   "cell_type": "markdown",
   "metadata": {},
   "source": [
    "Binom dağılımı n sayıda iki kategori (yani başarı/başarısızlık, evet / hayır, 1/0 vb) sonucu veren denemelere uygulanır. \n",
    "\n",
    "Araştırıcının ilgi gösterdiği kategori başarı olarak adlandırılır. \n",
    "\n",
    "Bu türlü her bir deneyde, bağımsız olarak, başarı (evet/1) olasılığının p olduğu (ve yalnızca iki kategori sonuç mümkün olduğu için başarısızlık olasılığının1 - p olduğu) bilinir.\n",
    "\n",
    "Bu türlü bağımsız n sayıda denemeler serisi içinde elde edilen başarı sayısının ayrık (kesikli) olasılık dağılımı binom dağılım olarak tanımlanır.\n",
    "\n",
    "Bir binom dağılım sadece iki parametre ile, yani n ve p, ile tam olarak tanımlanır."
   ]
  },
  {
   "cell_type": "code",
   "execution_count": null,
   "metadata": {},
   "outputs": [],
   "source": [
    "# Success= p                          f(x)=combination(n,x)*(p^x)*((1-p)^(n-x))       n=deneme sayısı\n",
    "# Failure= 1-p                        E(x)=n.p\n",
    "#                                     variance_x=n*p*(1-p)"
   ]
  },
  {
   "cell_type": "code",
   "execution_count": 1,
   "metadata": {},
   "outputs": [],
   "source": [
    "from scipy import stats"
   ]
  },
  {
   "cell_type": "code",
   "execution_count": 3,
   "metadata": {},
   "outputs": [
    {
     "name": "stdout",
     "output_type": "stream",
     "text": [
      "0.2734374999999999\n"
     ]
    }
   ],
   "source": [
    "# Bir parayı 7 kere havaysa attığımızda 3 kere Tura gelme olasılığı nedir?\n",
    "\n",
    "\n",
    "possibility_of_sucess=0.5                               # paranın tura gelme olasılığı\n",
    "n=7                                                     # deneme sayısı\n",
    "\n",
    "\n",
    "\n",
    "distdistribution=stats.binom(n,possibility_of_sucess)   # binom olasılığı iki parametre alırdı.\n",
    "heads=distdistribution.pmf(k=3)                         # k başarı sayısı\n",
    "\n",
    "print(heads)"
   ]
  },
  {
   "cell_type": "code",
   "execution_count": 5,
   "metadata": {},
   "outputs": [
    {
     "name": "stdout",
     "output_type": "stream",
     "text": [
      "0.20479999999999995\n"
     ]
    }
   ],
   "source": [
    "# Bir futbol takımının attığı penaltıyı gole çevirme oranı %80'dir. \n",
    "# Bu takımın atacağı 5 penaltının 3 tanesini gole çevirme olasılığı nedir?\n",
    "\n",
    "\n",
    "p=0.8\n",
    "n_2=5\n",
    "\n",
    "dist1=stats.binom(n_2, p)\n",
    "success=dist1.pmf(k=3)\n",
    "\n",
    "print(success)"
   ]
  },
  {
   "cell_type": "code",
   "execution_count": 11,
   "metadata": {},
   "outputs": [
    {
     "name": "stdout",
     "output_type": "stream",
     "text": [
      "0.9998861508820939\n",
      "0.9998861508820942\n"
     ]
    }
   ],
   "source": [
    "# Daha önceki verilere bakılarak bir fabrikada üretilen her 100 üründen bir tanesini kusurlu olduğu görülmüştür.\n",
    "# Rastgele seçilecek 10 tane ürünün en fazla 2 tanesinin kusurlu olma olasılığı nedir?\n",
    "\n",
    "# P(X<=2)=P(X=0)+P(X=1)+P(X=2)\n",
    "\n",
    "\n",
    "p_3=0.01\n",
    "n_3=10\n",
    "\n",
    "dist2=stats.binom(n_3, p_3)\n",
    "\n",
    "product0=dist2.pmf(k=0)\n",
    "product1=dist2.pmf(k=1)\n",
    "product2=dist2.pmf(k=2)\n",
    "\n",
    "# Burada kümülatif bir işlem yapıyoruz. Yani .cdf() fonksiyonu kullanılarbilir.\n",
    "\n",
    "total=dist2.cdf(x=2)\n",
    "\n",
    "\n",
    "print(product0+product1+product2)\n",
    "print(total)\n",
    "\n"
   ]
  },
  {
   "cell_type": "code",
   "execution_count": 25,
   "metadata": {},
   "outputs": [
    {
     "name": "stdout",
     "output_type": "stream",
     "text": [
      "36.60323412732289\n",
      "36.972963764972654\n",
      "18.48648188248633\n",
      "6.099916580753073\n",
      "1.4941714856895187\n",
      "0.2897787123761487\n",
      "0.04634508026217868\n",
      "0.006286345663268115\n",
      "0.0007381693771261789\n",
      "7.62195091982142e-05\n",
      "7.006035693977263e-06\n",
      "5.790112143782871e-07\n"
     ]
    }
   ],
   "source": [
    "p_deneme=0.99\n",
    "n_deneme=100\n",
    "\n",
    "liste=[]\n",
    "\n",
    "for i in liste2:\n",
    "    distrr=stats.binom(n_deneme, p_deneme).pmf(k=i)\n",
    "    print(distrr*100)\n"
   ]
  },
  {
   "cell_type": "code",
   "execution_count": 33,
   "metadata": {},
   "outputs": [
    {
     "data": {
      "text/plain": [
       "0.9702989999999999"
      ]
     },
     "execution_count": 33,
     "metadata": {},
     "output_type": "execute_result"
    }
   ],
   "source": [
    "p_deneme=0.99\n",
    "n_deneme=3\n",
    "\n",
    "distrr=stats.binom(n_deneme, p_deneme).pmf(k=3)\n",
    "distrr\n"
   ]
  },
  {
   "cell_type": "code",
   "execution_count": 17,
   "metadata": {},
   "outputs": [],
   "source": [
    "liste=[]\n",
    "\n",
    "for i in range(1,101):\n",
    "    liste.append(i)"
   ]
  },
  {
   "cell_type": "code",
   "execution_count": 19,
   "metadata": {},
   "outputs": [
    {
     "data": {
      "text/plain": [
       "[100,\n",
       " 99,\n",
       " 98,\n",
       " 97,\n",
       " 96,\n",
       " 95,\n",
       " 94,\n",
       " 93,\n",
       " 92,\n",
       " 91,\n",
       " 90,\n",
       " 89,\n",
       " 88,\n",
       " 87,\n",
       " 86,\n",
       " 85,\n",
       " 84,\n",
       " 83,\n",
       " 82,\n",
       " 81,\n",
       " 80,\n",
       " 79,\n",
       " 78,\n",
       " 77,\n",
       " 76,\n",
       " 75,\n",
       " 74,\n",
       " 73,\n",
       " 72,\n",
       " 71,\n",
       " 70,\n",
       " 69,\n",
       " 68,\n",
       " 67,\n",
       " 66,\n",
       " 65,\n",
       " 64,\n",
       " 63,\n",
       " 62,\n",
       " 61,\n",
       " 60,\n",
       " 59,\n",
       " 58,\n",
       " 57,\n",
       " 56,\n",
       " 55,\n",
       " 54,\n",
       " 53,\n",
       " 52,\n",
       " 51,\n",
       " 50,\n",
       " 49,\n",
       " 48,\n",
       " 47,\n",
       " 46,\n",
       " 45,\n",
       " 44,\n",
       " 43,\n",
       " 42,\n",
       " 41,\n",
       " 40,\n",
       " 39,\n",
       " 38,\n",
       " 37,\n",
       " 36,\n",
       " 35,\n",
       " 34,\n",
       " 33,\n",
       " 32,\n",
       " 31,\n",
       " 30,\n",
       " 29,\n",
       " 28,\n",
       " 27,\n",
       " 26,\n",
       " 25,\n",
       " 24,\n",
       " 23,\n",
       " 22,\n",
       " 21,\n",
       " 20,\n",
       " 19,\n",
       " 18,\n",
       " 17,\n",
       " 16,\n",
       " 15,\n",
       " 14,\n",
       " 13,\n",
       " 12,\n",
       " 11,\n",
       " 10,\n",
       " 9,\n",
       " 8,\n",
       " 7,\n",
       " 6,\n",
       " 5,\n",
       " 4,\n",
       " 3,\n",
       " 2,\n",
       " 1]"
      ]
     },
     "execution_count": 19,
     "metadata": {},
     "output_type": "execute_result"
    }
   ],
   "source": [
    "liste[::-1]"
   ]
  },
  {
   "cell_type": "code",
   "execution_count": 21,
   "metadata": {},
   "outputs": [],
   "source": [
    "liste2=[100,\n",
    " 99,\n",
    " 98,\n",
    " 97,\n",
    " 96,\n",
    " 95,\n",
    " 94,\n",
    " 93,\n",
    " 92,\n",
    " 91,\n",
    " 90,\n",
    " 89,]"
   ]
  },
  {
   "cell_type": "code",
   "execution_count": null,
   "metadata": {},
   "outputs": [],
   "source": []
  }
 ],
 "metadata": {
  "kernelspec": {
   "display_name": "Python 3.10.7 64-bit",
   "language": "python",
   "name": "python3"
  },
  "language_info": {
   "codemirror_mode": {
    "name": "ipython",
    "version": 3
   },
   "file_extension": ".py",
   "mimetype": "text/x-python",
   "name": "python",
   "nbconvert_exporter": "python",
   "pygments_lexer": "ipython3",
   "version": "3.10.7"
  },
  "orig_nbformat": 4,
  "vscode": {
   "interpreter": {
    "hash": "a1a7efbbe97ace3e6a3903a1087b84955237a79a84605ff960f6ddbd0678e993"
   }
  }
 },
 "nbformat": 4,
 "nbformat_minor": 2
}
