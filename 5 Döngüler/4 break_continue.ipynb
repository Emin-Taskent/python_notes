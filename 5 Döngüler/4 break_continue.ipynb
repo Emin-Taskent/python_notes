{
 "cells": [
  {
   "cell_type": "code",
   "execution_count": 12,
   "metadata": {},
   "outputs": [
    {
     "name": "stdout",
     "output_type": "stream",
     "text": [
      "['A', 'n', 'l', 'a', 'ş', 'ı', 'l', 'ı', 'r', ' ', 'E', 'k', 'o', 'n', 'o', 'm', 'i']\n"
     ]
    }
   ],
   "source": [
    "x=\"Anlaşılır Ekonomi\"\n",
    "\n",
    "liste=[]\n",
    "\n",
    "\n",
    "for i in x:\n",
    "    liste.append(i)\n",
    "    \n",
    "print(liste)\n",
    "\n"
   ]
  },
  {
   "cell_type": "code",
   "execution_count": 15,
   "metadata": {},
   "outputs": [
    {
     "name": "stdout",
     "output_type": "stream",
     "text": [
      "['A', 'n', 'l', 'a', 'ş', 'ı', 'l', 'ı', 'r']\n"
     ]
    }
   ],
   "source": [
    "liste2=[]\n",
    "\n",
    "for i in x:\n",
    "    if i==\" \":\n",
    "        break\n",
    "    liste2.append(i)   \n",
    "    \n",
    "print(liste2)"
   ]
  },
  {
   "cell_type": "code",
   "execution_count": 21,
   "metadata": {},
   "outputs": [
    {
     "name": "stdout",
     "output_type": "stream",
     "text": [
      "['A', 'n', 'l', 'a', 'ş', 'ı', 'l', 'ı', 'r', 'E', 'k', 'o', 'n', 'o', 'm', 'i']\n"
     ]
    }
   ],
   "source": [
    "liste3=[]\n",
    "\n",
    "for i in x:\n",
    "    if i==\" \":\n",
    "        continue\n",
    "    liste3.append(i)    \n",
    "    \n",
    "print(liste3)"
   ]
  },
  {
   "cell_type": "code",
   "execution_count": 24,
   "metadata": {},
   "outputs": [
    {
     "name": "stdout",
     "output_type": "stream",
     "text": [
      "Hatalı giriş yaptınız, Lütfen tekrar deneyiniz. Kalan hakkınız 2\n",
      "Hatalı giriş yaptınız, Lütfen tekrar deneyiniz. Kalan hakkınız 1\n",
      "Hatalı giriş yaptınız, Lütfen tekrar deneyiniz. Kalan hakkınız 0\n"
     ]
    }
   ],
   "source": [
    "# Şifre girişi...\n",
    "\n",
    "Kullanıcı_id=\"Emin\"\n",
    "Kullanıcı_pass=1234\n",
    "\n",
    "hak=2\n",
    "\n",
    "Kullanıcı_Adı=input(\"Lütfen Kullanıcı Adınızı Giriniz:\")\n",
    "Kullanıcı_Şifre=int(input(\"Lütfen Şifrenizi Giriniz:\"))\n",
    "\n",
    "if Kullanıcı_id==Kullanıcı_Adı and Kullanıcı_pass==Kullanıcı_Şifre:\n",
    "    print(\"Merhaba {}, Hoşgeldiniz!\".format(Kullanıcı_Adı))\n",
    "    \n",
    "elif (Kullanıcı_id!=Kullanıcı_Adı or Kullanıcı_pass!=Kullanıcı_Şifre) and hak!=0:\n",
    "    for i in range(0,3):\n",
    "        print(\"Hatalı giriş yaptınız, Lütfen tekrar deneyiniz. Kalan hakkınız {}\".format(hak))\n",
    "        hak-=1\n",
    "else:\n",
    "    print(\"Kullanım hakkınız kalmamıştır. Sistem kapatılıyor...\")"
   ]
  },
  {
   "cell_type": "code",
   "execution_count": 30,
   "metadata": {},
   "outputs": [
    {
     "name": "stdout",
     "output_type": "stream",
     "text": [
      "Hatalı giriş yaptınız, Lütfen tekrar deneyiniz. Kalan hakkınız 2\n",
      "Hatalı giriş yaptınız, Lütfen tekrar deneyiniz. Kalan hakkınız 1\n",
      "Kullanım hakkınız kalmamıştır. Sistem kapatılıyor...\n"
     ]
    }
   ],
   "source": [
    "hak=2\n",
    "\n",
    "for i in range(0,3):\n",
    "\n",
    "    Kullanıcı_Adı=input(\"Lütfen Kullanıcı Adınızı Giriniz:\")\n",
    "    Kullanıcı_Şifre=int(input(\"Lütfen Şifrenizi Giriniz:\"))\n",
    "\n",
    "\n",
    "    if Kullanıcı_id==Kullanıcı_Adı and Kullanıcı_pass==Kullanıcı_Şifre:\n",
    "        print(\"Merhaba {}, Hoşgeldiniz!\".format(Kullanıcı_Adı))\n",
    "        break\n",
    "\n",
    "    elif (Kullanıcı_id!=Kullanıcı_Adı or Kullanıcı_pass!=Kullanıcı_Şifre) and hak!=0:\n",
    "        print(\"Hatalı giriş yaptınız, Lütfen tekrar deneyiniz. Kalan hakkınız {}\".format(hak))\n",
    "        hak-=1\n",
    "    \n",
    "    else:\n",
    "        print(\"Kullanım hakkınız kalmamıştır. Sistem kapatılıyor...\")"
   ]
  },
  {
   "cell_type": "code",
   "execution_count": null,
   "metadata": {},
   "outputs": [],
   "source": []
  }
 ],
 "metadata": {
  "kernelspec": {
   "display_name": "Python 3.10.6 64-bit (system)",
   "language": "python",
   "name": "python3"
  },
  "language_info": {
   "codemirror_mode": {
    "name": "ipython",
    "version": 3
   },
   "file_extension": ".py",
   "mimetype": "text/x-python",
   "name": "python",
   "nbconvert_exporter": "python",
   "pygments_lexer": "ipython3",
   "version": "3.10.6"
  },
  "orig_nbformat": 4,
  "vscode": {
   "interpreter": {
    "hash": "153b678b2f7a8cf3f4ae0b3640dd641e7d064b4c764ba4b70fe37c6e052025cd"
   }
  }
 },
 "nbformat": 4,
 "nbformat_minor": 2
}
