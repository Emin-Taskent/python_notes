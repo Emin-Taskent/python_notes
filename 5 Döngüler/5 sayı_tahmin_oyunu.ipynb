{
 "cells": [
  {
   "cell_type": "code",
   "execution_count": 5,
   "metadata": {},
   "outputs": [
    {
     "name": "stdout",
     "output_type": "stream",
     "text": [
      "Doğru tahmin ettiniz, Tebrikler :)))\n"
     ]
    }
   ],
   "source": [
    "sayı=24\n",
    "hak=10\n",
    "\n",
    "while hak>0:\n",
    "    tahmin=int(input(\"Lütfen pozitif bir tam sayı giriniz:\"))\n",
    "    if tahmin<0:\n",
    "        print(\"Girdiğiniz sayı pozitif bir tam sayı değildir.\")\n",
    "        continue        # negatif bir sayı girdiğimizde hakkın gitmemesi için giriyoruz.\n",
    "    hak-=1\n",
    "    if sayı==tahmin:\n",
    "        print(\"Doğru tahmin ettiniz, Tebrikler :)))\")\n",
    "        break\n",
    "    elif sayı>tahmin:\n",
    "        print(\"Yukarı, kalan hakkınız {}!\".format(hak))\n",
    "    else:\n",
    "        print(\"Aşağı, kalan hakkınız {}!\".format(hak))\n",
    "    if hak==0:\n",
    "        print(\"Hakkınız bitti!!! :'( Tahmin etmeye çalıştığınız sayı {} olacaktı.\".format(sayı))"
   ]
  },
  {
   "cell_type": "code",
   "execution_count": null,
   "metadata": {},
   "outputs": [],
   "source": []
  }
 ],
 "metadata": {
  "kernelspec": {
   "display_name": "Python 3.10.6 64-bit (system)",
   "language": "python",
   "name": "python3"
  },
  "language_info": {
   "codemirror_mode": {
    "name": "ipython",
    "version": 3
   },
   "file_extension": ".py",
   "mimetype": "text/x-python",
   "name": "python",
   "nbconvert_exporter": "python",
   "pygments_lexer": "ipython3",
   "version": "3.10.6"
  },
  "orig_nbformat": 4,
  "vscode": {
   "interpreter": {
    "hash": "153b678b2f7a8cf3f4ae0b3640dd641e7d064b4c764ba4b70fe37c6e052025cd"
   }
  }
 },
 "nbformat": 4,
 "nbformat_minor": 2
}
