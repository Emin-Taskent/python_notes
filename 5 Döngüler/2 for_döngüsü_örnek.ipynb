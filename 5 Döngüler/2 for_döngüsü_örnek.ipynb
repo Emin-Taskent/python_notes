{
 "cells": [
  {
   "cell_type": "code",
   "execution_count": 2,
   "metadata": {},
   "outputs": [
    {
     "name": "stdout",
     "output_type": "stream",
     "text": [
      "1 tek bir sayıdır.\n",
      "2 çift bir sayıdır.\n",
      "3 tek bir sayıdır.\n",
      "4 çift bir sayıdır.\n",
      "5 tek bir sayıdır.\n",
      "6 çift bir sayıdır.\n",
      "7 tek bir sayıdır.\n",
      "8 çift bir sayıdır.\n",
      "9 tek bir sayıdır.\n",
      "10 çift bir sayıdır.\n",
      "11 tek bir sayıdır.\n",
      "12 çift bir sayıdır.\n",
      "13 tek bir sayıdır.\n",
      "14 çift bir sayıdır.\n",
      "15 tek bir sayıdır.\n",
      "16 çift bir sayıdır.\n",
      "17 tek bir sayıdır.\n",
      "18 çift bir sayıdır.\n",
      "19 tek bir sayıdır.\n",
      "20 çift bir sayıdır.\n"
     ]
    }
   ],
   "source": [
    "sayı=range(1,21)\n",
    "\n",
    "for i in sayı:\n",
    "    if i%2==0:\n",
    "        print(\"{} çift bir sayıdır.\".format(i))\n",
    "    else:\n",
    "        print(\"{} tek bir sayıdır.\".format(i))"
   ]
  },
  {
   "cell_type": "code",
   "execution_count": 4,
   "metadata": {},
   "outputs": [
    {
     "name": "stdout",
     "output_type": "stream",
     "text": [
      "0\n",
      "1\n",
      "2\n",
      "3\n",
      "4\n",
      "5\n",
      "6\n",
      "7\n",
      "8\n",
      "9\n",
      "10\n",
      "11\n",
      "12\n",
      "13\n",
      "14\n",
      "15\n"
     ]
    }
   ],
   "source": [
    "sayı2=int(input(\"Lütfen bir sayı giriniz:\"))\n",
    "yaz=range(0,sayı2+1)\n",
    "\n",
    "for i in yaz:\n",
    "    print(i)"
   ]
  },
  {
   "cell_type": "code",
   "execution_count": 10,
   "metadata": {},
   "outputs": [
    {
     "name": "stdout",
     "output_type": "stream",
     "text": [
      "1\n",
      "2\n",
      "3\n",
      "4\n",
      "10\n"
     ]
    }
   ],
   "source": [
    "Toplam=0\n",
    "sayı3=range(1,5)\n",
    "\n",
    "for i in sayı3:\n",
    "    print(i)\n",
    "    Toplam+=i\n",
    "\n",
    "print(Toplam)"
   ]
  },
  {
   "cell_type": "code",
   "execution_count": null,
   "metadata": {},
   "outputs": [],
   "source": []
  }
 ],
 "metadata": {
  "kernelspec": {
   "display_name": "Python 3.10.6 64-bit (system)",
   "language": "python",
   "name": "python3"
  },
  "language_info": {
   "codemirror_mode": {
    "name": "ipython",
    "version": 3
   },
   "file_extension": ".py",
   "mimetype": "text/x-python",
   "name": "python",
   "nbconvert_exporter": "python",
   "pygments_lexer": "ipython3",
   "version": "3.10.6"
  },
  "orig_nbformat": 4,
  "vscode": {
   "interpreter": {
    "hash": "153b678b2f7a8cf3f4ae0b3640dd641e7d064b4c764ba4b70fe37c6e052025cd"
   }
  }
 },
 "nbformat": 4,
 "nbformat_minor": 2
}
