{
 "cells": [
  {
   "cell_type": "markdown",
   "metadata": {},
   "source": [
    "# Lists"
   ]
  },
  {
   "cell_type": "code",
   "execution_count": 1,
   "metadata": {},
   "outputs": [
    {
     "name": "stdout",
     "output_type": "stream",
     "text": [
      "1\n",
      "2\n",
      "3\n",
      "[1, 2, 3]\n",
      "1\n",
      "2\n",
      "3\n"
     ]
    }
   ],
   "source": [
    "#Lists are very similar to arrays.  (Arrays ileride işlenecek)\n",
    "# They can contain any type of variable, and they can contain as many variables as you wish. \n",
    "# Lists can also be iterated over in a very simple manner. \n",
    "# Here is an example of how to build a list.\n",
    "\n",
    "mylist = []\n",
    "mylist.append(1)        # \".append\" command adds an item end of the list\n",
    "mylist.append(2)\n",
    "mylist.append(3)\n",
    "print(mylist[0]) # prints 1\n",
    "print(mylist[1]) # prints 2\n",
    "print(mylist[2]) # prints 3\n",
    "print(mylist)\n",
    "\n",
    "# prints out 1,2,3\n",
    "for x in mylist:            # for konusu ileride işlenecek\n",
    "    print(x)"
   ]
  },
  {
   "cell_type": "code",
   "execution_count": 2,
   "metadata": {},
   "outputs": [
    {
     "ename": "IndexError",
     "evalue": "list index out of range",
     "output_type": "error",
     "traceback": [
      "\u001b[1;31m---------------------------------------------------------------------------\u001b[0m",
      "\u001b[1;31mIndexError\u001b[0m                                Traceback (most recent call last)",
      "\u001b[1;32mc:\\Users\\Emin Taşkent\\Desktop\\python dersleri\\python lessons_Identation_Listeler.ipynb Hücre 3\u001b[0m in \u001b[0;36m<cell line: 4>\u001b[1;34m()\u001b[0m\n\u001b[0;32m      <a href='vscode-notebook-cell:/c%3A/Users/Emin%20Ta%C5%9Fkent/Desktop/python%20dersleri/python%20lessons_Identation_Listeler.ipynb#W3sZmlsZQ%3D%3D?line=0'>1</a>\u001b[0m \u001b[39m#Accessing an index which does not exist generates an exception (an error).\u001b[39;00m\n\u001b[0;32m      <a href='vscode-notebook-cell:/c%3A/Users/Emin%20Ta%C5%9Fkent/Desktop/python%20dersleri/python%20lessons_Identation_Listeler.ipynb#W3sZmlsZQ%3D%3D?line=2'>3</a>\u001b[0m mylist \u001b[39m=\u001b[39m [\u001b[39m1\u001b[39m,\u001b[39m2\u001b[39m,\u001b[39m3\u001b[39m]\n\u001b[1;32m----> <a href='vscode-notebook-cell:/c%3A/Users/Emin%20Ta%C5%9Fkent/Desktop/python%20dersleri/python%20lessons_Identation_Listeler.ipynb#W3sZmlsZQ%3D%3D?line=3'>4</a>\u001b[0m \u001b[39mprint\u001b[39m(mylist[\u001b[39m10\u001b[39;49m])\n",
      "\u001b[1;31mIndexError\u001b[0m: list index out of range"
     ]
    }
   ],
   "source": [
    "#Accessing an index which does not exist generates an exception (an error).\n",
    "\n",
    "mylist = [1,2,3]\n",
    "print(mylist[10])\n"
   ]
  },
  {
   "cell_type": "markdown",
   "metadata": {},
   "source": [
    "### String ile List yapısı arasında değiştirilme farkı vardır.\n",
    "String yapıları değiştirilemezken, list yapısı değiştirilebilir."
   ]
  },
  {
   "cell_type": "code",
   "execution_count": null,
   "metadata": {},
   "outputs": [],
   "source": [
    "Bilgi=[\"Ahmet\", \"Yıldız\", 35, \"Evli\"]\n",
    "print(Bilgi)\n",
    "\n",
    "Bilgi[0]=\"Mehmet\"\n",
    "print(Bilgi)"
   ]
  },
  {
   "cell_type": "code",
   "execution_count": null,
   "metadata": {},
   "outputs": [],
   "source": [
    "x_2=\"Mehmet\"\n",
    "x_2[0]=\"n\""
   ]
  },
  {
   "cell_type": "code",
   "execution_count": null,
   "metadata": {},
   "outputs": [],
   "source": [
    "#Liste içerisinde liste olabilir\n",
    "\n",
    "Bilgi2=[\"Mehmet\", \"Can\", 41, \"Bekar\"]\n",
    "Bilgi3=[Bilgi, Bilgi2]\n",
    "\n",
    "print(Bilgi3)\n",
    "\n",
    "print(len(Bilgi))\n",
    "print(len(Bilgi3))"
   ]
  },
  {
   "cell_type": "code",
   "execution_count": null,
   "metadata": {},
   "outputs": [],
   "source": [
    "# Bir listeyi tersten yazdırmak istersek;\n",
    "Bilgi=[\"Ahmet\", \"Yıldız\", 35, \"Evli\"]\n",
    "print(Bilgi[::-1])"
   ]
  },
  {
   "cell_type": "markdown",
   "metadata": {},
   "source": [
    "## Exercise\n",
    "In this exercise, you will need to add numbers and strings to the correct lists using the \"append\" list method. You must add the numbers 1,2, and 3 to the \"numbers\" list, and the words 'hello' and 'world' to the strings variable.\n",
    "\n",
    "You will also have to fill in the variable second_name with the second name in the names list, using the brackets operator [ ]. Note that the index is zero-based, so if you want to access the second item in the list, its index will be 1.\n"
   ]
  },
  {
   "cell_type": "code",
   "execution_count": null,
   "metadata": {},
   "outputs": [],
   "source": [
    "numbers = []\n",
    "strings = []\n",
    "names = [\"John\", \"Eric\", \"Jessica\"]\n",
    "\n",
    "# write your code here\n",
    "numbers.append(1)\n",
    "numbers.append(2)\n",
    "numbers.append(3)\n",
    "\n",
    "strings.append(\"hello\")\n",
    "strings.append(\"world\")\n",
    "\n",
    "second_name = names[1]\n",
    "\n",
    "\n",
    "# this code should write out the filled arrays and the second name in the names list (Eric).\n",
    "print(numbers)\n",
    "print(strings)\n",
    "print(\"The second name on the names list is %s\" % second_name)\n",
    "numbers2=[]\n",
    "\n",
    "numbers2.append(1,2,3, \"hello\",\"world\")\n",
    "\n",
    "print(numbers2)"
   ]
  }
 ],
 "metadata": {
  "kernelspec": {
   "display_name": "Python 3.10.6 64-bit (system)",
   "language": "python",
   "name": "python3"
  },
  "language_info": {
   "codemirror_mode": {
    "name": "ipython",
    "version": 3
   },
   "file_extension": ".py",
   "mimetype": "text/x-python",
   "name": "python",
   "nbconvert_exporter": "python",
   "pygments_lexer": "ipython3",
   "version": "3.10.6"
  },
  "orig_nbformat": 4,
  "vscode": {
   "interpreter": {
    "hash": "153b678b2f7a8cf3f4ae0b3640dd641e7d064b4c764ba4b70fe37c6e052025cd"
   }
  }
 },
 "nbformat": 4,
 "nbformat_minor": 2
}
