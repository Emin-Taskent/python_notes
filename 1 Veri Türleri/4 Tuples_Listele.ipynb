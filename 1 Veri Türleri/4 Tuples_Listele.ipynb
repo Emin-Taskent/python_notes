{
 "cells": [
  {
   "cell_type": "markdown",
   "metadata": {},
   "source": [
    "# Tuple / Demetler"
   ]
  },
  {
   "cell_type": "markdown",
   "metadata": {},
   "source": [
    "Python'da listeler ve demetler birbirine çok benzer, aradaki fark listeler değiştirilebiliyorken demetler değiştirilemeyecen veri türleridir.\n",
    "\n",
    "Listelere göre daha hızlı bir veri tipidir."
   ]
  },
  {
   "cell_type": "code",
   "execution_count": 1,
   "metadata": {},
   "outputs": [
    {
     "name": "stdout",
     "output_type": "stream",
     "text": [
      "<class 'list'>\n",
      "<class 'str'>\n",
      "<class 'tuple'>\n"
     ]
    }
   ],
   "source": [
    "liste=[\"Ahmet\", 23]\n",
    "print(type(liste))\n",
    "\n",
    "\n",
    "demet1=(\"Ahmet\")\n",
    "print(type(demet1))\n",
    "\n",
    "\n",
    "demet2=(\"Ahmet\", 23)\n",
    "print(type(demet2))"
   ]
  },
  {
   "cell_type": "markdown",
   "metadata": {},
   "source": [
    "Listeler **köşeli parantezle**, sözlükler **süslü parantezle**, demetler ise **normal parantez** ile tanımlanır.\n",
    "\n",
    "Demet ile string veri tipi arasındaki fark ise, python normal parantezin içerisine ikinci bir veri tanımlandığında, tanımlanan veriyi kendiliğinden tuple olarak algılar."
   ]
  }
 ],
 "metadata": {
  "kernelspec": {
   "display_name": "Python 3.10.6 64-bit (system)",
   "language": "python",
   "name": "python3"
  },
  "language_info": {
   "codemirror_mode": {
    "name": "ipython",
    "version": 3
   },
   "file_extension": ".py",
   "mimetype": "text/x-python",
   "name": "python",
   "nbconvert_exporter": "python",
   "pygments_lexer": "ipython3",
   "version": "3.10.6"
  },
  "orig_nbformat": 4,
  "vscode": {
   "interpreter": {
    "hash": "153b678b2f7a8cf3f4ae0b3640dd641e7d064b4c764ba4b70fe37c6e052025cd"
   }
  }
 },
 "nbformat": 4,
 "nbformat_minor": 2
}
