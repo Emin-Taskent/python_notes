{
 "cells": [
  {
   "cell_type": "code",
   "execution_count": 63,
   "metadata": {},
   "outputs": [],
   "source": [
    "import pandas as pd\n",
    "import numpy as nm\n",
    "from cmath import log\n",
    "from math import exp"
   ]
  },
  {
   "cell_type": "code",
   "execution_count": 64,
   "metadata": {},
   "outputs": [
    {
     "name": "stdout",
     "output_type": "stream",
     "text": [
      "       Kod  Kapanış (TL)  Günlük Getiri (%) Haftalık Getiri (%)  \\\n",
      "0    ACSEL         47.04              -0.17               -0.51   \n",
      "1     ADEL         33.54               9.97                  14   \n",
      "2    ADESE          1.04              -4.59               11.83   \n",
      "3    AEFES         41.50              -2.26                6.41   \n",
      "4    AFYON          4.38              -1.57               -6.81   \n",
      "..     ...           ...                ...                 ...   \n",
      "475  YUNSA         43.08              -3.10                3.31   \n",
      "476  YYAPI          1.26              -4.55               -4.55   \n",
      "477  YYLGD         19.50               7.38               10.11   \n",
      "478  ZOREN          2.99              -1.32                4.55   \n",
      "479  ZRGYO          3.47              -1.70               -0.29   \n",
      "\n",
      "    Aylık Getiri (%) Yıl İçi Getiri (%)  \n",
      "0              -3.05             163.53  \n",
      "1              27.24               1.57  \n",
      "2              26.83              38.67  \n",
      "3              13.26              49.28  \n",
      "4              20.99              26.96  \n",
      "..               ...                ...  \n",
      "475            25.01             251.39  \n",
      "476            28.57              36.96  \n",
      "477             7.85                  -  \n",
      "478            43.75              80.12  \n",
      "479            11.22               42.8  \n",
      "\n",
      "[480 rows x 6 columns]\n"
     ]
    }
   ],
   "source": [
    "veri=pd.DataFrame(pd.read_excel(\"datasets/hisse.xlsx\"))\n",
    "print(veri)"
   ]
  },
  {
   "cell_type": "code",
   "execution_count": 65,
   "metadata": {},
   "outputs": [
    {
     "name": "stdout",
     "output_type": "stream",
     "text": [
      "0      ACSEL\n",
      "1       ADEL\n",
      "2      ADESE\n",
      "3      AEFES\n",
      "4      AFYON\n",
      "       ...  \n",
      "475    YUNSA\n",
      "476    YYAPI\n",
      "477    YYLGD\n",
      "478    ZOREN\n",
      "479    ZRGYO\n",
      "Name: Kod, Length: 480, dtype: object\n"
     ]
    }
   ],
   "source": [
    "# dataframe'den bir sütun çekme işlemi\n",
    "\n",
    "print(veri[\"Kod\"])"
   ]
  },
  {
   "cell_type": "code",
   "execution_count": 66,
   "metadata": {},
   "outputs": [
    {
     "name": "stdout",
     "output_type": "stream",
     "text": [
      "       Kod  Kapanış (TL)\n",
      "0    ACSEL         47.04\n",
      "1     ADEL         33.54\n",
      "2    ADESE          1.04\n",
      "3    AEFES         41.50\n",
      "4    AFYON          4.38\n",
      "..     ...           ...\n",
      "475  YUNSA         43.08\n",
      "476  YYAPI          1.26\n",
      "477  YYLGD         19.50\n",
      "478  ZOREN          2.99\n",
      "479  ZRGYO          3.47\n",
      "\n",
      "[480 rows x 2 columns]\n"
     ]
    }
   ],
   "source": [
    "# dataframe'den birden falza sütun çekme işleminde bir liste oluşturulur.\n",
    "# İlk köşeli parantez çekilecek olan sütun başlıklarına ait iken diğer köşeli parantez listenindir.\n",
    "\n",
    "print(veri[[\"Kod\", \"Kapanış (TL)\"]])"
   ]
  },
  {
   "cell_type": "code",
   "execution_count": 67,
   "metadata": {},
   "outputs": [
    {
     "name": "stdout",
     "output_type": "stream",
     "text": [
      "     Kod  Kapanış (TL)  Günlük Getiri (%) Haftalık Getiri (%)  \\\n",
      "0  ACSEL         47.04              -0.17               -0.51   \n",
      "1   ADEL         33.54               9.97                  14   \n",
      "2  ADESE          1.04              -4.59               11.83   \n",
      "3  AEFES         41.50              -2.26                6.41   \n",
      "4  AFYON          4.38              -1.57               -6.81   \n",
      "5  AGESA         23.30              -1.60                0.87   \n",
      "\n",
      "  Aylık Getiri (%) Yıl İçi Getiri (%)  \n",
      "0            -3.05             163.53  \n",
      "1            27.24               1.57  \n",
      "2            26.83              38.67  \n",
      "3            13.26              49.28  \n",
      "4            20.99              26.96  \n",
      "5            14.44              13.55  \n"
     ]
    }
   ],
   "source": [
    "# satır çekme işlemi için ise .loc() metodu kullanılır. Tek satır çekilebileceği gibi, range de tanımlanabilir.\n",
    "\n",
    "print(veri.loc[0:5])"
   ]
  },
  {
   "cell_type": "code",
   "execution_count": 68,
   "metadata": {},
   "outputs": [
    {
     "name": "stdout",
     "output_type": "stream",
     "text": [
      "     Kod  Kapanış (TL)  Günlük Getiri (%) Haftalık Getiri (%)  \\\n",
      "0  ACSEL         47.04              -0.17               -0.51   \n",
      "1   ADEL         33.54               9.97                  14   \n",
      "2  ADESE          1.04              -4.59               11.83   \n",
      "3  AEFES         41.50              -2.26                6.41   \n",
      "4  AFYON          4.38              -1.57               -6.81   \n",
      "5  AGESA         23.30              -1.60                0.87   \n",
      "\n",
      "  Aylık Getiri (%) Yıl İçi Getiri (%)  \n",
      "0            -3.05             163.53  \n",
      "1            27.24               1.57  \n",
      "2            26.83              38.67  \n",
      "3            13.26              49.28  \n",
      "4            20.99              26.96  \n",
      "5            14.44              13.55  \n"
     ]
    }
   ],
   "source": [
    "# satır çekme işlemi için ayrıca liste de oluşturulabilir.\n",
    "\n",
    "print(veri.loc[[0,1,2,3,4,5]])"
   ]
  },
  {
   "cell_type": "code",
   "execution_count": 69,
   "metadata": {},
   "outputs": [
    {
     "name": "stdout",
     "output_type": "stream",
     "text": [
      "-0.51\n"
     ]
    }
   ],
   "source": [
    "# .loc() metodu aynı zamanda df'nin belirli bir yerindeki spesifik bir bilgiyi de döndürür.\n",
    "\n",
    "print(veri.loc[0, \"Haftalık Getiri (%)\"])       # Görüldüğü üzere ilk kısım satır, ikinci kısım sütun değerlerini alır."
   ]
  },
  {
   "cell_type": "code",
   "execution_count": 70,
   "metadata": {},
   "outputs": [
    {
     "name": "stdout",
     "output_type": "stream",
     "text": [
      "     Kod Haftalık Getiri (%)\n",
      "0  ACSEL               -0.51\n",
      "1   ADEL                  14\n",
      "2  ADESE               11.83\n",
      "3  AEFES                6.41\n",
      "4  AFYON               -6.81\n",
      "5  AGESA                0.87\n"
     ]
    }
   ],
   "source": [
    "# .loc() metodu aynı zamanda df'nin belirli bir aralıktaki spesifik bilgi bütününü de döndürebilir.\n",
    "\n",
    "print(veri.loc[0:5, [\"Kod\", \"Haftalık Getiri (%)\"]])   \n",
    "\n",
    " "
   ]
  },
  {
   "cell_type": "code",
   "execution_count": 71,
   "metadata": {},
   "outputs": [
    {
     "name": "stdout",
     "output_type": "stream",
     "text": [
      "     Kod  Kapanış (TL)  Günlük Getiri (%) Haftalık Getiri (%)\n",
      "0  ACSEL         47.04              -0.17               -0.51\n",
      "1   ADEL         33.54               9.97                  14\n",
      "2  ADESE          1.04              -4.59               11.83\n",
      "3  AEFES         41.50              -2.26                6.41\n",
      "4  AFYON          4.38              -1.57               -6.81\n",
      "5  AGESA         23.30              -1.60                0.87\n"
     ]
    }
   ],
   "source": [
    "# .loc() metodu aynı zamanda df'nin belirli bir aralıktaki spesifik bilgi bütününü de döndürebilir.\n",
    "\n",
    "print(veri.loc[0:5, \"Kod\" : \"Haftalık Getiri (%)\"])  "
   ]
  },
  {
   "cell_type": "code",
   "execution_count": 72,
   "metadata": {},
   "outputs": [
    {
     "name": "stdout",
     "output_type": "stream",
     "text": [
      "       Kod  Kapanış (TL)  Günlük Getiri (%) Haftalık Getiri (%)  \\\n",
      "0    ACSEL         47.04              -0.17               -0.51   \n",
      "1     ADEL         33.54               9.97                  14   \n",
      "2    ADESE          1.04              -4.59               11.83   \n",
      "3    AEFES         41.50              -2.26                6.41   \n",
      "4    AFYON          4.38              -1.57               -6.81   \n",
      "..     ...           ...                ...                 ...   \n",
      "475  YUNSA         43.08              -3.10                3.31   \n",
      "476  YYAPI          1.26              -4.55               -4.55   \n",
      "477  YYLGD         19.50               7.38               10.11   \n",
      "478  ZOREN          2.99              -1.32                4.55   \n",
      "479  ZRGYO          3.47              -1.70               -0.29   \n",
      "\n",
      "    Aylık Getiri (%) Yıl İçi Getiri (%)  Karekök Fiyat  \n",
      "0              -3.05             163.53       6.858571  \n",
      "1              27.24               1.57       5.791373  \n",
      "2              26.83              38.67       1.019804  \n",
      "3              13.26              49.28       6.442049  \n",
      "4              20.99              26.96       2.092845  \n",
      "..               ...                ...            ...  \n",
      "475            25.01             251.39       6.563536  \n",
      "476            28.57              36.96       1.122497  \n",
      "477             7.85                  -       4.415880  \n",
      "478            43.75              80.12       1.729162  \n",
      "479            11.22               42.8       1.862794  \n",
      "\n",
      "[480 rows x 7 columns]\n"
     ]
    }
   ],
   "source": [
    "# veri içerisine olmayan bir sütun eklemek istenildiğinde ise;\n",
    "\n",
    "\n",
    "veri[\"Karekök Fiyat\"]=nm.sqrt(veri[\"Kapanış (TL)\"])\n",
    "\n",
    "print(veri)"
   ]
  },
  {
   "cell_type": "code",
   "execution_count": null,
   "metadata": {},
   "outputs": [],
   "source": [
    "# veri içerisine olmayan bir sütunu spesifik bir yere eklemek istediğimizde ise;\n",
    "\n",
    "from cmath import log10\n",
    "\n",
    "\n",
    "veri.insert(2, column=\"Karekök2 Fiyat\", value=nm.sqrt(veri[\"Kapanış (TL)\"]))\n",
    "\n"
   ]
  },
  {
   "cell_type": "code",
   "execution_count": 81,
   "metadata": {},
   "outputs": [],
   "source": [
    "veri.insert(3, column=\"Log Fiyat\", value=(numpy.log(veri[\"Kapanış (TL)\"])))"
   ]
  },
  {
   "cell_type": "code",
   "execution_count": 82,
   "metadata": {},
   "outputs": [
    {
     "name": "stdout",
     "output_type": "stream",
     "text": [
      "       Kod  Kapanış (TL)  Karekök2 Fiyat  Log Fiyat  Günlük Getiri (%)  \\\n",
      "0    ACSEL         47.04        6.858571   3.850998              -0.17   \n",
      "1     ADEL         33.54        5.791373   3.512739               9.97   \n",
      "2    ADESE          1.04        1.019804   0.039221              -4.59   \n",
      "3    AEFES         41.50        6.442049   3.725693              -2.26   \n",
      "4    AFYON          4.38        2.092845   1.477049              -1.57   \n",
      "..     ...           ...             ...        ...                ...   \n",
      "475  YUNSA         43.08        6.563536   3.763059              -3.10   \n",
      "476  YYAPI          1.26        1.122497   0.231112              -4.55   \n",
      "477  YYLGD         19.50        4.415880   2.970414               7.38   \n",
      "478  ZOREN          2.99        1.729162   1.095273              -1.32   \n",
      "479  ZRGYO          3.47        1.862794   1.244155              -1.70   \n",
      "\n",
      "    Haftalık Getiri (%) Aylık Getiri (%) Yıl İçi Getiri (%)  Karekök Fiyat  \n",
      "0                 -0.51            -3.05             163.53       6.858571  \n",
      "1                    14            27.24               1.57       5.791373  \n",
      "2                 11.83            26.83              38.67       1.019804  \n",
      "3                  6.41            13.26              49.28       6.442049  \n",
      "4                 -6.81            20.99              26.96       2.092845  \n",
      "..                  ...              ...                ...            ...  \n",
      "475                3.31            25.01             251.39       6.563536  \n",
      "476               -4.55            28.57              36.96       1.122497  \n",
      "477               10.11             7.85                  -       4.415880  \n",
      "478                4.55            43.75              80.12       1.729162  \n",
      "479               -0.29            11.22               42.8       1.862794  \n",
      "\n",
      "[480 rows x 9 columns]\n"
     ]
    }
   ],
   "source": [
    "print(veri)"
   ]
  },
  {
   "cell_type": "code",
   "execution_count": 84,
   "metadata": {},
   "outputs": [
    {
     "data": {
      "text/html": [
       "<div>\n",
       "<style scoped>\n",
       "    .dataframe tbody tr th:only-of-type {\n",
       "        vertical-align: middle;\n",
       "    }\n",
       "\n",
       "    .dataframe tbody tr th {\n",
       "        vertical-align: top;\n",
       "    }\n",
       "\n",
       "    .dataframe thead th {\n",
       "        text-align: right;\n",
       "    }\n",
       "</style>\n",
       "<table border=\"1\" class=\"dataframe\">\n",
       "  <thead>\n",
       "    <tr style=\"text-align: right;\">\n",
       "      <th></th>\n",
       "      <th>Kod</th>\n",
       "      <th>Kapanış (TL)</th>\n",
       "      <th>Log Fiyat</th>\n",
       "      <th>Günlük Getiri (%)</th>\n",
       "      <th>Haftalık Getiri (%)</th>\n",
       "      <th>Aylık Getiri (%)</th>\n",
       "      <th>Yıl İçi Getiri (%)</th>\n",
       "      <th>Karekök Fiyat</th>\n",
       "    </tr>\n",
       "  </thead>\n",
       "  <tbody>\n",
       "    <tr>\n",
       "      <th>0</th>\n",
       "      <td>ACSEL</td>\n",
       "      <td>47.04</td>\n",
       "      <td>3.850998</td>\n",
       "      <td>-0.17</td>\n",
       "      <td>-0.51</td>\n",
       "      <td>-3.05</td>\n",
       "      <td>163.53</td>\n",
       "      <td>6.858571</td>\n",
       "    </tr>\n",
       "    <tr>\n",
       "      <th>1</th>\n",
       "      <td>ADEL</td>\n",
       "      <td>33.54</td>\n",
       "      <td>3.512739</td>\n",
       "      <td>9.97</td>\n",
       "      <td>14</td>\n",
       "      <td>27.24</td>\n",
       "      <td>1.57</td>\n",
       "      <td>5.791373</td>\n",
       "    </tr>\n",
       "    <tr>\n",
       "      <th>2</th>\n",
       "      <td>ADESE</td>\n",
       "      <td>1.04</td>\n",
       "      <td>0.039221</td>\n",
       "      <td>-4.59</td>\n",
       "      <td>11.83</td>\n",
       "      <td>26.83</td>\n",
       "      <td>38.67</td>\n",
       "      <td>1.019804</td>\n",
       "    </tr>\n",
       "    <tr>\n",
       "      <th>3</th>\n",
       "      <td>AEFES</td>\n",
       "      <td>41.50</td>\n",
       "      <td>3.725693</td>\n",
       "      <td>-2.26</td>\n",
       "      <td>6.41</td>\n",
       "      <td>13.26</td>\n",
       "      <td>49.28</td>\n",
       "      <td>6.442049</td>\n",
       "    </tr>\n",
       "    <tr>\n",
       "      <th>4</th>\n",
       "      <td>AFYON</td>\n",
       "      <td>4.38</td>\n",
       "      <td>1.477049</td>\n",
       "      <td>-1.57</td>\n",
       "      <td>-6.81</td>\n",
       "      <td>20.99</td>\n",
       "      <td>26.96</td>\n",
       "      <td>2.092845</td>\n",
       "    </tr>\n",
       "    <tr>\n",
       "      <th>...</th>\n",
       "      <td>...</td>\n",
       "      <td>...</td>\n",
       "      <td>...</td>\n",
       "      <td>...</td>\n",
       "      <td>...</td>\n",
       "      <td>...</td>\n",
       "      <td>...</td>\n",
       "      <td>...</td>\n",
       "    </tr>\n",
       "    <tr>\n",
       "      <th>475</th>\n",
       "      <td>YUNSA</td>\n",
       "      <td>43.08</td>\n",
       "      <td>3.763059</td>\n",
       "      <td>-3.10</td>\n",
       "      <td>3.31</td>\n",
       "      <td>25.01</td>\n",
       "      <td>251.39</td>\n",
       "      <td>6.563536</td>\n",
       "    </tr>\n",
       "    <tr>\n",
       "      <th>476</th>\n",
       "      <td>YYAPI</td>\n",
       "      <td>1.26</td>\n",
       "      <td>0.231112</td>\n",
       "      <td>-4.55</td>\n",
       "      <td>-4.55</td>\n",
       "      <td>28.57</td>\n",
       "      <td>36.96</td>\n",
       "      <td>1.122497</td>\n",
       "    </tr>\n",
       "    <tr>\n",
       "      <th>477</th>\n",
       "      <td>YYLGD</td>\n",
       "      <td>19.50</td>\n",
       "      <td>2.970414</td>\n",
       "      <td>7.38</td>\n",
       "      <td>10.11</td>\n",
       "      <td>7.85</td>\n",
       "      <td>-</td>\n",
       "      <td>4.415880</td>\n",
       "    </tr>\n",
       "    <tr>\n",
       "      <th>478</th>\n",
       "      <td>ZOREN</td>\n",
       "      <td>2.99</td>\n",
       "      <td>1.095273</td>\n",
       "      <td>-1.32</td>\n",
       "      <td>4.55</td>\n",
       "      <td>43.75</td>\n",
       "      <td>80.12</td>\n",
       "      <td>1.729162</td>\n",
       "    </tr>\n",
       "    <tr>\n",
       "      <th>479</th>\n",
       "      <td>ZRGYO</td>\n",
       "      <td>3.47</td>\n",
       "      <td>1.244155</td>\n",
       "      <td>-1.70</td>\n",
       "      <td>-0.29</td>\n",
       "      <td>11.22</td>\n",
       "      <td>42.8</td>\n",
       "      <td>1.862794</td>\n",
       "    </tr>\n",
       "  </tbody>\n",
       "</table>\n",
       "<p>480 rows × 8 columns</p>\n",
       "</div>"
      ],
      "text/plain": [
       "       Kod  Kapanış (TL)  Log Fiyat  Günlük Getiri (%) Haftalık Getiri (%)  \\\n",
       "0    ACSEL         47.04   3.850998              -0.17               -0.51   \n",
       "1     ADEL         33.54   3.512739               9.97                  14   \n",
       "2    ADESE          1.04   0.039221              -4.59               11.83   \n",
       "3    AEFES         41.50   3.725693              -2.26                6.41   \n",
       "4    AFYON          4.38   1.477049              -1.57               -6.81   \n",
       "..     ...           ...        ...                ...                 ...   \n",
       "475  YUNSA         43.08   3.763059              -3.10                3.31   \n",
       "476  YYAPI          1.26   0.231112              -4.55               -4.55   \n",
       "477  YYLGD         19.50   2.970414               7.38               10.11   \n",
       "478  ZOREN          2.99   1.095273              -1.32                4.55   \n",
       "479  ZRGYO          3.47   1.244155              -1.70               -0.29   \n",
       "\n",
       "    Aylık Getiri (%) Yıl İçi Getiri (%)  Karekök Fiyat  \n",
       "0              -3.05             163.53       6.858571  \n",
       "1              27.24               1.57       5.791373  \n",
       "2              26.83              38.67       1.019804  \n",
       "3              13.26              49.28       6.442049  \n",
       "4              20.99              26.96       2.092845  \n",
       "..               ...                ...            ...  \n",
       "475            25.01             251.39       6.563536  \n",
       "476            28.57              36.96       1.122497  \n",
       "477             7.85                  -       4.415880  \n",
       "478            43.75              80.12       1.729162  \n",
       "479            11.22               42.8       1.862794  \n",
       "\n",
       "[480 rows x 8 columns]"
      ]
     },
     "execution_count": 84,
     "metadata": {},
     "output_type": "execute_result"
    }
   ],
   "source": [
    "# Kalıcı olmadan sütun silmek istenirse .drop() metodu kullanılır. .drop() metodu axis= ile çalışır. 0 değeri satırdan, 1 değeri ise sütundan siler.\n",
    "# Değeri bulamazsa hata verir.\n",
    "\n",
    "veri.drop(\"Karekök2 Fiyat\", axis=1)\n",
    "\n"
   ]
  },
  {
   "cell_type": "code",
   "execution_count": 85,
   "metadata": {},
   "outputs": [
    {
     "name": "stdout",
     "output_type": "stream",
     "text": [
      "       Kod  Kapanış (TL)  Karekök2 Fiyat  Log Fiyat  Günlük Getiri (%)  \\\n",
      "0    ACSEL         47.04        6.858571   3.850998              -0.17   \n",
      "1     ADEL         33.54        5.791373   3.512739               9.97   \n",
      "2    ADESE          1.04        1.019804   0.039221              -4.59   \n",
      "3    AEFES         41.50        6.442049   3.725693              -2.26   \n",
      "4    AFYON          4.38        2.092845   1.477049              -1.57   \n",
      "..     ...           ...             ...        ...                ...   \n",
      "475  YUNSA         43.08        6.563536   3.763059              -3.10   \n",
      "476  YYAPI          1.26        1.122497   0.231112              -4.55   \n",
      "477  YYLGD         19.50        4.415880   2.970414               7.38   \n",
      "478  ZOREN          2.99        1.729162   1.095273              -1.32   \n",
      "479  ZRGYO          3.47        1.862794   1.244155              -1.70   \n",
      "\n",
      "    Haftalık Getiri (%) Aylık Getiri (%) Yıl İçi Getiri (%)  Karekök Fiyat  \n",
      "0                 -0.51            -3.05             163.53       6.858571  \n",
      "1                    14            27.24               1.57       5.791373  \n",
      "2                 11.83            26.83              38.67       1.019804  \n",
      "3                  6.41            13.26              49.28       6.442049  \n",
      "4                 -6.81            20.99              26.96       2.092845  \n",
      "..                  ...              ...                ...            ...  \n",
      "475                3.31            25.01             251.39       6.563536  \n",
      "476               -4.55            28.57              36.96       1.122497  \n",
      "477               10.11             7.85                  -       4.415880  \n",
      "478                4.55            43.75              80.12       1.729162  \n",
      "479               -0.29            11.22               42.8       1.862794  \n",
      "\n",
      "[480 rows x 9 columns]\n"
     ]
    }
   ],
   "source": [
    "print(veri)     # verinin orjinalinde silmedi, eğer ki silinmiş halini görmek istersen yeni bir değişken tanımlamak gerekir."
   ]
  },
  {
   "cell_type": "code",
   "execution_count": 86,
   "metadata": {},
   "outputs": [
    {
     "name": "stdout",
     "output_type": "stream",
     "text": [
      "       Kod  Kapanış (TL)  Log Fiyat  Günlük Getiri (%) Haftalık Getiri (%)  \\\n",
      "0    ACSEL         47.04   3.850998              -0.17               -0.51   \n",
      "1     ADEL         33.54   3.512739               9.97                  14   \n",
      "2    ADESE          1.04   0.039221              -4.59               11.83   \n",
      "3    AEFES         41.50   3.725693              -2.26                6.41   \n",
      "4    AFYON          4.38   1.477049              -1.57               -6.81   \n",
      "..     ...           ...        ...                ...                 ...   \n",
      "475  YUNSA         43.08   3.763059              -3.10                3.31   \n",
      "476  YYAPI          1.26   0.231112              -4.55               -4.55   \n",
      "477  YYLGD         19.50   2.970414               7.38               10.11   \n",
      "478  ZOREN          2.99   1.095273              -1.32                4.55   \n",
      "479  ZRGYO          3.47   1.244155              -1.70               -0.29   \n",
      "\n",
      "    Aylık Getiri (%) Yıl İçi Getiri (%)  Karekök Fiyat  \n",
      "0              -3.05             163.53       6.858571  \n",
      "1              27.24               1.57       5.791373  \n",
      "2              26.83              38.67       1.019804  \n",
      "3              13.26              49.28       6.442049  \n",
      "4              20.99              26.96       2.092845  \n",
      "..               ...                ...            ...  \n",
      "475            25.01             251.39       6.563536  \n",
      "476            28.57              36.96       1.122497  \n",
      "477             7.85                  -       4.415880  \n",
      "478            43.75              80.12       1.729162  \n",
      "479            11.22               42.8       1.862794  \n",
      "\n",
      "[480 rows x 8 columns]\n"
     ]
    }
   ],
   "source": [
    "veri2= veri.drop(\"Karekök2 Fiyat\", axis=1)\n",
    "\n",
    "print(veri2)"
   ]
  },
  {
   "cell_type": "code",
   "execution_count": null,
   "metadata": {},
   "outputs": [],
   "source": []
  }
 ],
 "metadata": {
  "kernelspec": {
   "display_name": "Python 3.10.6 64-bit (system)",
   "language": "python",
   "name": "python3"
  },
  "language_info": {
   "codemirror_mode": {
    "name": "ipython",
    "version": 3
   },
   "file_extension": ".py",
   "mimetype": "text/x-python",
   "name": "python",
   "nbconvert_exporter": "python",
   "pygments_lexer": "ipython3",
   "version": "3.10.6"
  },
  "orig_nbformat": 4,
  "vscode": {
   "interpreter": {
    "hash": "153b678b2f7a8cf3f4ae0b3640dd641e7d064b4c764ba4b70fe37c6e052025cd"
   }
  }
 },
 "nbformat": 4,
 "nbformat_minor": 2
}
