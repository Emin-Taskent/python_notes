{
 "cells": [
  {
   "cell_type": "markdown",
   "metadata": {},
   "source": [
    "### Birden fazla tabloyu birbiri ile birleştirme işlemine join denir."
   ]
  },
  {
   "cell_type": "code",
   "execution_count": 2,
   "metadata": {},
   "outputs": [],
   "source": [
    "import pandas as pd"
   ]
  },
  {
   "cell_type": "code",
   "execution_count": 5,
   "metadata": {},
   "outputs": [],
   "source": [
    "seri1=pd.DataFrame({\n",
    "    \"Sehir\" : [\"Ankara\", \"İstanbul\", \"İzmir\", \"Eskisehir\"],\n",
    "    \"Sıcaklık\" : [15,20,35,30]\n",
    "})\n",
    "\n",
    "seri2=pd.DataFrame({\n",
    "    \"Sehir\" : [\"Ankara\", \"İstanbul\", \"İzmir\", \"Mersin\"],\n",
    "    \"Hava_Durumu\" : [\"Yağmurlu\", \"Bulutlu\", \"Açık\", \"Kapalı\"]\n",
    "})\n",
    "\n"
   ]
  },
  {
   "cell_type": "code",
   "execution_count": 6,
   "metadata": {},
   "outputs": [
    {
     "name": "stdout",
     "output_type": "stream",
     "text": [
      "      Sehir  Sıcaklık Hava_Durumu\n",
      "0    Ankara        15    Yağmurlu\n",
      "1  İstanbul        20     Bulutlu\n",
      "2     İzmir        35        Açık\n"
     ]
    }
   ],
   "source": [
    "sonuc1=pd.merge(seri1,seri2,on=\"Sehir\")\n",
    "print(sonuc1)\n",
    "\n",
    "# Sehir üzerinden \"ORTAK\" bir noktada birleştirmeye çalıştığımız ortak elemanların birleşiminin çıktısını verdi. Küme gibi de düşünülebilir."
   ]
  },
  {
   "cell_type": "code",
   "execution_count": 8,
   "metadata": {},
   "outputs": [
    {
     "name": "stdout",
     "output_type": "stream",
     "text": [
      "      Sehir  Sıcaklık Hava_Durumu\n",
      "0    Ankara        15    Yağmurlu\n",
      "1  İstanbul        20     Bulutlu\n",
      "2     İzmir        35        Açık\n"
     ]
    }
   ],
   "source": [
    "# Inner join; (keşisim manasına gelmektedir.) Bunun için .merge() metodunun içerisine \"how=\" parametresi gönderilir.\n",
    "\n",
    "sonuc2=pd.merge(seri1,seri2,on=\"Sehir\",how=\"inner\")\n",
    "print(sonuc2)\n",
    "\n",
    "# Görüldüğü üzere hiç bir parametre gönderilmediğinde, \"how=\" parametresi oromatik olarak inner seçilmiş olur.\n",
    "\n"
   ]
  },
  {
   "cell_type": "code",
   "execution_count": 9,
   "metadata": {},
   "outputs": [
    {
     "name": "stdout",
     "output_type": "stream",
     "text": [
      "       Sehir  Sıcaklık Hava_Durumu\n",
      "0     Ankara        15    Yağmurlu\n",
      "1   İstanbul        20     Bulutlu\n",
      "2      İzmir        35        Açık\n",
      "3  Eskisehir        30         NaN\n"
     ]
    }
   ],
   "source": [
    "# Left join; soldaki tablonun değişkenlerini sağdaki tabloda eşleşen değişkenlerle birleştirir.\n",
    "\n",
    "sonuc3=pd.merge(seri1,seri2,on=\"Sehir\",how=\"left\")          # Olmayan değerler \"NaN\" olarak gösterilir.\n",
    "print(sonuc3)"
   ]
  },
  {
   "cell_type": "code",
   "execution_count": 10,
   "metadata": {},
   "outputs": [
    {
     "name": "stdout",
     "output_type": "stream",
     "text": [
      "      Sehir  Sıcaklık Hava_Durumu\n",
      "0    Ankara      15.0    Yağmurlu\n",
      "1  İstanbul      20.0     Bulutlu\n",
      "2     İzmir      35.0        Açık\n",
      "3    Mersin       NaN      Kapalı\n"
     ]
    }
   ],
   "source": [
    "# Right join; sağdaki tablonun değişkenlerini soldaki tabloda eşleşen değişkenlerle birleştirir.\n",
    "\n",
    "sonuc4=pd.merge(seri1,seri2,on=\"Sehir\",how=\"right\")          # Olmayan değerler \"NaN\" olarak gösterilir.\n",
    "print(sonuc4)"
   ]
  },
  {
   "cell_type": "code",
   "execution_count": 12,
   "metadata": {},
   "outputs": [
    {
     "name": "stdout",
     "output_type": "stream",
     "text": [
      "       Sehir  Sıcaklık Hava_Durumu\n",
      "0     Ankara      15.0    Yağmurlu\n",
      "1   İstanbul      20.0     Bulutlu\n",
      "2      İzmir      35.0        Açık\n",
      "3  Eskisehir      30.0         NaN\n",
      "4     Mersin       NaN      Kapalı\n"
     ]
    }
   ],
   "source": [
    "# Outer join; tablolardaki bütün eşleşen bütün değişkenleri getirir. Eşleşmeyen değişkenler \"NaN\" olarak gösterilir.\n",
    "\n",
    "sonuc5=pd.merge(seri1,seri2,on=\"Sehir\",how=\"outer\")\n",
    "print(sonuc5)"
   ]
  },
  {
   "cell_type": "code",
   "execution_count": 21,
   "metadata": {},
   "outputs": [
    {
     "name": "stdout",
     "output_type": "stream",
     "text": [
      "       Sehir  Sıcaklık\n",
      "0     Ankara        15\n",
      "1   İstanbul        20\n",
      "2      İzmir        35\n",
      "3  Eskisehir        30\n",
      "\n",
      "       Sehir Hava_Durumu\n",
      "0    Ankara    Yağmurlu\n",
      "1  İstanbul     Bulutlu\n",
      "2     İzmir        Açık\n",
      "3    Mersin      Kapalı\n"
     ]
    }
   ],
   "source": [
    "print(seri1)\n",
    "print(\"\\n\",seri2)"
   ]
  },
  {
   "cell_type": "code",
   "execution_count": 13,
   "metadata": {},
   "outputs": [
    {
     "name": "stdout",
     "output_type": "stream",
     "text": [
      "       Sehir  Sıcaklık Hava_Durumu\n",
      "0     Ankara        15    Yağmurlu\n",
      "1   İstanbul        20     Bulutlu\n",
      "2      İzmir        35        Açık\n",
      "3  Eskisehir        30         NaN\n"
     ]
    }
   ],
   "source": [
    "sonuc_1=pd.merge(seri1,seri2,on=\"Sehir\",how=\"left\")\n",
    "print(sonuc_1)\n"
   ]
  },
  {
   "cell_type": "code",
   "execution_count": 16,
   "metadata": {},
   "outputs": [
    {
     "name": "stdout",
     "output_type": "stream",
     "text": [
      "       Sehir Hava_Durumu  Sıcaklık\n",
      "0     Ankara    Yağmurlu        15\n",
      "1   İstanbul     Bulutlu        20\n",
      "2      İzmir        Açık        35\n",
      "3  Eskisehir         NaN        30\n"
     ]
    }
   ],
   "source": [
    "sonuc_2=pd.merge(seri2,seri1,on=\"Sehir\",how=\"right\")\n",
    "print(sonuc_2)"
   ]
  },
  {
   "cell_type": "markdown",
   "metadata": {},
   "source": [
    "### Yukarıda görüldüğü üzere sırasıyla;\n",
    "\n",
    "        1. tablo ve 2. Tablonun **left joini** ile\n",
    "        2. tablo ve 1. tablonun **right joini** birbirine EŞİTTİR."
   ]
  }
 ],
 "metadata": {
  "kernelspec": {
   "display_name": "Python 3.10.6 64-bit (system)",
   "language": "python",
   "name": "python3"
  },
  "language_info": {
   "codemirror_mode": {
    "name": "ipython",
    "version": 3
   },
   "file_extension": ".py",
   "mimetype": "text/x-python",
   "name": "python",
   "nbconvert_exporter": "python",
   "pygments_lexer": "ipython3",
   "version": "3.10.6"
  },
  "orig_nbformat": 4,
  "vscode": {
   "interpreter": {
    "hash": "153b678b2f7a8cf3f4ae0b3640dd641e7d064b4c764ba4b70fe37c6e052025cd"
   }
  }
 },
 "nbformat": 4,
 "nbformat_minor": 2
}
