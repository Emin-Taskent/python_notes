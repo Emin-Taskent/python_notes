{
 "cells": [
  {
   "cell_type": "code",
   "execution_count": 4,
   "metadata": {},
   "outputs": [],
   "source": [
    "import pandas as pd\n",
    "import numpy as np"
   ]
  },
  {
   "cell_type": "code",
   "execution_count": 3,
   "metadata": {},
   "outputs": [
    {
     "name": "stdout",
     "output_type": "stream",
     "text": [
      "                  Ad_Soyad           Tc Cinsiyet  Yas  \\\n",
      "0            Masal Elkıran  21416079369    Kadın   34   \n",
      "1              Cem Gözağaç  98898378538    Erkek   35   \n",
      "2           Veli Dinçaslan  94849292716    Erkek   56   \n",
      "3          Niyazi Yeniçeri  42507927276    Erkek   20   \n",
      "4       Ayten Hacıeminoglu  65217432309    Kadın   58   \n",
      "...                    ...          ...      ...  ...   \n",
      "4995         Yüksel İdemen  64987043272    Kadın   47   \n",
      "4996          Hediye Aktop  78180125827    Kadın   49   \n",
      "4997  Müzeyyen Çaglarırmak  87108847422    Kadın   38   \n",
      "4998         Fatmanur Nuri  75338889250    Kadın   48   \n",
      "4999          Kerim Güngeç  61909591237    Erkek   25   \n",
      "\n",
      "                                     Mail         Tel          İl  \\\n",
      "0          m.elkıran@anlaşılırekonomi.com  5063388897     Ardahan   \n",
      "1          c.gözağaç@anlaşılırekonomi.com  5282384749     Isparta   \n",
      "2        v.dinçaslan@anlaşılırekonomi.com  5033320406     Trabzon   \n",
      "3         n.yeniçeri@anlaşılırekonomi.com  5052380221  Diyarbakır   \n",
      "4     a.hacıeminoglu@anlaşılırekonomi.com  5133321842      Mardin   \n",
      "...                                   ...         ...         ...   \n",
      "4995        y.idemen@anlaşılırekonomi.com  5223333180   Eskişehir   \n",
      "4996         h.aktop@anlaşılırekonomi.com  5293314916     Isparta   \n",
      "4997   m.çaglarırmak@anlaşılırekonomi.com  5223373147       Siirt   \n",
      "4998          f.nuri@anlaşılırekonomi.com  5113318203       Sivas   \n",
      "4999        k.güngeç@anlaşılırekonomi.com  5063355159      Ankara   \n",
      "\n",
      "                İlce      Kan                               Bolum  \n",
      "0     Ardahan Merkez   B Rh -          İç Hastalıkları (Dahiliye)  \n",
      "1             Atabey   B Rh -                      Tıbbi Onkoloji  \n",
      "2           Akçaabat   A Rh -                 Transfüzyon Merkezi  \n",
      "3             Bismil  AB Rh -                 Transfüzyon Merkezi  \n",
      "4              Derik   A Rh -                Böbrek Nakli Merkezi  \n",
      "...              ...      ...                                 ...  \n",
      "4995         Günyüzü   A Rh -       Kalp ve Damar Cerrahisi (KVC)  \n",
      "4996   Şarkikaraağaç   B Rh +                   Beslenme ve Diyet  \n",
      "4997         Pervari   A Rh -  Kozmetik Dermatoloji (Kozmetoloji)  \n",
      "4998           Hafik  AB Rh -                  Psikoloji (Klinik)  \n",
      "4999        Keçiören   A Rh +             Robotik Cerrahi Merkezi  \n",
      "\n",
      "[5000 rows x 10 columns]\n"
     ]
    }
   ],
   "source": [
    "veri=pd.DataFrame(pd.read_excel(\"C:/Users/Emin Taşkent/Desktop/hastane.xlsx\"))\n",
    "print(veri)"
   ]
  },
  {
   "cell_type": "code",
   "execution_count": 18,
   "metadata": {},
   "outputs": [
    {
     "name": "stdout",
     "output_type": "stream",
     "text": [
      "Cinsiyet      Erkek      Kadın\n",
      "Yas       45.282931  45.575218\n"
     ]
    }
   ],
   "source": [
    "# Pivot Table, büyük bir tablo üzerinden özet bir tablo çıkarmamızı sağlayan bir tablo türüdür.\n",
    "\n",
    "veri2=veri.pivot_table(values=\"Yas\", columns=\"Cinsiyet\", aggfunc=np.mean)\n",
    "\n",
    "print(veri2)"
   ]
  },
  {
   "cell_type": "code",
   "execution_count": 15,
   "metadata": {},
   "outputs": [
    {
     "name": "stdout",
     "output_type": "stream",
     "text": [
      "Cinsiyet  Erkek  Kadın\n",
      "Yas        2361   2639\n",
      "\n",
      " Cinsiyet   Erkek   Kadın\n",
      "Yas       106913  120273\n"
     ]
    }
   ],
   "source": [
    "# Kaç değer olduğunu döndürmek istersek;\n",
    "\n",
    "veri3=veri.pivot_table(values=\"Yas\", columns=\"Cinsiyet\", aggfunc=len)\n",
    "\n",
    "# Yaşları toplamak istersen\n",
    "\n",
    "veri4=veri.pivot_table(values=\"Yas\", columns=\"Cinsiyet\", aggfunc=sum)\n",
    "\n",
    "print(veri3)\n",
    "print(\"\\n\",veri4)"
   ]
  },
  {
   "cell_type": "code",
   "execution_count": 22,
   "metadata": {},
   "outputs": [
    {
     "name": "stdout",
     "output_type": "stream",
     "text": [
      "Cinsiyet      Erkek                                                        \\\n",
      "Kan          0 Rh +     0 Rh -    A Rh +     A Rh -    AB Rh +    AB Rh -   \n",
      "Yas       45.695971  45.371336  44.83908  44.823529  44.527586  46.693603   \n",
      "\n",
      "Cinsiyet                            Kadın                                   \\\n",
      "Kan          B Rh +     B Rh -     0 Rh +     0 Rh -     A Rh +     A Rh -   \n",
      "Yas       44.758065  45.533123  44.312865  46.613861  45.674121  46.728435   \n",
      "\n",
      "Cinsiyet                                             \n",
      "Kan         AB Rh +   AB Rh -     B Rh +     B Rh -  \n",
      "Yas       45.387574  46.10951  45.084302  44.902655  \n"
     ]
    },
    {
     "data": {
      "text/html": [
       "<div>\n",
       "<style scoped>\n",
       "    .dataframe tbody tr th:only-of-type {\n",
       "        vertical-align: middle;\n",
       "    }\n",
       "\n",
       "    .dataframe tbody tr th {\n",
       "        vertical-align: top;\n",
       "    }\n",
       "\n",
       "    .dataframe thead tr th {\n",
       "        text-align: left;\n",
       "    }\n",
       "</style>\n",
       "<table border=\"1\" class=\"dataframe\">\n",
       "  <thead>\n",
       "    <tr>\n",
       "      <th>Cinsiyet</th>\n",
       "      <th colspan=\"8\" halign=\"left\">Erkek</th>\n",
       "      <th colspan=\"8\" halign=\"left\">Kadın</th>\n",
       "    </tr>\n",
       "    <tr>\n",
       "      <th>Kan</th>\n",
       "      <th>0 Rh +</th>\n",
       "      <th>0 Rh -</th>\n",
       "      <th>A Rh +</th>\n",
       "      <th>A Rh -</th>\n",
       "      <th>AB Rh +</th>\n",
       "      <th>AB Rh -</th>\n",
       "      <th>B Rh +</th>\n",
       "      <th>B Rh -</th>\n",
       "      <th>0 Rh +</th>\n",
       "      <th>0 Rh -</th>\n",
       "      <th>A Rh +</th>\n",
       "      <th>A Rh -</th>\n",
       "      <th>AB Rh +</th>\n",
       "      <th>AB Rh -</th>\n",
       "      <th>B Rh +</th>\n",
       "      <th>B Rh -</th>\n",
       "    </tr>\n",
       "  </thead>\n",
       "  <tbody>\n",
       "    <tr>\n",
       "      <th>Yas</th>\n",
       "      <td>45.695971</td>\n",
       "      <td>45.371336</td>\n",
       "      <td>44.83908</td>\n",
       "      <td>44.823529</td>\n",
       "      <td>44.527586</td>\n",
       "      <td>46.693603</td>\n",
       "      <td>44.758065</td>\n",
       "      <td>45.533123</td>\n",
       "      <td>44.312865</td>\n",
       "      <td>46.613861</td>\n",
       "      <td>45.674121</td>\n",
       "      <td>46.728435</td>\n",
       "      <td>45.387574</td>\n",
       "      <td>46.10951</td>\n",
       "      <td>45.084302</td>\n",
       "      <td>44.902655</td>\n",
       "    </tr>\n",
       "  </tbody>\n",
       "</table>\n",
       "</div>"
      ],
      "text/plain": [
       "Cinsiyet      Erkek                                                        \\\n",
       "Kan          0 Rh +     0 Rh -    A Rh +     A Rh -    AB Rh +    AB Rh -   \n",
       "Yas       45.695971  45.371336  44.83908  44.823529  44.527586  46.693603   \n",
       "\n",
       "Cinsiyet                            Kadın                                   \\\n",
       "Kan          B Rh +     B Rh -     0 Rh +     0 Rh -     A Rh +     A Rh -   \n",
       "Yas       44.758065  45.533123  44.312865  46.613861  45.674121  46.728435   \n",
       "\n",
       "Cinsiyet                                             \n",
       "Kan         AB Rh +   AB Rh -     B Rh +     B Rh -  \n",
       "Yas       45.387574  46.10951  45.084302  44.902655  "
      ]
     },
     "metadata": {},
     "output_type": "display_data"
    }
   ],
   "source": [
    "# Cinsiyetin yanına bir parametre daha eklemek istersek;\n",
    "\n",
    "veri5=veri.pivot_table(values=\"Yas\", columns=[\"Cinsiyet\",\"Kan\"], aggfunc=np.mean)\n",
    "print(veri5)\n",
    "display(veri5)"
   ]
  },
  {
   "cell_type": "code",
   "execution_count": 23,
   "metadata": {},
   "outputs": [
    {
     "name": "stdout",
     "output_type": "stream",
     "text": [
      "                        Yas\n",
      "Cinsiyet Kan               \n",
      "Erkek    0 Rh +   45.695971\n",
      "         0 Rh -   45.371336\n",
      "         A Rh +   44.839080\n",
      "         A Rh -   44.823529\n",
      "         AB Rh +  44.527586\n",
      "         AB Rh -  46.693603\n",
      "         B Rh +   44.758065\n",
      "         B Rh -   45.533123\n",
      "Kadın    0 Rh +   44.312865\n",
      "         0 Rh -   46.613861\n",
      "         A Rh +   45.674121\n",
      "         A Rh -   46.728435\n",
      "         AB Rh +  45.387574\n",
      "         AB Rh -  46.109510\n",
      "         B Rh +   45.084302\n",
      "         B Rh -   44.902655\n"
     ]
    }
   ],
   "source": [
    "# \"index=\"\" parametresi ile satır olarak da yazdırabiliriz.\n",
    "\n",
    "veri6=veri.pivot_table(values=\"Yas\", index=[\"Cinsiyet\",\"Kan\"], aggfunc=np.mean)\n",
    "print(veri6)"
   ]
  },
  {
   "cell_type": "code",
   "execution_count": 24,
   "metadata": {},
   "outputs": [
    {
     "name": "stdout",
     "output_type": "stream",
     "text": [
      "İl                    Adana   Adıyaman  Afyonkarahisar    Aksaray     Amasya  \\\n",
      "Cinsiyet Kan                                                                   \n",
      "Erkek    0 Rh +   55.500000  47.400000       50.666667  40.400000  46.000000   \n",
      "         0 Rh -   30.500000  53.666667       46.333333  49.000000  53.750000   \n",
      "         A Rh +   48.000000  41.000000       63.000000  40.750000  41.666667   \n",
      "         A Rh -   42.000000  40.800000       52.000000  56.000000  53.000000   \n",
      "         AB Rh +  35.000000  44.666667       34.833333  46.000000  31.000000   \n",
      "         AB Rh -  43.500000  39.800000       31.500000  36.333333  35.500000   \n",
      "         B Rh +   60.333333  30.333333       31.500000  53.500000  52.000000   \n",
      "         B Rh -   61.666667  40.250000       38.000000  48.833333  41.000000   \n",
      "Kadın    0 Rh +   49.181818  38.400000       45.000000  53.800000  58.200000   \n",
      "         0 Rh -   35.333333  39.500000       49.250000  56.333333  41.666667   \n",
      "         A Rh +   43.800000  60.333333       39.000000  39.500000  44.000000   \n",
      "         A Rh -   36.250000  53.500000       53.333333        NaN  37.800000   \n",
      "         AB Rh +  29.166667  47.500000       19.500000  56.750000  45.400000   \n",
      "         AB Rh -  48.666667        NaN       49.250000  53.000000  46.750000   \n",
      "         B Rh +   30.000000  42.333333       37.333333  46.250000  35.333333   \n",
      "         B Rh -   39.400000  31.000000       40.250000  36.666667  40.800000   \n",
      "\n",
      "İl                   Ankara    Antalya    Ardahan     Artvin      Aydın  ...  \\\n",
      "Cinsiyet Kan                                                             ...   \n",
      "Erkek    0 Rh +   48.400000  75.000000  37.666667  45.250000  62.000000  ...   \n",
      "         0 Rh -   31.833333  53.500000  35.000000  41.666667  41.333333  ...   \n",
      "         A Rh +   36.000000  31.250000  59.800000  39.250000  25.000000  ...   \n",
      "         A Rh -   45.750000  18.000000  34.571429  48.000000  50.000000  ...   \n",
      "         AB Rh +  28.400000  42.500000  41.000000  45.000000  29.750000  ...   \n",
      "         AB Rh -  33.000000  51.000000  45.000000  50.400000  57.200000  ...   \n",
      "         B Rh +   64.333333  34.333333  34.000000  61.000000  43.750000  ...   \n",
      "         B Rh -   42.666667  50.500000  48.250000  34.500000  50.500000  ...   \n",
      "Kadın    0 Rh +   50.666667  42.000000  42.000000  23.666667  51.500000  ...   \n",
      "         0 Rh -   41.666667  48.500000  37.000000  46.500000  35.333333  ...   \n",
      "         A Rh +   46.333333  44.333333  54.400000  57.500000  29.000000  ...   \n",
      "         A Rh -   38.500000  39.500000  45.333333  40.333333  42.800000  ...   \n",
      "         AB Rh +  62.500000  46.666667  49.000000  32.500000  51.000000  ...   \n",
      "         AB Rh -  57.125000  32.000000  43.571429  45.000000  34.500000  ...   \n",
      "         B Rh +   48.666667  56.800000  71.000000  39.714286  43.000000  ...   \n",
      "         B Rh -   32.800000  41.750000  44.000000  29.200000  46.000000  ...   \n",
      "\n",
      "İl                   Yalova     Yozgat  Zonguldak  Çanakkale    Çankırı  \\\n",
      "Cinsiyet Kan                                                              \n",
      "Erkek    0 Rh +   51.857143  44.333333  66.500000  44.500000  54.333333   \n",
      "         0 Rh -   41.500000  48.000000  28.833333  65.500000  54.833333   \n",
      "         A Rh +   32.333333  29.500000  52.750000  62.666667  54.500000   \n",
      "         A Rh -   50.250000        NaN  46.250000  44.000000  53.500000   \n",
      "         AB Rh +  52.750000  34.000000  71.000000  32.333333  48.666667   \n",
      "         AB Rh -  43.333333  42.250000  40.000000  40.500000  36.000000   \n",
      "         B Rh +   40.500000  31.250000  44.500000  37.500000  31.750000   \n",
      "         B Rh -   52.333333  37.777778  19.000000  37.600000  58.250000   \n",
      "Kadın    0 Rh +   33.500000  49.333333  27.750000  33.500000  40.000000   \n",
      "         0 Rh -         NaN  53.333333  56.000000        NaN  30.333333   \n",
      "         A Rh +   42.555556  43.500000  45.000000  52.000000  53.666667   \n",
      "         A Rh -   55.250000  53.800000  49.666667  35.666667  62.000000   \n",
      "         AB Rh +  48.500000  52.000000  38.333333  45.700000  41.800000   \n",
      "         AB Rh -  51.800000  31.000000  48.833333  59.250000  46.250000   \n",
      "         B Rh +   55.333333  38.250000  36.800000  50.166667  33.000000   \n",
      "         B Rh -   50.500000  27.500000  52.750000  43.250000  49.400000   \n",
      "\n",
      "İl                    Çorum   İstanbul      İzmir  Şanlıurfa     Şırnak  \n",
      "Cinsiyet Kan                                                             \n",
      "Erkek    0 Rh +   34.000000  53.666667  50.750000  60.500000  50.000000  \n",
      "         0 Rh -         NaN  55.500000  50.250000  29.500000  34.500000  \n",
      "         A Rh +   41.000000  33.500000  33.000000  28.750000  71.000000  \n",
      "         A Rh -   47.750000  41.666667  31.750000  49.400000  45.333333  \n",
      "         AB Rh +  50.500000  44.166667  28.500000  53.375000  73.000000  \n",
      "         AB Rh -  55.000000  51.000000  63.000000  41.571429  52.750000  \n",
      "         B Rh +   59.000000  46.166667  41.333333  47.666667  48.250000  \n",
      "         B Rh -   65.250000  58.500000  57.200000  43.500000  47.333333  \n",
      "Kadın    0 Rh +   50.400000  46.600000  48.200000  29.500000  49.750000  \n",
      "         0 Rh -   42.333333  47.666667  38.333333  50.666667  64.000000  \n",
      "         A Rh +   42.750000  39.666667  45.000000  36.000000  48.875000  \n",
      "         A Rh -   41.428571  46.000000  39.800000  52.333333  46.500000  \n",
      "         AB Rh +  41.000000  45.800000  50.000000  51.500000  35.666667  \n",
      "         AB Rh -  45.000000  38.000000  57.000000  43.100000  44.250000  \n",
      "         B Rh +   60.250000  45.400000  43.857143  56.000000  36.750000  \n",
      "         B Rh -   32.500000  40.000000  52.166667  41.500000  50.800000  \n",
      "\n",
      "[16 rows x 81 columns]\n"
     ]
    }
   ],
   "source": [
    "veri7=veri.pivot_table(values=\"Yas\", index=[\"Cinsiyet\",\"Kan\"], aggfunc=np.mean, columns=\"İl\")\n",
    "print(veri7)"
   ]
  },
  {
   "cell_type": "code",
   "execution_count": 25,
   "metadata": {},
   "outputs": [
    {
     "name": "stdout",
     "output_type": "stream",
     "text": [
      "Cinsiyet            Erkek                                              \\\n",
      "Kan                0 Rh +     0 Rh -     A Rh +     A Rh -    AB Rh +   \n",
      "İl                                                                      \n",
      "Adana           55.500000  30.500000  48.000000  42.000000  35.000000   \n",
      "Adıyaman        47.400000  53.666667  41.000000  40.800000  44.666667   \n",
      "Afyonkarahisar  50.666667  46.333333  63.000000  52.000000  34.833333   \n",
      "Aksaray         40.400000  49.000000  40.750000  56.000000  46.000000   \n",
      "Amasya          46.000000  53.750000  41.666667  53.000000  31.000000   \n",
      "...                   ...        ...        ...        ...        ...   \n",
      "Çorum           34.000000        NaN  41.000000  47.750000  50.500000   \n",
      "İstanbul        53.666667  55.500000  33.500000  41.666667  44.166667   \n",
      "İzmir           50.750000  50.250000  33.000000  31.750000  28.500000   \n",
      "Şanlıurfa       60.500000  29.500000  28.750000  49.400000  53.375000   \n",
      "Şırnak          50.000000  34.500000  71.000000  45.333333  73.000000   \n",
      "\n",
      "Cinsiyet                                             Kadın             \\\n",
      "Kan               AB Rh -     B Rh +     B Rh -     0 Rh +     0 Rh -   \n",
      "İl                                                                      \n",
      "Adana           43.500000  60.333333  61.666667  49.181818  35.333333   \n",
      "Adıyaman        39.800000  30.333333  40.250000  38.400000  39.500000   \n",
      "Afyonkarahisar  31.500000  31.500000  38.000000  45.000000  49.250000   \n",
      "Aksaray         36.333333  53.500000  48.833333  53.800000  56.333333   \n",
      "Amasya          35.500000  52.000000  41.000000  58.200000  41.666667   \n",
      "...                   ...        ...        ...        ...        ...   \n",
      "Çorum           55.000000  59.000000  65.250000  50.400000  42.333333   \n",
      "İstanbul        51.000000  46.166667  58.500000  46.600000  47.666667   \n",
      "İzmir           63.000000  41.333333  57.200000  48.200000  38.333333   \n",
      "Şanlıurfa       41.571429  47.666667  43.500000  29.500000  50.666667   \n",
      "Şırnak          52.750000  48.250000  47.333333  49.750000  64.000000   \n",
      "\n",
      "Cinsiyet                                                               \\\n",
      "Kan                A Rh +     A Rh -    AB Rh +    AB Rh -     B Rh +   \n",
      "İl                                                                      \n",
      "Adana           43.800000  36.250000  29.166667  48.666667  30.000000   \n",
      "Adıyaman        60.333333  53.500000  47.500000        NaN  42.333333   \n",
      "Afyonkarahisar  39.000000  53.333333  19.500000  49.250000  37.333333   \n",
      "Aksaray         39.500000        NaN  56.750000  53.000000  46.250000   \n",
      "Amasya          44.000000  37.800000  45.400000  46.750000  35.333333   \n",
      "...                   ...        ...        ...        ...        ...   \n",
      "Çorum           42.750000  41.428571  41.000000  45.000000  60.250000   \n",
      "İstanbul        39.666667  46.000000  45.800000  38.000000  45.400000   \n",
      "İzmir           45.000000  39.800000  50.000000  57.000000  43.857143   \n",
      "Şanlıurfa       36.000000  52.333333  51.500000  43.100000  56.000000   \n",
      "Şırnak          48.875000  46.500000  35.666667  44.250000  36.750000   \n",
      "\n",
      "Cinsiyet                   \n",
      "Kan                B Rh -  \n",
      "İl                         \n",
      "Adana           39.400000  \n",
      "Adıyaman        31.000000  \n",
      "Afyonkarahisar  40.250000  \n",
      "Aksaray         36.666667  \n",
      "Amasya          40.800000  \n",
      "...                   ...  \n",
      "Çorum           32.500000  \n",
      "İstanbul        40.000000  \n",
      "İzmir           52.166667  \n",
      "Şanlıurfa       41.500000  \n",
      "Şırnak          50.800000  \n",
      "\n",
      "[81 rows x 16 columns]\n"
     ]
    }
   ],
   "source": [
    "veri8=veri.pivot_table(values=\"Yas\", columns=[\"Cinsiyet\",\"Kan\"], aggfunc=np.mean, index=\"İl\")\n",
    "print(veri8)"
   ]
  },
  {
   "cell_type": "code",
   "execution_count": null,
   "metadata": {},
   "outputs": [],
   "source": []
  }
 ],
 "metadata": {
  "kernelspec": {
   "display_name": "Python 3.10.6 64-bit (system)",
   "language": "python",
   "name": "python3"
  },
  "language_info": {
   "codemirror_mode": {
    "name": "ipython",
    "version": 3
   },
   "file_extension": ".py",
   "mimetype": "text/x-python",
   "name": "python",
   "nbconvert_exporter": "python",
   "pygments_lexer": "ipython3",
   "version": "3.10.6"
  },
  "orig_nbformat": 4,
  "vscode": {
   "interpreter": {
    "hash": "153b678b2f7a8cf3f4ae0b3640dd641e7d064b4c764ba4b70fe37c6e052025cd"
   }
  }
 },
 "nbformat": 4,
 "nbformat_minor": 2
}
