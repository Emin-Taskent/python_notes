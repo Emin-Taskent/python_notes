{
 "cells": [
  {
   "cell_type": "code",
   "execution_count": 1,
   "metadata": {},
   "outputs": [],
   "source": [
    "import pandas as pd"
   ]
  },
  {
   "cell_type": "code",
   "execution_count": 2,
   "metadata": {},
   "outputs": [],
   "source": [
    "veri=pd.DataFrame(pd.read_excel(\"datasets/hastane.xlsx\"))"
   ]
  },
  {
   "cell_type": "code",
   "execution_count": 3,
   "metadata": {},
   "outputs": [
    {
     "name": "stdout",
     "output_type": "stream",
     "text": [
      "                         Ad_Soyad Cinsiyet  Yas  \\\n",
      "Tc                                                \n",
      "21416079369         Masal Elkıran    Kadın   34   \n",
      "98898378538           Cem Gözağaç    Erkek   35   \n",
      "94849292716        Veli Dinçaslan    Erkek   56   \n",
      "42507927276       Niyazi Yeniçeri    Erkek   20   \n",
      "65217432309    Ayten Hacıeminoglu    Kadın   58   \n",
      "...                           ...      ...  ...   \n",
      "64987043272         Yüksel İdemen    Kadın   47   \n",
      "78180125827          Hediye Aktop    Kadın   49   \n",
      "87108847422  Müzeyyen Çaglarırmak    Kadın   38   \n",
      "75338889250         Fatmanur Nuri    Kadın   48   \n",
      "61909591237          Kerim Güngeç    Erkek   25   \n",
      "\n",
      "                                            Mail         Tel          İl  \\\n",
      "Tc                                                                         \n",
      "21416079369       m.elkıran@anlaşılırekonomi.com  5063388897     Ardahan   \n",
      "98898378538       c.gözağaç@anlaşılırekonomi.com  5282384749     Isparta   \n",
      "94849292716     v.dinçaslan@anlaşılırekonomi.com  5033320406     Trabzon   \n",
      "42507927276      n.yeniçeri@anlaşılırekonomi.com  5052380221  Diyarbakır   \n",
      "65217432309  a.hacıeminoglu@anlaşılırekonomi.com  5133321842      Mardin   \n",
      "...                                          ...         ...         ...   \n",
      "64987043272        y.idemen@anlaşılırekonomi.com  5223333180   Eskişehir   \n",
      "78180125827         h.aktop@anlaşılırekonomi.com  5293314916     Isparta   \n",
      "87108847422   m.çaglarırmak@anlaşılırekonomi.com  5223373147       Siirt   \n",
      "75338889250          f.nuri@anlaşılırekonomi.com  5113318203       Sivas   \n",
      "61909591237        k.güngeç@anlaşılırekonomi.com  5063355159      Ankara   \n",
      "\n",
      "                       İlce      Kan                               Bolum  \n",
      "Tc                                                                        \n",
      "21416079369  Ardahan Merkez   B Rh -          İç Hastalıkları (Dahiliye)  \n",
      "98898378538          Atabey   B Rh -                      Tıbbi Onkoloji  \n",
      "94849292716        Akçaabat   A Rh -                 Transfüzyon Merkezi  \n",
      "42507927276          Bismil  AB Rh -                 Transfüzyon Merkezi  \n",
      "65217432309           Derik   A Rh -                Böbrek Nakli Merkezi  \n",
      "...                     ...      ...                                 ...  \n",
      "64987043272         Günyüzü   A Rh -       Kalp ve Damar Cerrahisi (KVC)  \n",
      "78180125827   Şarkikaraağaç   B Rh +                   Beslenme ve Diyet  \n",
      "87108847422         Pervari   A Rh -  Kozmetik Dermatoloji (Kozmetoloji)  \n",
      "75338889250           Hafik  AB Rh -                  Psikoloji (Klinik)  \n",
      "61909591237        Keçiören   A Rh +             Robotik Cerrahi Merkezi  \n",
      "\n",
      "[5000 rows x 9 columns]\n"
     ]
    }
   ],
   "source": [
    "# SQL yapılarındaki gibi unique bir sütun varsa onu index yapabiliriz;\n",
    "\n",
    "veri2=veri.set_index(\"Tc\")\n",
    "\n",
    "print(veri2)"
   ]
  },
  {
   "cell_type": "code",
   "execution_count": null,
   "metadata": {},
   "outputs": [],
   "source": [
    "# Ana veri üzerinde bir değişiklik yapmak istersek;\n",
    "\n",
    "## veri.set_index(\"Tc\", inplace=True) yapısı kullanılır. Bu yapıdan sonra değişiklik ana veri üzerinde yapılmış olur. \n",
    "\n",
    "# Bir problem ile karşılaşıldığında verinin orjinaline dönebilmek için ise;\n",
    "\n",
    "## veri.reset_index() yapısı kullanılır. "
   ]
  },
  {
   "cell_type": "code",
   "execution_count": 8,
   "metadata": {},
   "outputs": [
    {
     "name": "stdout",
     "output_type": "stream",
     "text": [
      "Hastanın bilgileri: \n",
      "\n",
      "Ad_Soyad                     Kerim Güngeç\n",
      "Cinsiyet                            Erkek\n",
      "Yas                                    25\n",
      "Mail        k.güngeç@anlaşılırekonomi.com\n",
      "Tel                            5063355159\n",
      "İl                                 Ankara\n",
      "İlce                             Keçiören\n",
      "Kan                                A Rh +\n",
      "Bolum             Robotik Cerrahi Merkezi\n",
      "Name: 61909591237, dtype: object\n"
     ]
    }
   ],
   "source": [
    "# .loc[] metodu çalışmasına bir örnek, \"Tc olarak index belirlenmiştir, bu şekilde Tc numarası girilen hastanın bilgileri görülecektir.\"\n",
    "# örnek tc: 61909591237 (kopyalayabilirsiniz)\n",
    "\n",
    "x=int(input(\"Lütfen Hastanın TC Kimlik No'sunu giriniz: \"))\n",
    "print(\"Hastanın bilgileri: \\n\\n{}\".format(veri2.loc[x]))\n",
    "\n"
   ]
  },
  {
   "cell_type": "code",
   "execution_count": null,
   "metadata": {},
   "outputs": [],
   "source": []
  }
 ],
 "metadata": {
  "kernelspec": {
   "display_name": "Python 3.10.6 64-bit (system)",
   "language": "python",
   "name": "python3"
  },
  "language_info": {
   "codemirror_mode": {
    "name": "ipython",
    "version": 3
   },
   "file_extension": ".py",
   "mimetype": "text/x-python",
   "name": "python",
   "nbconvert_exporter": "python",
   "pygments_lexer": "ipython3",
   "version": "3.10.6"
  },
  "orig_nbformat": 4,
  "vscode": {
   "interpreter": {
    "hash": "153b678b2f7a8cf3f4ae0b3640dd641e7d064b4c764ba4b70fe37c6e052025cd"
   }
  }
 },
 "nbformat": 4,
 "nbformat_minor": 2
}
