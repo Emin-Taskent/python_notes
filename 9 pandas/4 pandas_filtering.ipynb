{
 "cells": [
  {
   "cell_type": "code",
   "execution_count": 2,
   "metadata": {},
   "outputs": [],
   "source": [
    "import pandas as pd"
   ]
  },
  {
   "cell_type": "code",
   "execution_count": 3,
   "metadata": {},
   "outputs": [
    {
     "name": "stdout",
     "output_type": "stream",
     "text": [
      "       Kod  Kapanış (TL)  Günlük Getiri (%) Haftalık Getiri (%)  \\\n",
      "0    ACSEL         47.04              -0.17               -0.51   \n",
      "1     ADEL         33.54               9.97                  14   \n",
      "2    ADESE          1.04              -4.59               11.83   \n",
      "3    AEFES         41.50              -2.26                6.41   \n",
      "4    AFYON          4.38              -1.57               -6.81   \n",
      "..     ...           ...                ...                 ...   \n",
      "475  YUNSA         43.08              -3.10                3.31   \n",
      "476  YYAPI          1.26              -4.55               -4.55   \n",
      "477  YYLGD         19.50               7.38               10.11   \n",
      "478  ZOREN          2.99              -1.32                4.55   \n",
      "479  ZRGYO          3.47              -1.70               -0.29   \n",
      "\n",
      "    Aylık Getiri (%) Yıl İçi Getiri (%)  \n",
      "0              -3.05             163.53  \n",
      "1              27.24               1.57  \n",
      "2              26.83              38.67  \n",
      "3              13.26              49.28  \n",
      "4              20.99              26.96  \n",
      "..               ...                ...  \n",
      "475            25.01             251.39  \n",
      "476            28.57              36.96  \n",
      "477             7.85                  -  \n",
      "478            43.75              80.12  \n",
      "479            11.22               42.8  \n",
      "\n",
      "[480 rows x 6 columns]\n"
     ]
    }
   ],
   "source": [
    "veri=pd.DataFrame(pd.read_excel(\"C:/Users/Emin Taşkent/Desktop/hisse.xlsx\"))\n",
    "print(veri)"
   ]
  },
  {
   "cell_type": "code",
   "execution_count": 4,
   "metadata": {},
   "outputs": [
    {
     "name": "stdout",
     "output_type": "stream",
     "text": [
      "     Kod  Kapanış (TL)  Günlük Getiri (%) Haftalık Getiri (%)  \\\n",
      "0  ACSEL         47.04              -0.17               -0.51   \n",
      "1   ADEL         33.54               9.97                  14   \n",
      "2  ADESE          1.04              -4.59               11.83   \n",
      "3  AEFES         41.50              -2.26                6.41   \n",
      "4  AFYON          4.38              -1.57               -6.81   \n",
      "\n",
      "  Aylık Getiri (%) Yıl İçi Getiri (%)  \n",
      "0            -3.05             163.53  \n",
      "1            27.24               1.57  \n",
      "2            26.83              38.67  \n",
      "3            13.26              49.28  \n",
      "4            20.99              26.96  \n"
     ]
    }
   ],
   "source": [
    "# .head() metodu içerisine parametre verilmeden çağrılırsa ilk 5 değeri döndürür.\n",
    "\n",
    "print(veri.head())"
   ]
  },
  {
   "cell_type": "code",
   "execution_count": 6,
   "metadata": {},
   "outputs": [
    {
     "name": "stdout",
     "output_type": "stream",
     "text": [
      "      Kod  Kapanış (TL)  Günlük Getiri (%) Haftalık Getiri (%)  \\\n",
      "0   ACSEL         47.04              -0.17               -0.51   \n",
      "1    ADEL         33.54               9.97                  14   \n",
      "2   ADESE          1.04              -4.59               11.83   \n",
      "3   AEFES         41.50              -2.26                6.41   \n",
      "4   AFYON          4.38              -1.57               -6.81   \n",
      "5   AGESA         23.30              -1.60                0.87   \n",
      "6   AGHOL         71.30              -1.99               -0.56   \n",
      "7    AGYO          5.55               1.09               -1.25   \n",
      "8   AKBNK         11.89              -0.75                10.5   \n",
      "9   AKCNS         28.44              -1.93               -1.93   \n",
      "10  AKENR          2.05               0.49                3.02   \n",
      "11  AKFGY          3.15              -6.25               -4.55   \n",
      "12  AKGRT          3.68               0.27                2.79   \n",
      "13  AKMGY         51.40               0.69                3.25   \n",
      "\n",
      "   Aylık Getiri (%) Yıl İçi Getiri (%)  \n",
      "0             -3.05             163.53  \n",
      "1             27.24               1.57  \n",
      "2             26.83              38.67  \n",
      "3             13.26              49.28  \n",
      "4             20.99              26.96  \n",
      "5             14.44              13.55  \n",
      "6              2.81              82.59  \n",
      "7             30.59             112.64  \n",
      "8             37.78              70.59  \n",
      "9             16.27              61.87  \n",
      "10             18.5              12.64  \n",
      "11            23.05             -57.14  \n",
      "12            34.31             -30.57  \n",
      "13             8.78              25.58  \n"
     ]
    }
   ],
   "source": [
    "# .head() metodu içerisine parametre gönderildiğinde aşağıdaki gibi çalışır;\n",
    "\n",
    "print(veri.head(14))"
   ]
  },
  {
   "cell_type": "code",
   "execution_count": 8,
   "metadata": {},
   "outputs": [
    {
     "name": "stdout",
     "output_type": "stream",
     "text": [
      "       Kod  Kapanış (TL)  Günlük Getiri (%) Haftalık Getiri (%)  \\\n",
      "475  YUNSA         43.08              -3.10                3.31   \n",
      "476  YYAPI          1.26              -4.55               -4.55   \n",
      "477  YYLGD         19.50               7.38               10.11   \n",
      "478  ZOREN          2.99              -1.32                4.55   \n",
      "479  ZRGYO          3.47              -1.70               -0.29   \n",
      "\n",
      "    Aylık Getiri (%) Yıl İçi Getiri (%)  \n",
      "475            25.01             251.39  \n",
      "476            28.57              36.96  \n",
      "477             7.85                  -  \n",
      "478            43.75              80.12  \n",
      "479            11.22               42.8  \n"
     ]
    }
   ],
   "source": [
    "# .tail() metodu içerisine parametre verilmeden çağrılırsa son 5 değeri döndürür.\n",
    "\n",
    "print(veri.tail())"
   ]
  },
  {
   "cell_type": "code",
   "execution_count": 11,
   "metadata": {},
   "outputs": [
    {
     "name": "stdout",
     "output_type": "stream",
     "text": [
      "   Kapanış (TL)    Kod\n",
      "0         47.04  ACSEL\n",
      "1         33.54   ADEL\n",
      "2          1.04  ADESE\n",
      "3         41.50  AEFES\n",
      "4          4.38  AFYON\n",
      "5         23.30  AGESA\n",
      "6         71.30  AGHOL\n"
     ]
    }
   ],
   "source": [
    "# Belirli sütunlarda bu işlemi yapmak istersek;\n",
    "\n",
    "print(veri[[\"Kapanış (TL)\", \"Kod\"]].head(7))"
   ]
  },
  {
   "cell_type": "code",
   "execution_count": 14,
   "metadata": {},
   "outputs": [
    {
     "name": "stdout",
     "output_type": "stream",
     "text": [
      "    Kapanış (TL)    Kod\n",
      "5          23.30  AGESA\n",
      "6          71.30  AGHOL\n",
      "7           5.55   AGYO\n",
      "8          11.89  AKBNK\n",
      "9          28.44  AKCNS\n",
      "10          2.05  AKENR\n",
      "11          3.15  AKFGY\n"
     ]
    }
   ],
   "source": [
    "# Belirli satır ve sütunlarda bu işlemi yapmak istersek;\n",
    "\n",
    "print(veri[5:][[\"Kapanış (TL)\", \"Kod\"]].head(7))"
   ]
  },
  {
   "cell_type": "code",
   "execution_count": 15,
   "metadata": {},
   "outputs": [
    {
     "name": "stdout",
     "output_type": "stream",
     "text": [
      "       Kod  Kapanış (TL)  Günlük Getiri (%)  Haftalık Getiri (%)  \\\n",
      "0     True         False              False                False   \n",
      "1    False         False              False                False   \n",
      "2    False         False              False                False   \n",
      "3    False         False              False                False   \n",
      "4    False         False              False                False   \n",
      "..     ...           ...                ...                  ...   \n",
      "475  False         False              False                False   \n",
      "476  False         False              False                False   \n",
      "477  False         False              False                False   \n",
      "478  False         False              False                False   \n",
      "479  False         False              False                False   \n",
      "\n",
      "     Aylık Getiri (%)  Yıl İçi Getiri (%)  \n",
      "0               False               False  \n",
      "1               False               False  \n",
      "2               False               False  \n",
      "3               False               False  \n",
      "4               False               False  \n",
      "..                ...                 ...  \n",
      "475             False               False  \n",
      "476             False               False  \n",
      "477             False               False  \n",
      "478             False               False  \n",
      "479             False               False  \n",
      "\n",
      "[480 rows x 6 columns]\n"
     ]
    }
   ],
   "source": [
    "# Verinin içerisinde filtreleme yapmak istenirse;\n",
    "\n",
    "print(veri==\"ACSEL\")            # Bu kod aslında \"ACSEL\"'in verinin içerisinde nerelerde olduğunu göstermektedir.\n",
    "                                # Sadece 0,Kod indeksinde \"ACSEL\"i bulduğu için \"True\" değerini döndürdü. Diğer yerlerde \"False\" değerini döndürdü."
   ]
  },
  {
   "cell_type": "code",
   "execution_count": 18,
   "metadata": {},
   "outputs": [
    {
     "name": "stdout",
     "output_type": "stream",
     "text": [
      "0      False\n",
      "1       True\n",
      "2      False\n",
      "3      False\n",
      "4      False\n",
      "       ...  \n",
      "475    False\n",
      "476    False\n",
      "477     True\n",
      "478    False\n",
      "479    False\n",
      "Name: Günlük Getiri (%), Length: 480, dtype: bool\n",
      "       Kod  Kapanış (TL)  Günlük Getiri (%) Haftalık Getiri (%)  \\\n",
      "1     ADEL         33.54               9.97                  14   \n",
      "18   AKYHO          2.03               4.10                9.73   \n",
      "24    ALKA         60.75               4.38                3.49   \n",
      "25   ALKIM         28.90               2.41                10.9   \n",
      "29   ANHYT         14.45               3.81                9.22   \n",
      "..     ...           ...                ...                 ...   \n",
      "450  UTPYA         19.58               9.94               35.88   \n",
      "451  UZERB         40.24               3.44                5.95   \n",
      "452  VAKBN          6.65               9.92               36.27   \n",
      "463  VKING          5.89               3.33                2.97   \n",
      "477  YYLGD         19.50               7.38               10.11   \n",
      "\n",
      "    Aylık Getiri (%) Yıl İçi Getiri (%)  \n",
      "1              27.24               1.57  \n",
      "18             23.03              18.02  \n",
      "24             51.35             293.46  \n",
      "25             34.79               77.3  \n",
      "29             16.72               28.9  \n",
      "..               ...                ...  \n",
      "450             60.1              56.64  \n",
      "451             4.36              22.98  \n",
      "452            70.51              80.71  \n",
      "463             4.43              -4.38  \n",
      "477             7.85                  -  \n",
      "\n",
      "[105 rows x 6 columns]\n"
     ]
    }
   ],
   "source": [
    "# verileri direk olarak görmek istersek;\n",
    "\n",
    "print(veri[\"Günlük Getiri (%)\"]>2)\n",
    "print(veri[veri[\"Günlük Getiri (%)\"]>2])\n",
    "\n"
   ]
  },
  {
   "cell_type": "code",
   "execution_count": 42,
   "metadata": {},
   "outputs": [
    {
     "name": "stdout",
     "output_type": "stream",
     "text": [
      "       Kod  Kapanış (TL)  Günlük Getiri (%) Haftalık Getiri (%)  \\\n",
      "1     ADEL         33.54               9.97                  14   \n",
      "18   AKYHO          2.03               4.10                9.73   \n",
      "24    ALKA         60.75               4.38                3.49   \n",
      "25   ALKIM         28.90               2.41                10.9   \n",
      "29   ANHYT         14.45               3.81                9.22   \n",
      "..     ...           ...                ...                 ...   \n",
      "450  UTPYA         19.58               9.94               35.88   \n",
      "451  UZERB         40.24               3.44                5.95   \n",
      "452  VAKBN          6.65               9.92               36.27   \n",
      "463  VKING          5.89               3.33                2.97   \n",
      "477  YYLGD         19.50               7.38               10.11   \n",
      "\n",
      "    Aylık Getiri (%) Yıl İçi Getiri (%)  \n",
      "1              27.24               1.57  \n",
      "18             23.03              18.02  \n",
      "24             51.35             293.46  \n",
      "25             34.79               77.3  \n",
      "29             16.72               28.9  \n",
      "..               ...                ...  \n",
      "450             60.1              56.64  \n",
      "451             4.36              22.98  \n",
      "452            70.51              80.71  \n",
      "463             4.43              -4.38  \n",
      "477             7.85                  -  \n",
      "\n",
      "[105 rows x 6 columns]\n"
     ]
    }
   ],
   "source": [
    "# Birden fazla veriyi filtrelemek için ise;\n",
    "\n",
    "filtre= veri[veri[\"Günlük Getiri (%)\"]>2]\n",
    "\n",
    "print(filtre)\n",
    "\n",
    "filtre2=filtre[filtre[\"Haftalık Getiri (%)\"]<1]\n"
   ]
  },
  {
   "cell_type": "code",
   "execution_count": 43,
   "metadata": {},
   "outputs": [
    {
     "name": "stdout",
     "output_type": "stream",
     "text": [
      "       Kod  Kapanış (TL)  Günlük Getiri (%) Haftalık Getiri (%)  \\\n",
      "70   BLCYT         11.95               4.28                0.84   \n",
      "101  CRDFA          3.09               3.00               -0.64   \n",
      "180  GLYHO          4.00               3.09               -0.25   \n",
      "197  HEKTS         40.92               3.13               -0.29   \n",
      "322  NUHCM         76.45               2.34               -3.53   \n",
      "325   OLMK         11.19               3.23               -1.93   \n",
      "327   ORGE         10.50               3.65               -2.33   \n",
      "364  PSGYO          4.23               4.19               -0.47   \n",
      "418  TEZOL         10.83               2.75               -3.22   \n",
      "421   TIRE         18.60               4.38                0.27   \n",
      "422  TKFEN         28.24               2.54               -2.22   \n",
      "449   USAK          2.80               3.70               -4.11   \n",
      "\n",
      "    Aylık Getiri (%) Yıl İçi Getiri (%)  \n",
      "70             -2.29               5.75  \n",
      "101             9.57               4.39  \n",
      "180            28.21             102.02  \n",
      "197             24.3             175.18  \n",
      "322             30.8               57.5  \n",
      "325           -19.26              40.93  \n",
      "327            15.38              69.35  \n",
      "364            37.34               12.2  \n",
      "418            13.64              57.64  \n",
      "421           -20.17              83.98  \n",
      "422            10.66              43.86  \n",
      "449            22.81              78.34  \n"
     ]
    }
   ],
   "source": [
    "print(filtre2)"
   ]
  }
 ],
 "metadata": {
  "kernelspec": {
   "display_name": "Python 3.10.6 64-bit (system)",
   "language": "python",
   "name": "python3"
  },
  "language_info": {
   "codemirror_mode": {
    "name": "ipython",
    "version": 3
   },
   "file_extension": ".py",
   "mimetype": "text/x-python",
   "name": "python",
   "nbconvert_exporter": "python",
   "pygments_lexer": "ipython3",
   "version": "3.10.6"
  },
  "orig_nbformat": 4,
  "vscode": {
   "interpreter": {
    "hash": "153b678b2f7a8cf3f4ae0b3640dd641e7d064b4c764ba4b70fe37c6e052025cd"
   }
  }
 },
 "nbformat": 4,
 "nbformat_minor": 2
}
