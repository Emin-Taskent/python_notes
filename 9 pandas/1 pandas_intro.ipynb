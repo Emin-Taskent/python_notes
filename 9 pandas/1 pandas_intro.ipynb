{
 "cells": [
  {
   "cell_type": "markdown",
   "metadata": {},
   "source": [
    "# pandas Library"
   ]
  },
  {
   "cell_type": "code",
   "execution_count": 33,
   "metadata": {},
   "outputs": [],
   "source": [
    "import pandas as pd"
   ]
  },
  {
   "cell_type": "code",
   "execution_count": 34,
   "metadata": {},
   "outputs": [
    {
     "name": "stdout",
     "output_type": "stream",
     "text": [
      "2015    3000\n",
      "2016    4000\n",
      "2017    5000\n",
      "2018    6000\n",
      "2019    7000\n",
      "2020    8000\n",
      "2021    9000\n",
      "dtype: int64\n",
      "6000.0\n",
      "2160.2468994692867\n",
      "6000.0\n",
      "Açıklama: \n",
      "\n",
      "\n",
      "count       7.000000\n",
      "mean     6000.000000\n",
      "std      2160.246899\n",
      "min      3000.000000\n",
      "25%      4500.000000\n",
      "50%      6000.000000\n",
      "75%      7500.000000\n",
      "max      9000.000000\n",
      "dtype: float64\n"
     ]
    }
   ],
   "source": [
    "Zaman=[2015,2016,2017,2018,2019,2020,2021]\n",
    "Fiyat=[3000,4000,5000,6000,7000,8000,9000]\n",
    "\n",
    "seri=pd.Series(Fiyat,Zaman)         # Zaman burada index görevindedir.\n",
    "print(seri)\n",
    "\n",
    "print(seri.mean())\n",
    "\n",
    "\n",
    "print(seri.std())\n",
    "\n",
    "\n",
    "print(seri.median())\n",
    "\n",
    "\n",
    "print(\"\"\"Açıklama: \n",
    "\n",
    "\\n{}\"\"\".format(seri.describe()))"
   ]
  },
  {
   "cell_type": "code",
   "execution_count": 35,
   "metadata": {},
   "outputs": [
    {
     "name": "stdout",
     "output_type": "stream",
     "text": [
      "       0   1\n",
      "1   Elma  10\n",
      "2  Armut  15\n",
      "3  Çilek  20\n"
     ]
    }
   ],
   "source": [
    "# dataframe yapısı\n",
    "\n",
    "df=pd.DataFrame([[\"Elma\",10], [\"Armut\", 15], [\"Çilek\", 20]],[1,2,3])        # sondaki 1,2,3 index'e karşılık gelir\n",
    "print(df)"
   ]
  },
  {
   "cell_type": "code",
   "execution_count": 36,
   "metadata": {},
   "outputs": [
    {
     "name": "stdout",
     "output_type": "stream",
     "text": [
      "  Ürünler  Fiyat\n",
      "0    Elma     10\n",
      "1   Armut     15\n",
      "2   Çilek     20\n"
     ]
    }
   ],
   "source": [
    "# dataframe'e kolon ismi belirleme\n",
    "\n",
    "df2=pd.DataFrame([[\"Elma\",10], [\"Armut\", 15], [\"Çilek\", 20]],  columns=[\"Ürünler\",\"Fiyat\"])\n",
    "print(df2)"
   ]
  },
  {
   "cell_type": "code",
   "execution_count": 37,
   "metadata": {},
   "outputs": [
    {
     "name": "stdout",
     "output_type": "stream",
     "text": [
      "  Ürünler  Fiyat\n",
      "1    Elma     10\n",
      "2   Armut     15\n",
      "3   Çilek     20\n"
     ]
    }
   ],
   "source": [
    "# Hem satır, hem de sütun ismi gönderilebilir.\n",
    "\n",
    "\n",
    "veri= [[\"Elma\",10], [\"Armut\", 15], [\"Çilek\", 20]]\n",
    "baslık=[\"Ürünler\",\"Fiyat\"]\n",
    "satırno=list(range(1,4))\n",
    "\n",
    "df3=pd.DataFrame(veri,columns=baslık, index=satırno)\n",
    "print(df3)"
   ]
  },
  {
   "cell_type": "code",
   "execution_count": 38,
   "metadata": {},
   "outputs": [
    {
     "name": "stdout",
     "output_type": "stream",
     "text": [
      "    Ürün  Fiyat\n",
      "0   Elma     10\n",
      "1  Armut     15\n",
      "2  Çilek     20\n"
     ]
    }
   ],
   "source": [
    "\n",
    "sozluk= {\"Ürün\":[\"Elma\", \"Armut\", \"Çilek\"], \"Fiyat\":[10,15,20]}\n",
    "\n",
    "veri2=pd.DataFrame(sozluk)\n",
    "\n",
    "print(veri2)"
   ]
  },
  {
   "cell_type": "code",
   "execution_count": null,
   "metadata": {},
   "outputs": [],
   "source": []
  }
 ],
 "metadata": {
  "kernelspec": {
   "display_name": "Python 3.10.7 64-bit",
   "language": "python",
   "name": "python3"
  },
  "language_info": {
   "codemirror_mode": {
    "name": "ipython",
    "version": 3
   },
   "file_extension": ".py",
   "mimetype": "text/x-python",
   "name": "python",
   "nbconvert_exporter": "python",
   "pygments_lexer": "ipython3",
   "version": "3.10.7"
  },
  "orig_nbformat": 4,
  "vscode": {
   "interpreter": {
    "hash": "a1a7efbbe97ace3e6a3903a1087b84955237a79a84605ff960f6ddbd0678e993"
   }
  }
 },
 "nbformat": 4,
 "nbformat_minor": 2
}
