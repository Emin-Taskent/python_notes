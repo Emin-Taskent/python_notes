{
 "cells": [
  {
   "cell_type": "code",
   "execution_count": 1,
   "metadata": {},
   "outputs": [],
   "source": [
    "import pandas as pd"
   ]
  },
  {
   "cell_type": "code",
   "execution_count": 2,
   "metadata": {},
   "outputs": [
    {
     "name": "stdout",
     "output_type": "stream",
     "text": [
      "                  Ad_Soyad           Tc Cinsiyet  Yas  \\\n",
      "0            Masal Elkıran  21416079369    Kadın   34   \n",
      "1              Cem Gözağaç  98898378538    Erkek   35   \n",
      "2           Veli Dinçaslan  94849292716    Erkek   56   \n",
      "3          Niyazi Yeniçeri  42507927276    Erkek   20   \n",
      "4       Ayten Hacıeminoglu  65217432309    Kadın   58   \n",
      "...                    ...          ...      ...  ...   \n",
      "4995         Yüksel İdemen  64987043272    Kadın   47   \n",
      "4996          Hediye Aktop  78180125827    Kadın   49   \n",
      "4997  Müzeyyen Çaglarırmak  87108847422    Kadın   38   \n",
      "4998         Fatmanur Nuri  75338889250    Kadın   48   \n",
      "4999          Kerim Güngeç  61909591237    Erkek   25   \n",
      "\n",
      "                                     Mail         Tel          İl  \\\n",
      "0          m.elkıran@anlaşılırekonomi.com  5063388897     Ardahan   \n",
      "1          c.gözağaç@anlaşılırekonomi.com  5282384749     Isparta   \n",
      "2        v.dinçaslan@anlaşılırekonomi.com  5033320406     Trabzon   \n",
      "3         n.yeniçeri@anlaşılırekonomi.com  5052380221  Diyarbakır   \n",
      "4     a.hacıeminoglu@anlaşılırekonomi.com  5133321842      Mardin   \n",
      "...                                   ...         ...         ...   \n",
      "4995        y.idemen@anlaşılırekonomi.com  5223333180   Eskişehir   \n",
      "4996         h.aktop@anlaşılırekonomi.com  5293314916     Isparta   \n",
      "4997   m.çaglarırmak@anlaşılırekonomi.com  5223373147       Siirt   \n",
      "4998          f.nuri@anlaşılırekonomi.com  5113318203       Sivas   \n",
      "4999        k.güngeç@anlaşılırekonomi.com  5063355159      Ankara   \n",
      "\n",
      "                İlce      Kan                               Bolum  \n",
      "0     Ardahan Merkez   B Rh -          İç Hastalıkları (Dahiliye)  \n",
      "1             Atabey   B Rh -                      Tıbbi Onkoloji  \n",
      "2           Akçaabat   A Rh -                 Transfüzyon Merkezi  \n",
      "3             Bismil  AB Rh -                 Transfüzyon Merkezi  \n",
      "4              Derik   A Rh -                Böbrek Nakli Merkezi  \n",
      "...              ...      ...                                 ...  \n",
      "4995         Günyüzü   A Rh -       Kalp ve Damar Cerrahisi (KVC)  \n",
      "4996   Şarkikaraağaç   B Rh +                   Beslenme ve Diyet  \n",
      "4997         Pervari   A Rh -  Kozmetik Dermatoloji (Kozmetoloji)  \n",
      "4998           Hafik  AB Rh -                  Psikoloji (Klinik)  \n",
      "4999        Keçiören   A Rh +             Robotik Cerrahi Merkezi  \n",
      "\n",
      "[5000 rows x 10 columns]\n"
     ]
    }
   ],
   "source": [
    "veri=pd.DataFrame(pd.read_excel(\"datasets/hastane.xlsx\"))\n",
    "print(veri)"
   ]
  },
  {
   "cell_type": "code",
   "execution_count": 5,
   "metadata": {},
   "outputs": [
    {
     "name": "stdout",
     "output_type": "stream",
     "text": [
      "                Ad_Soyad           Tc Cinsiyet  Yas  \\\n",
      "1            Cem Gözağaç  98898378538    Erkek   35   \n",
      "2         Veli Dinçaslan  94849292716    Erkek   56   \n",
      "3        Niyazi Yeniçeri  42507927276    Erkek   20   \n",
      "5          Sezer Kalaman  62123186308    Erkek   58   \n",
      "6             Yavuz Türk  29427976790    Erkek   24   \n",
      "...                  ...          ...      ...  ...   \n",
      "4984         Ekrem Guzay  37123542674    Erkek   18   \n",
      "4985  Sedat Katmerlikaya  36873993163    Erkek   28   \n",
      "4986  Bünyamin Tayyarali  15084063070    Erkek   48   \n",
      "4987        Mahir Hancer  19125469495    Erkek   67   \n",
      "4999        Kerim Güngeç  61909591237    Erkek   25   \n",
      "\n",
      "                                     Mail         Tel          İl  \\\n",
      "1          c.gözağaç@anlaşılırekonomi.com  5282384749     Isparta   \n",
      "2        v.dinçaslan@anlaşılırekonomi.com  5033320406     Trabzon   \n",
      "3         n.yeniçeri@anlaşılırekonomi.com  5052380221  Diyarbakır   \n",
      "5          s.kalaman@anlaşılırekonomi.com  5073351261       Muğla   \n",
      "6             y.türk@anlaşılırekonomi.com  5232362727      Bartın   \n",
      "...                                   ...         ...         ...   \n",
      "4984         e.guzay@anlaşılırekonomi.com  5263382131       Sinop   \n",
      "4985  s.katmerlikaya@anlaşılırekonomi.com  5123378606     Isparta   \n",
      "4986     b.tayyarali@anlaşılırekonomi.com  5043336604       Çorum   \n",
      "4987        m.hancer@anlaşılırekonomi.com  5053388825    Nevşehir   \n",
      "4999        k.güngeç@anlaşılırekonomi.com  5063355159      Ankara   \n",
      "\n",
      "               İlce      Kan                                            Bolum  \n",
      "1            Atabey   B Rh -                                   Tıbbi Onkoloji  \n",
      "2          Akçaabat   A Rh -                              Transfüzyon Merkezi  \n",
      "3            Bismil  AB Rh -                              Transfüzyon Merkezi  \n",
      "5            Bodrum   A Rh -               Kozmetik Dermatoloji (Kozmetoloji)  \n",
      "6     Bartın Merkez   B Rh -                                Beslenme ve Diyet  \n",
      "...             ...      ...                                              ...  \n",
      "4984      Saraydüzü   0 Rh +                             Liyezon Psikiyatrisi  \n",
      "4985      Senirkent   0 Rh -                                Beslenme ve Diyet  \n",
      "4986        Oğuzlar   A Rh -                                        Saç Ekimi  \n",
      "4987      Derinkuyu   B Rh -  Enfeksiyon Hastalıkları ve Klinik Mikrobiyoloji  \n",
      "4999       Keçiören   A Rh +                          Robotik Cerrahi Merkezi  \n",
      "\n",
      "[2361 rows x 10 columns]\n"
     ]
    }
   ],
   "source": [
    "erkek=veri.groupby(\"Cinsiyet\").get_group(\"Erkek\")\n",
    "kadın=veri.groupby(\"Cinsiyet\").get_group(\"Kadın\")\n",
    "\n",
    "print(erkek)\n"
   ]
  },
  {
   "cell_type": "code",
   "execution_count": 4,
   "metadata": {},
   "outputs": [
    {
     "name": "stdout",
     "output_type": "stream",
     "text": [
      "                  Ad_Soyad           Tc Cinsiyet  Yas  \\\n",
      "0            Masal Elkıran  21416079369    Kadın   34   \n",
      "4       Ayten Hacıeminoglu  65217432309    Kadın   58   \n",
      "7             Mehtap Yaşat  15295434542    Kadın   29   \n",
      "14             Didem Mayuk  96530994783    Kadın   53   \n",
      "16    Elif ada Bayraklılar  66379904342    Kadın   66   \n",
      "...                    ...          ...      ...  ...   \n",
      "4994            Alya Bahşi  61704983681    Kadın   25   \n",
      "4995         Yüksel İdemen  64987043272    Kadın   47   \n",
      "4996          Hediye Aktop  78180125827    Kadın   49   \n",
      "4997  Müzeyyen Çaglarırmak  87108847422    Kadın   38   \n",
      "4998         Fatmanur Nuri  75338889250    Kadın   48   \n",
      "\n",
      "                                     Mail         Tel         İl  \\\n",
      "0          m.elkıran@anlaşılırekonomi.com  5063388897    Ardahan   \n",
      "4     a.hacıeminoglu@anlaşılırekonomi.com  5133321842     Mardin   \n",
      "7            m.yaşat@anlaşılırekonomi.com  5273352806       Ordu   \n",
      "14           d.mayuk@anlaşılırekonomi.com  5222350747   Tekirdağ   \n",
      "16     e.bayraklılar@anlaşılırekonomi.com  5213349225    Bayburt   \n",
      "...                                   ...         ...        ...   \n",
      "4994         a.bahşi@anlaşılırekonomi.com  5112349682   Tekirdağ   \n",
      "4995        y.idemen@anlaşılırekonomi.com  5223333180  Eskişehir   \n",
      "4996         h.aktop@anlaşılırekonomi.com  5293314916    Isparta   \n",
      "4997   m.çaglarırmak@anlaşılırekonomi.com  5223373147      Siirt   \n",
      "4998          f.nuri@anlaşılırekonomi.com  5113318203      Sivas   \n",
      "\n",
      "                İlce      Kan  \\\n",
      "0     Ardahan Merkez   B Rh -   \n",
      "4              Derik   A Rh -   \n",
      "7              Akkuş   0 Rh +   \n",
      "14         Çerkezköy   B Rh -   \n",
      "16    Bayburt Merkez   B Rh +   \n",
      "...              ...      ...   \n",
      "4994         Malkara   0 Rh +   \n",
      "4995         Günyüzü   A Rh -   \n",
      "4996   Şarkikaraağaç   B Rh +   \n",
      "4997         Pervari   A Rh -   \n",
      "4998           Hafik  AB Rh -   \n",
      "\n",
      "                                                 Bolum  \n",
      "0                           İç Hastalıkları (Dahiliye)  \n",
      "4                                 Böbrek Nakli Merkezi  \n",
      "7     Pediatrik Fizik Tedavi ve Rehabilitasyon Merkezi  \n",
      "14          Deri ve Zührevi Hastalıkları (Dermatoloji)  \n",
      "16                               Solunum Fizyoterapisi  \n",
      "...                                                ...  \n",
      "4994                               Ağız ve Diş Sağlığı  \n",
      "4995                     Kalp ve Damar Cerrahisi (KVC)  \n",
      "4996                                 Beslenme ve Diyet  \n",
      "4997                Kozmetik Dermatoloji (Kozmetoloji)  \n",
      "4998                                Psikoloji (Klinik)  \n",
      "\n",
      "[2639 rows x 10 columns]\n"
     ]
    }
   ],
   "source": [
    "print(kadın)"
   ]
  },
  {
   "cell_type": "code",
   "execution_count": 9,
   "metadata": {},
   "outputs": [
    {
     "name": "stdout",
     "output_type": "stream",
     "text": [
      "Ad_Soyad    2361\n",
      "Tc          2361\n",
      "Cinsiyet    2361\n",
      "Yas         2361\n",
      "Mail        2361\n",
      "Tel         2361\n",
      "İl          2361\n",
      "İlce        2361\n",
      "Kan         2361\n",
      "Bolum       2291\n",
      "dtype: int64\n"
     ]
    }
   ],
   "source": [
    "#Sütunların doluluk sayısı;\n",
    "\n",
    "print(erkek.count())"
   ]
  },
  {
   "cell_type": "code",
   "execution_count": 11,
   "metadata": {},
   "outputs": [
    {
     "name": "stdout",
     "output_type": "stream",
     "text": [
      "Ad_Soyad    2639\n",
      "Tc          2639\n",
      "Cinsiyet    2639\n",
      "Yas         2639\n",
      "Mail        2639\n",
      "Tel         2639\n",
      "İl          2639\n",
      "İlce        2639\n",
      "Kan         2639\n",
      "Bolum       2557\n",
      "dtype: int64\n"
     ]
    }
   ],
   "source": [
    "print(kadın.count())"
   ]
  },
  {
   "cell_type": "code",
   "execution_count": 15,
   "metadata": {},
   "outputs": [
    {
     "name": "stdout",
     "output_type": "stream",
     "text": [
      "2361\n",
      "2639\n"
     ]
    }
   ],
   "source": [
    "# Kadın ve erkek sayısı\n",
    "\n",
    "print(erkek[\"Cinsiyet\"].count())\n",
    "print(kadın[\"Cinsiyet\"].count())"
   ]
  },
  {
   "cell_type": "code",
   "execution_count": 21,
   "metadata": {},
   "outputs": [
    {
     "name": "stdout",
     "output_type": "stream",
     "text": [
      "47.22\n",
      "52.78\n",
      "Erkek Hasta oranı: %47.22 --- Kadın Hasta Oranı: %52.78\n"
     ]
    }
   ],
   "source": [
    "Erkek_Hasta_Oranı= erkek[\"Cinsiyet\"].count()/(erkek[\"Cinsiyet\"].count()+kadın[\"Cinsiyet\"].count())*100\n",
    "Kadın_Hasta_Oranı= kadın[\"Cinsiyet\"].count()/(erkek[\"Cinsiyet\"].count()+kadın[\"Cinsiyet\"].count())*100\n",
    "\n",
    "\n",
    "print(Erkek_Hasta_Oranı)\n",
    "print(Kadın_Hasta_Oranı)\n",
    "\n",
    "print(f\"Erkek Hasta oranı: %{Erkek_Hasta_Oranı} --- Kadın Hasta Oranı: %{Kadın_Hasta_Oranı}\")"
   ]
  },
  {
   "cell_type": "code",
   "execution_count": 22,
   "metadata": {},
   "outputs": [
    {
     "name": "stdout",
     "output_type": "stream",
     "text": [
      "45.4372\n"
     ]
    }
   ],
   "source": [
    "yasort=veri[\"Yas\"].mean()\n",
    "\n",
    "print(yasort)"
   ]
  },
  {
   "cell_type": "code",
   "execution_count": 26,
   "metadata": {},
   "outputs": [
    {
     "name": "stdout",
     "output_type": "stream",
     "text": [
      "Erkeklerin yaş ortalaması: 45.28 --- Kadınların yayaş ortalaması: 45.58\n"
     ]
    }
   ],
   "source": [
    "yasort_erkek=erkek[\"Yas\"].mean()\n",
    "yasort_kadın=kadın[\"Yas\"].mean()\n",
    "\n",
    "print(f\"Erkeklerin yaş ortalaması: {round(yasort_erkek,2)} --- Kadınların yayaş ortalaması: {round(yasort_kadın,2)}\")\n"
   ]
  },
  {
   "cell_type": "code",
   "execution_count": 29,
   "metadata": {},
   "outputs": [
    {
     "name": "stdout",
     "output_type": "stream",
     "text": [
      "İl\n",
      "Adana             43.580645\n",
      "Adıyaman          43.886792\n",
      "Afyonkarahisar    41.827586\n",
      "Aksaray           46.906250\n",
      "Amasya            44.484375\n",
      "                    ...    \n",
      "Çorum             47.214286\n",
      "İstanbul          45.492754\n",
      "İzmir             46.174603\n",
      "Şanlıurfa         44.231884\n",
      "Şırnak            47.342857\n",
      "Name: Yas, Length: 81, dtype: float64\n"
     ]
    }
   ],
   "source": [
    "# İllere göre yaş ortalaması\n",
    "\n",
    "il_yas=veri.groupby(\"İl\")[\"Yas\"].mean()\n",
    "\n",
    "print(il_yas)"
   ]
  },
  {
   "cell_type": "code",
   "execution_count": 30,
   "metadata": {},
   "outputs": [
    {
     "name": "stdout",
     "output_type": "stream",
     "text": [
      "İl              Cinsiyet\n",
      "Adana           Erkek       48.391304\n",
      "                Kadın       40.743590\n",
      "Adıyaman        Erkek       42.300000\n",
      "                Kadın       45.956522\n",
      "Afyonkarahisar  Erkek       40.880000\n",
      "                              ...    \n",
      "İzmir           Kadın       46.105263\n",
      "Şanlıurfa       Erkek       44.216216\n",
      "                Kadın       44.250000\n",
      "Şırnak          Erkek       47.515152\n",
      "                Kadın       47.189189\n",
      "Name: Yas, Length: 162, dtype: float64\n"
     ]
    }
   ],
   "source": [
    "# Birden fazla grup için yaş ortalaması;\n",
    "\n",
    "il_cinsiyet_yasort=veri.groupby([\"İl\",\"Cinsiyet\"])[\"Yas\"].mean()\n",
    "print(il_cinsiyet_yasort)"
   ]
  },
  {
   "cell_type": "code",
   "execution_count": null,
   "metadata": {},
   "outputs": [],
   "source": []
  }
 ],
 "metadata": {
  "kernelspec": {
   "display_name": "Python 3.10.6 64-bit (system)",
   "language": "python",
   "name": "python3"
  },
  "language_info": {
   "codemirror_mode": {
    "name": "ipython",
    "version": 3
   },
   "file_extension": ".py",
   "mimetype": "text/x-python",
   "name": "python",
   "nbconvert_exporter": "python",
   "pygments_lexer": "ipython3",
   "version": "3.10.6"
  },
  "orig_nbformat": 4,
  "vscode": {
   "interpreter": {
    "hash": "153b678b2f7a8cf3f4ae0b3640dd641e7d064b4c764ba4b70fe37c6e052025cd"
   }
  }
 },
 "nbformat": 4,
 "nbformat_minor": 2
}
