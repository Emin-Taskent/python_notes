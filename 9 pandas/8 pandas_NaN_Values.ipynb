{
 "cells": [
  {
   "cell_type": "code",
   "execution_count": 1,
   "metadata": {},
   "outputs": [],
   "source": [
    "import pandas as pd"
   ]
  },
  {
   "cell_type": "code",
   "execution_count": 3,
   "metadata": {},
   "outputs": [
    {
     "name": "stdout",
     "output_type": "stream",
     "text": [
      "              Ad_Soyad Cinsiyet   Yas                                 Mail  \\\n",
      "0        Masal Elkıran    Kadın  34.0       m.elkıran@anlaşılırekonomi.com   \n",
      "1          Cem Gözağaç    Erkek  35.0       c.gözağaç@anlaşılırekonomi.com   \n",
      "2       Veli Dinçaslan    Erkek  56.0     v.dinçaslan@anlaşılırekonomi.com   \n",
      "3      Niyazi Yeniçeri    Erkek  20.0      n.yeniçeri@anlaşılırekonomi.com   \n",
      "4   Ayten Hacıeminoglu      NaN  58.0  a.hacıeminoglu@anlaşılırekonomi.com   \n",
      "5        Sezer Kalaman    Erkek  58.0                                  NaN   \n",
      "6           Yavuz Türk      NaN   NaN          y.türk@anlaşılırekonomi.com   \n",
      "7         Mehtap Yaşat    Kadın  29.0         m.yaşat@anlaşılırekonomi.com   \n",
      "8       Serhat Sepetçi    Erkek  40.0                                  NaN   \n",
      "9          Özgür Hassu    Erkek  27.0         ö.hassu@anlaşılırekonomi.com   \n",
      "10      Bülent Tarpıcı      NaN  54.0       b.tarpıcı@anlaşılırekonomi.com   \n",
      "11   Ali Osman Bayeren    Erkek  42.0       a.bayeren@anlaşılırekonomi.com   \n",
      "12      Durmuş Erdiler      NaN  45.0                                  NaN   \n",
      "13         Kamil Erman    Erkek  32.0         k.erman@anlaşılırekonomi.com   \n",
      "14         Didem Mayuk    Kadın  53.0         d.mayuk@anlaşılırekonomi.com   \n",
      "\n",
      "            İl                                             Bolum  \n",
      "0      Ardahan                        İç Hastalıkları (Dahiliye)  \n",
      "1      Isparta                                    Tıbbi Onkoloji  \n",
      "2      Trabzon                               Transfüzyon Merkezi  \n",
      "3   Diyarbakır                                               NaN  \n",
      "4       Mardin                              Böbrek Nakli Merkezi  \n",
      "5        Muğla                Kozmetik Dermatoloji (Kozmetoloji)  \n",
      "6       Bartın                                 Beslenme ve Diyet  \n",
      "7         Ordu  Pediatrik Fizik Tedavi ve Rehabilitasyon Merkezi  \n",
      "8       Samsun                    Robotik Rehabilitasyon Merkezi  \n",
      "9          NaN            Beyin ve Sinir Cerrahisi (Nöroşirürji)  \n",
      "10      Mersin                                          Patoloji  \n",
      "11      Şırnak                                               NaN  \n",
      "12    Osmaniye                                         Saç Ekimi  \n",
      "13   Kastamonu                              Liyezon Psikiyatrisi  \n",
      "14    Tekirdağ        Deri ve Zührevi Hastalıkları (Dermatoloji)  \n"
     ]
    }
   ],
   "source": [
    "veri=pd.DataFrame(pd.read_excel(\"datasets/hastane2.xlsx\"))\n",
    "\n",
    "print(veri)"
   ]
  },
  {
   "cell_type": "code",
   "execution_count": 4,
   "metadata": {},
   "outputs": [
    {
     "name": "stdout",
     "output_type": "stream",
     "text": [
      "    Ad_Soyad  Cinsiyet    Yas   Mail     İl  Bolum\n",
      "0      False     False  False  False  False  False\n",
      "1      False     False  False  False  False  False\n",
      "2      False     False  False  False  False  False\n",
      "3      False     False  False  False  False   True\n",
      "4      False      True  False  False  False  False\n",
      "5      False     False  False   True  False  False\n",
      "6      False      True   True  False  False  False\n",
      "7      False     False  False  False  False  False\n",
      "8      False     False  False   True  False  False\n",
      "9      False     False  False  False   True  False\n",
      "10     False      True  False  False  False  False\n",
      "11     False     False  False  False  False   True\n",
      "12     False      True  False   True  False  False\n",
      "13     False     False  False  False  False  False\n",
      "14     False     False  False  False  False  False\n"
     ]
    }
   ],
   "source": [
    "# .isnull() metodu veri setinde olmayan değerleri \"True\" döndürü. .notnull() ise olan değerleri \"True\" döndürür. .isnull()'un tersidir denilebilir.\n",
    "\n",
    "print(veri.isnull())"
   ]
  },
  {
   "cell_type": "code",
   "execution_count": 5,
   "metadata": {},
   "outputs": [
    {
     "name": "stdout",
     "output_type": "stream",
     "text": [
      "Ad_Soyad    0\n",
      "Cinsiyet    4\n",
      "Yas         1\n",
      "Mail        3\n",
      "İl          1\n",
      "Bolum       2\n",
      "dtype: int64\n"
     ]
    }
   ],
   "source": [
    "# hangi satırda kaç adet null değer olduğunu görebilmek için ise;\n",
    "\n",
    "print(veri.isnull().sum())"
   ]
  },
  {
   "cell_type": "code",
   "execution_count": 6,
   "metadata": {},
   "outputs": [
    {
     "name": "stdout",
     "output_type": "stream",
     "text": [
      "          Ad_Soyad Cinsiyet   Yas                              Mail  \\\n",
      "0    Masal Elkıran    Kadın  34.0    m.elkıran@anlaşılırekonomi.com   \n",
      "1      Cem Gözağaç    Erkek  35.0    c.gözağaç@anlaşılırekonomi.com   \n",
      "2   Veli Dinçaslan    Erkek  56.0  v.dinçaslan@anlaşılırekonomi.com   \n",
      "7     Mehtap Yaşat    Kadın  29.0      m.yaşat@anlaşılırekonomi.com   \n",
      "13     Kamil Erman    Erkek  32.0      k.erman@anlaşılırekonomi.com   \n",
      "14     Didem Mayuk    Kadın  53.0      d.mayuk@anlaşılırekonomi.com   \n",
      "\n",
      "           İl                                             Bolum  \n",
      "0     Ardahan                        İç Hastalıkları (Dahiliye)  \n",
      "1     Isparta                                    Tıbbi Onkoloji  \n",
      "2     Trabzon                               Transfüzyon Merkezi  \n",
      "7        Ordu  Pediatrik Fizik Tedavi ve Rehabilitasyon Merkezi  \n",
      "13  Kastamonu                              Liyezon Psikiyatrisi  \n",
      "14   Tekirdağ        Deri ve Zührevi Hastalıkları (Dermatoloji)  \n"
     ]
    }
   ],
   "source": [
    "# null değerlerini silebilmek için .dropna() metodu kullnılır. İçerisine axis= değeri girilmelidir. Boş çalıştırıldığında satırı siler.\n",
    "# axis= girilmediğinde axis otomatik olarak \"0\" kabul ediir. \"1\" değeri ile sütun da silinebilir.\n",
    "\n",
    "veri2=veri.dropna(axis=0)\n",
    "print(veri2)"
   ]
  },
  {
   "cell_type": "code",
   "execution_count": 10,
   "metadata": {},
   "outputs": [
    {
     "name": "stdout",
     "output_type": "stream",
     "text": [
      "6\n"
     ]
    }
   ],
   "source": [
    "print(len(veri2[\"Yas\"]))\n",
    "\n",
    "\n",
    "# Sadece 6 satır kaldığını görmüş olduk."
   ]
  },
  {
   "cell_type": "code",
   "execution_count": 12,
   "metadata": {},
   "outputs": [
    {
     "name": "stdout",
     "output_type": "stream",
     "text": [
      "             Ad_Soyad Cinsiyet   Yas                              Mail  \\\n",
      "0       Masal Elkıran    Kadın  34.0    m.elkıran@anlaşılırekonomi.com   \n",
      "1         Cem Gözağaç    Erkek  35.0    c.gözağaç@anlaşılırekonomi.com   \n",
      "2      Veli Dinçaslan    Erkek  56.0  v.dinçaslan@anlaşılırekonomi.com   \n",
      "3     Niyazi Yeniçeri    Erkek  20.0   n.yeniçeri@anlaşılırekonomi.com   \n",
      "5       Sezer Kalaman    Erkek  58.0                               NaN   \n",
      "7        Mehtap Yaşat    Kadın  29.0      m.yaşat@anlaşılırekonomi.com   \n",
      "8      Serhat Sepetçi    Erkek  40.0                               NaN   \n",
      "9         Özgür Hassu    Erkek  27.0      ö.hassu@anlaşılırekonomi.com   \n",
      "11  Ali Osman Bayeren    Erkek  42.0    a.bayeren@anlaşılırekonomi.com   \n",
      "13        Kamil Erman    Erkek  32.0      k.erman@anlaşılırekonomi.com   \n",
      "14        Didem Mayuk    Kadın  53.0      d.mayuk@anlaşılırekonomi.com   \n",
      "\n",
      "            İl                                             Bolum  \n",
      "0      Ardahan                        İç Hastalıkları (Dahiliye)  \n",
      "1      Isparta                                    Tıbbi Onkoloji  \n",
      "2      Trabzon                               Transfüzyon Merkezi  \n",
      "3   Diyarbakır                                               NaN  \n",
      "5        Muğla                Kozmetik Dermatoloji (Kozmetoloji)  \n",
      "7         Ordu  Pediatrik Fizik Tedavi ve Rehabilitasyon Merkezi  \n",
      "8       Samsun                    Robotik Rehabilitasyon Merkezi  \n",
      "9          NaN            Beyin ve Sinir Cerrahisi (Nöroşirürji)  \n",
      "11      Şırnak                                               NaN  \n",
      "13   Kastamonu                              Liyezon Psikiyatrisi  \n",
      "14    Tekirdağ        Deri ve Zührevi Hastalıkları (Dermatoloji)  \n"
     ]
    }
   ],
   "source": [
    "# Sadece belirli bir sütunlardaki NaN değerinin olduğu satırı silme işlemi;\n",
    "\n",
    "veri3=veri.dropna(subset=[\"Cinsiyet\", \"Yas\"])\n",
    "print(veri3)"
   ]
  },
  {
   "cell_type": "code",
   "execution_count": 13,
   "metadata": {},
   "outputs": [
    {
     "name": "stdout",
     "output_type": "stream",
     "text": [
      "              Ad_Soyad Cinsiyet   Yas                                 Mail  \\\n",
      "0        Masal Elkıran    Kadın  34.0       m.elkıran@anlaşılırekonomi.com   \n",
      "1          Cem Gözağaç    Erkek  35.0       c.gözağaç@anlaşılırekonomi.com   \n",
      "2       Veli Dinçaslan    Erkek  56.0     v.dinçaslan@anlaşılırekonomi.com   \n",
      "3      Niyazi Yeniçeri    Erkek  20.0      n.yeniçeri@anlaşılırekonomi.com   \n",
      "4   Ayten Hacıeminoglu      N/A  58.0  a.hacıeminoglu@anlaşılırekonomi.com   \n",
      "5        Sezer Kalaman    Erkek  58.0                                  N/A   \n",
      "6           Yavuz Türk      N/A   N/A          y.türk@anlaşılırekonomi.com   \n",
      "7         Mehtap Yaşat    Kadın  29.0         m.yaşat@anlaşılırekonomi.com   \n",
      "8       Serhat Sepetçi    Erkek  40.0                                  N/A   \n",
      "9          Özgür Hassu    Erkek  27.0         ö.hassu@anlaşılırekonomi.com   \n",
      "10      Bülent Tarpıcı      N/A  54.0       b.tarpıcı@anlaşılırekonomi.com   \n",
      "11   Ali Osman Bayeren    Erkek  42.0       a.bayeren@anlaşılırekonomi.com   \n",
      "12      Durmuş Erdiler      N/A  45.0                                  N/A   \n",
      "13         Kamil Erman    Erkek  32.0         k.erman@anlaşılırekonomi.com   \n",
      "14         Didem Mayuk    Kadın  53.0         d.mayuk@anlaşılırekonomi.com   \n",
      "\n",
      "            İl                                             Bolum  \n",
      "0      Ardahan                        İç Hastalıkları (Dahiliye)  \n",
      "1      Isparta                                    Tıbbi Onkoloji  \n",
      "2      Trabzon                               Transfüzyon Merkezi  \n",
      "3   Diyarbakır                                               N/A  \n",
      "4       Mardin                              Böbrek Nakli Merkezi  \n",
      "5        Muğla                Kozmetik Dermatoloji (Kozmetoloji)  \n",
      "6       Bartın                                 Beslenme ve Diyet  \n",
      "7         Ordu  Pediatrik Fizik Tedavi ve Rehabilitasyon Merkezi  \n",
      "8       Samsun                    Robotik Rehabilitasyon Merkezi  \n",
      "9          N/A            Beyin ve Sinir Cerrahisi (Nöroşirürji)  \n",
      "10      Mersin                                          Patoloji  \n",
      "11      Şırnak                                               N/A  \n",
      "12    Osmaniye                                         Saç Ekimi  \n",
      "13   Kastamonu                              Liyezon Psikiyatrisi  \n",
      "14    Tekirdağ        Deri ve Zührevi Hastalıkları (Dermatoloji)  \n"
     ]
    }
   ],
   "source": [
    "# NaN değerlerin TAMAMININ yerine değer yazdırma işlemi;\n",
    "\n",
    "veri4=veri.fillna(value=\"N/A\")\n",
    "print(veri4)"
   ]
  },
  {
   "cell_type": "code",
   "execution_count": null,
   "metadata": {},
   "outputs": [],
   "source": []
  }
 ],
 "metadata": {
  "kernelspec": {
   "display_name": "Python 3.10.6 64-bit (system)",
   "language": "python",
   "name": "python3"
  },
  "language_info": {
   "codemirror_mode": {
    "name": "ipython",
    "version": 3
   },
   "file_extension": ".py",
   "mimetype": "text/x-python",
   "name": "python",
   "nbconvert_exporter": "python",
   "pygments_lexer": "ipython3",
   "version": "3.10.6"
  },
  "orig_nbformat": 4,
  "vscode": {
   "interpreter": {
    "hash": "153b678b2f7a8cf3f4ae0b3640dd641e7d064b4c764ba4b70fe37c6e052025cd"
   }
  }
 },
 "nbformat": 4,
 "nbformat_minor": 2
}
