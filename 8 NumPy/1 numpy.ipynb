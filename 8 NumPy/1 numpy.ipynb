{
 "cells": [
  {
   "cell_type": "code",
   "execution_count": 1,
   "metadata": {},
   "outputs": [
    {
     "name": "stdout",
     "output_type": "stream",
     "text": [
      "Requirement already satisfied: numpy in c:\\users\\emin taskent\\appdata\\local\\programs\\python\\python310\\lib\\site-packages (1.23.3)\n",
      "Note: you may need to restart the kernel to use updated packages.\n"
     ]
    }
   ],
   "source": [
    "pip install numpy"
   ]
  },
  {
   "cell_type": "code",
   "execution_count": 1,
   "metadata": {},
   "outputs": [],
   "source": [
    "import numpy as np"
   ]
  },
  {
   "cell_type": "markdown",
   "metadata": {},
   "source": [
    "# Numpy Array and Shaping"
   ]
  },
  {
   "cell_type": "code",
   "execution_count": 2,
   "metadata": {},
   "outputs": [
    {
     "name": "stdout",
     "output_type": "stream",
     "text": [
      "<class 'numpy.ndarray'>\n"
     ]
    }
   ],
   "source": [
    "# python'da liste olarak adlandırılan ifade numpy'de dizi (array) olarak ifade edilmektedir.\n",
    "\n",
    "dizi=np.array([1,2,3,4,5,6,7,8])\n",
    "\n",
    "print(type(dizi))\n",
    "\n",
    "# Yukarıda tek boyulu bir dizi tanımlanmıştır.\n",
    "# numpy array'leri içerisinde sadece tek tip veri tipi olmalıdır. Heterojen veri tipleri olamaz."
   ]
  },
  {
   "cell_type": "code",
   "execution_count": 14,
   "metadata": {},
   "outputs": [
    {
     "name": "stdout",
     "output_type": "stream",
     "text": [
      "[1 2 3 4 5 6 7 8]\n",
      "[[1 2]\n",
      " [3 4]\n",
      " [8 6]\n",
      " [7 8]]\n",
      "(4, 2)\n"
     ]
    }
   ],
   "source": [
    "dizi2=np.array([[1,2],[3,4],[8,6],[7,8]])\n",
    "\n",
    "# Yukarıda çok boyutlu bir dizi tanımlanmıştır. Çok boyutlu diziler aynı zamanda matris yapısına sahiptir.\n",
    "\n",
    "print(dizi)\n",
    "print(dizi2)\n",
    "\n",
    "print(dizi2.shape)      # matris yapsını döndürdü. 4x2'lik bir matris olduğunu söyledi bize."
   ]
  },
  {
   "cell_type": "code",
   "execution_count": 15,
   "metadata": {},
   "outputs": [
    {
     "name": "stdout",
     "output_type": "stream",
     "text": [
      "[[1 2]\n",
      " [3 4]\n",
      " [5 6]\n",
      " [7 8]]\n",
      "[[1 2 3 4]\n",
      " [5 6 7 8]]\n"
     ]
    }
   ],
   "source": [
    "# Tek boyutlu bir dizi içerisinden matris çıkarabilmek için .reshape() metodu kullanılır.\n",
    "\n",
    "dizi3=dizi.reshape(4,2)\n",
    "dizi4=dizi.reshape(2,4)\n",
    "\n",
    "print(dizi3)\n",
    "print(dizi4)"
   ]
  },
  {
   "cell_type": "markdown",
   "metadata": {},
   "source": [
    "# Ardışık Sayılardan Oluşan Array Oluşturmak ve Bir Aralığı Belirli Sayıda Noktaya Bölmek"
   ]
  },
  {
   "cell_type": "code",
   "execution_count": 16,
   "metadata": {},
   "outputs": [
    {
     "name": "stdout",
     "output_type": "stream",
     "text": [
      "[ 0  5 10 15 20 25 30 35 40 45 50 55 60 65 70 75 80 85 90 95]\n",
      "[  0.  25.  50.  75. 100.]\n"
     ]
    }
   ],
   "source": [
    "# .arange() fonksiyonunun kullanımı;\n",
    "\n",
    "aralık=np.arange(0,100,5)              # 0'dan 100'e kadar (100 dahil değil) olan sayıları 5'er arttırarak yazdırdı.\n",
    "print(aralık)\n",
    "\n",
    "# linspace() fonksiyonunun kullanımı;\n",
    "\n",
    "aralık2=np.linspace(0,100,5)           # Artış sayısını değil eleman sayısını gösteren bir fonksiyondur. Bu fonksiyonda son parametre dahildir.\n",
    "                                       # Son sayının dahil olmasını istemiyorsak, np.linspace(0,100,5,endpoint=false) yazmamız gerekir.\n",
    "print(aralık2)"
   ]
  },
  {
   "cell_type": "code",
   "execution_count": 17,
   "metadata": {},
   "outputs": [
    {
     "data": {
      "text/plain": [
       "array([ 1.        ,  1.59183673,  2.18367347,  2.7755102 ,  3.36734694,\n",
       "        3.95918367,  4.55102041,  5.14285714,  5.73469388,  6.32653061,\n",
       "        6.91836735,  7.51020408,  8.10204082,  8.69387755,  9.28571429,\n",
       "        9.87755102, 10.46938776, 11.06122449, 11.65306122, 12.24489796,\n",
       "       12.83673469, 13.42857143, 14.02040816, 14.6122449 , 15.20408163,\n",
       "       15.79591837, 16.3877551 , 16.97959184, 17.57142857, 18.16326531,\n",
       "       18.75510204, 19.34693878, 19.93877551, 20.53061224, 21.12244898,\n",
       "       21.71428571, 22.30612245, 22.89795918, 23.48979592, 24.08163265,\n",
       "       24.67346939, 25.26530612, 25.85714286, 26.44897959, 27.04081633,\n",
       "       27.63265306, 28.2244898 , 28.81632653, 29.40816327, 30.        ])"
      ]
     },
     "execution_count": 17,
     "metadata": {},
     "output_type": "execute_result"
    }
   ],
   "source": [
    "np.linspace(1,30)"
   ]
  },
  {
   "cell_type": "code",
   "execution_count": 18,
   "metadata": {},
   "outputs": [
    {
     "data": {
      "text/plain": [
       "array([ 0,  1,  2,  3,  4,  5,  6,  7,  8,  9, 10, 11])"
      ]
     },
     "execution_count": 18,
     "metadata": {},
     "output_type": "execute_result"
    }
   ],
   "source": [
    "# np.arrange kullanımına örnek;\n",
    "\n",
    "# [0,12)\n",
    "\n",
    "np.arange(0,12)"
   ]
  },
  {
   "cell_type": "markdown",
   "metadata": {},
   "source": [
    "# Normal Distribution(dağılım)'dan Örneklem Almak"
   ]
  },
  {
   "cell_type": "code",
   "execution_count": 19,
   "metadata": {},
   "outputs": [
    {
     "data": {
      "text/plain": [
       "array([[-0.63885157, -1.72613189, -0.72708181, -0.31907948, -0.01756393],\n",
       "       [-0.15441836,  1.3364606 ,  1.2481591 ,  0.3854925 ,  0.02407005],\n",
       "       [ 0.27805375,  0.38135103, -0.67353169,  0.06798819,  1.27056743],\n",
       "       [ 0.201508  , -2.17723912,  0.29412396, -1.70364152, -1.63247626]])"
      ]
     },
     "execution_count": 19,
     "metadata": {},
     "output_type": "execute_result"
    }
   ],
   "source": [
    "# Numpy ile normal dağılım değerleri ile array oluşturma;\n",
    "\n",
    "#(mean,std, (matrix shape)) formatında yazılır.\n",
    "\n",
    "np.random.normal(0,1,(4,5))"
   ]
  },
  {
   "cell_type": "markdown",
   "metadata": {},
   "source": [
    "# Random Integer'lardan Oluşan Array Oluşturmak"
   ]
  },
  {
   "cell_type": "code",
   "execution_count": 20,
   "metadata": {},
   "outputs": [
    {
     "data": {
      "text/plain": [
       "array([[6, 5, 4, 2],\n",
       "       [6, 3, 9, 4],\n",
       "       [3, 8, 1, 5]])"
      ]
     },
     "execution_count": 20,
     "metadata": {},
     "output_type": "execute_result"
    }
   ],
   "source": [
    "# Numpy ile random integer ile array oluşturulması\n",
    "\n",
    "# (min,max,(matrix shape)) formatında yazılır. [min, max) Max değer görüldüğü üzere dahil değildir. \n",
    "# Tamamen random olduğu için uniform dağılımı gösterir.\n",
    "\n",
    "np.random.randint(1,10,(3,4))"
   ]
  },
  {
   "cell_type": "code",
   "execution_count": 21,
   "metadata": {},
   "outputs": [
    {
     "data": {
      "text/plain": [
       "{1: 99838,\n",
       " 3: 99959,\n",
       " 8: 100512,\n",
       " 5: 100322,\n",
       " 6: 99559,\n",
       " 10: 100338,\n",
       " 7: 100059,\n",
       " 2: 100060,\n",
       " 4: 99882,\n",
       " 9: 99471}"
      ]
     },
     "execution_count": 21,
     "metadata": {},
     "output_type": "execute_result"
    }
   ],
   "source": [
    "d={}\n",
    "\n",
    "for _ in range(1000000):\n",
    "    val=np.random.randint(1,11)\n",
    "\n",
    "    if val not in d:\n",
    "        d[val]=1\n",
    "    else:\n",
    "        d[val]+=1\n",
    "\n",
    "d       # hepsi yaklaşık olarak 100_000'e yakınsadı."
   ]
  },
  {
   "cell_type": "markdown",
   "metadata": {},
   "source": [
    "# Birim matrix oluşturmak"
   ]
  },
  {
   "cell_type": "code",
   "execution_count": 22,
   "metadata": {},
   "outputs": [
    {
     "data": {
      "text/plain": [
       "array([[1., 0., 0.],\n",
       "       [0., 1., 0.],\n",
       "       [0., 0., 1.]])"
      ]
     },
     "execution_count": 22,
     "metadata": {},
     "output_type": "execute_result"
    }
   ],
   "source": [
    "np.eye(3,3)"
   ]
  },
  {
   "cell_type": "markdown",
   "metadata": {},
   "source": [
    "# Numpy Array İşlemleri"
   ]
  },
  {
   "cell_type": "code",
   "execution_count": 23,
   "metadata": {},
   "outputs": [
    {
     "ename": "TypeError",
     "evalue": "can't multiply sequence by non-int of type 'list'",
     "output_type": "error",
     "traceback": [
      "\u001b[1;31m---------------------------------------------------------------------------\u001b[0m",
      "\u001b[1;31mTypeError\u001b[0m                                 Traceback (most recent call last)",
      "Cell \u001b[1;32mIn [23], line 6\u001b[0m\n\u001b[0;32m      3\u001b[0m a\u001b[39m=\u001b[39m[\u001b[39m1\u001b[39m,\u001b[39m2\u001b[39m,\u001b[39m3\u001b[39m]\n\u001b[0;32m      4\u001b[0m b\u001b[39m=\u001b[39m[\u001b[39m3\u001b[39m,\u001b[39m4\u001b[39m,\u001b[39m5\u001b[39m]\n\u001b[1;32m----> 6\u001b[0m a\u001b[39m*\u001b[39mb\n",
      "\u001b[1;31mTypeError\u001b[0m: can't multiply sequence by non-int of type 'list'"
     ]
    }
   ],
   "source": [
    "# python'ın kendisinde listeler için çarpma operatörü tanımlı değildir.\n",
    "\n",
    "a=[1,2,3]\n",
    "b=[3,4,5]\n",
    "\n",
    "a*b"
   ]
  },
  {
   "cell_type": "code",
   "execution_count": 24,
   "metadata": {},
   "outputs": [
    {
     "data": {
      "text/plain": [
       "[1, 2, 3, 1, 2, 3, 1, 2, 3]"
      ]
     },
     "execution_count": 24,
     "metadata": {},
     "output_type": "execute_result"
    }
   ],
   "source": [
    "[1,2,3]*3\n",
    "\n",
    "# Yukarda görüldüğü üzere bir listeyi pythonda çarparsak ard arda çarptığımız değer kadar birleştirir."
   ]
  },
  {
   "cell_type": "code",
   "execution_count": 25,
   "metadata": {},
   "outputs": [
    {
     "data": {
      "text/plain": [
       "[3, 4, 5, 3, 4, 5, 3, 4, 5]"
      ]
     },
     "execution_count": 25,
     "metadata": {},
     "output_type": "execute_result"
    }
   ],
   "source": [
    "[3,4,5]+[3,4,5]+[3,4,5]\n",
    "\n",
    "# Yukarda görüldüğü üzere bir listeyi pythonda toplarsak ard arda birleştirme işlemi yapar."
   ]
  },
  {
   "cell_type": "code",
   "execution_count": 26,
   "metadata": {},
   "outputs": [
    {
     "data": {
      "text/plain": [
       "array([ 3,  8, 15])"
      ]
     },
     "execution_count": 26,
     "metadata": {},
     "output_type": "execute_result"
    }
   ],
   "source": [
    "x=np.array([1,2,3])\n",
    "y=np.array([3,4,5])\n",
    "\n",
    "x*y"
   ]
  },
  {
   "cell_type": "code",
   "execution_count": 27,
   "metadata": {},
   "outputs": [
    {
     "ename": "ValueError",
     "evalue": "operands could not be broadcast together with shapes (3,) (4,) ",
     "output_type": "error",
     "traceback": [
      "\u001b[1;31m---------------------------------------------------------------------------\u001b[0m",
      "\u001b[1;31mValueError\u001b[0m                                Traceback (most recent call last)",
      "Cell \u001b[1;32mIn [27], line 4\u001b[0m\n\u001b[0;32m      1\u001b[0m x2\u001b[39m=\u001b[39mnp\u001b[39m.\u001b[39marray([\u001b[39m1\u001b[39m,\u001b[39m2\u001b[39m,\u001b[39m3\u001b[39m])\n\u001b[0;32m      2\u001b[0m y2\u001b[39m=\u001b[39mnp\u001b[39m.\u001b[39marray([\u001b[39m3\u001b[39m,\u001b[39m4\u001b[39m,\u001b[39m5\u001b[39m,\u001b[39m6\u001b[39m])\n\u001b[1;32m----> 4\u001b[0m x2\u001b[39m*\u001b[39my2\n",
      "\u001b[1;31mValueError\u001b[0m: operands could not be broadcast together with shapes (3,) (4,) "
     ]
    }
   ],
   "source": [
    "x2=np.array([1,2,3])\n",
    "y2=np.array([3,4,5,6])\n",
    "\n",
    "x2*y2\n",
    "\n",
    "# eleman sayıları aynı olmazsa error alınır."
   ]
  },
  {
   "cell_type": "code",
   "execution_count": 28,
   "metadata": {},
   "outputs": [
    {
     "ename": "ValueError",
     "evalue": "not enough values to unpack (expected 3, got 0)",
     "output_type": "error",
     "traceback": [
      "\u001b[1;31m---------------------------------------------------------------------------\u001b[0m",
      "\u001b[1;31mValueError\u001b[0m                                Traceback (most recent call last)",
      "Cell \u001b[1;32mIn [28], line 1\u001b[0m\n\u001b[1;32m----> 1\u001b[0m n, m, p \u001b[39m=\u001b[39m \u001b[39mmap\u001b[39m(\u001b[39mint\u001b[39m, \u001b[39minput\u001b[39m()\u001b[39m.\u001b[39msplit())\n\u001b[0;32m      3\u001b[0m nexp\u001b[39m=\u001b[39m[]\n\u001b[0;32m      4\u001b[0m mexp\u001b[39m=\u001b[39m[]\n",
      "\u001b[1;31mValueError\u001b[0m: not enough values to unpack (expected 3, got 0)"
     ]
    }
   ],
   "source": [
    "n, m, p = map(int, input().split())\n",
    "\n",
    "nexp=[]\n",
    "mexp=[]\n",
    "\n",
    "for _ in range(n):\n",
    "    nexp.append(np.array(list(map(int, input().split()))))\n",
    "\n",
    "for _ in range(m):\n",
    "    mexp.append(np.array(list(map(int, input().split()))))\n",
    "\n",
    "print(np.concatenate((nexp, mexp), axis=0))"
   ]
  },
  {
   "cell_type": "code",
   "execution_count": 29,
   "metadata": {},
   "outputs": [
    {
     "data": {
      "text/plain": [
       "(5, 4)"
      ]
     },
     "execution_count": 29,
     "metadata": {},
     "output_type": "execute_result"
    }
   ],
   "source": [
    "a=np.arange(20).reshape(5,4) \n",
    "\n",
    "a.shape\n"
   ]
  },
  {
   "cell_type": "code",
   "execution_count": 30,
   "metadata": {},
   "outputs": [
    {
     "data": {
      "text/plain": [
       "[array([[0, 1, 2, 3],\n",
       "        [4, 5, 6, 7]]),\n",
       " array([[ 8,  9, 10, 11]]),\n",
       " array([[12, 13, 14, 15],\n",
       "        [16, 17, 18, 19]])]"
      ]
     },
     "execution_count": 30,
     "metadata": {},
     "output_type": "execute_result"
    }
   ],
   "source": [
    "np.vsplit(a,[2,3])"
   ]
  },
  {
   "cell_type": "code",
   "execution_count": 31,
   "metadata": {},
   "outputs": [
    {
     "data": {
      "text/plain": [
       "array([[ 1,  2,  3,  4],\n",
       "       [ 5,  6,  7,  8],\n",
       "       [ 9, 10, 11, 12]])"
      ]
     },
     "execution_count": 31,
     "metadata": {},
     "output_type": "execute_result"
    }
   ],
   "source": [
    "a=np.arange(1,13).reshape(3,4)\n",
    "a"
   ]
  },
  {
   "cell_type": "code",
   "execution_count": 32,
   "metadata": {},
   "outputs": [],
   "source": [
    "a=np.arange(1,13).reshape(3,4) \n",
    "b=a[1,(1,3)]"
   ]
  },
  {
   "cell_type": "code",
   "execution_count": 33,
   "metadata": {},
   "outputs": [
    {
     "data": {
      "text/plain": [
       "1"
      ]
     },
     "execution_count": 33,
     "metadata": {},
     "output_type": "execute_result"
    }
   ],
   "source": [
    "b.ndim"
   ]
  },
  {
   "cell_type": "markdown",
   "metadata": {},
   "source": [
    "numpy' de \"or\" veya \"and\" çalışmaz. or için \"|\", and için \"&\" kullanılır. not için ise \"~\" (tilde) işareti kullanılır. [Alt Gr + ü ile çağırılır.]"
   ]
  },
  {
   "cell_type": "code",
   "execution_count": 34,
   "metadata": {},
   "outputs": [],
   "source": [
    "a=np.arange(1,21).reshape(4,5) \n"
   ]
  },
  {
   "cell_type": "code",
   "execution_count": 35,
   "metadata": {},
   "outputs": [
    {
     "data": {
      "text/plain": [
       "array([ True,  True,  True,  True,  True])"
      ]
     },
     "execution_count": 35,
     "metadata": {},
     "output_type": "execute_result"
    }
   ],
   "source": [
    "np.any(a>4,axis=0) "
   ]
  },
  {
   "cell_type": "code",
   "execution_count": null,
   "metadata": {},
   "outputs": [],
   "source": []
  },
  {
   "cell_type": "code",
   "execution_count": null,
   "metadata": {},
   "outputs": [],
   "source": []
  }
 ],
 "metadata": {
  "kernelspec": {
   "display_name": "Python 3.10.8 64-bit",
   "language": "python",
   "name": "python3"
  },
  "language_info": {
   "codemirror_mode": {
    "name": "ipython",
    "version": 3
   },
   "file_extension": ".py",
   "mimetype": "text/x-python",
   "name": "python",
   "nbconvert_exporter": "python",
   "pygments_lexer": "ipython3",
   "version": "3.10.8"
  },
  "orig_nbformat": 4,
  "vscode": {
   "interpreter": {
    "hash": "390adafb0a3cd2e800a28b777260567fc864147ef2355efc5992f4fa826629be"
   }
  }
 },
 "nbformat": 4,
 "nbformat_minor": 2
}
