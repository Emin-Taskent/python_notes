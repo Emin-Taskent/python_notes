{
 "cells": [
  {
   "cell_type": "markdown",
   "metadata": {},
   "source": [
    "# IF/ELIF/ELSE Yapısı"
   ]
  },
  {
   "cell_type": "code",
   "execution_count": 3,
   "metadata": {},
   "outputs": [
    {
     "name": "stdout",
     "output_type": "stream",
     "text": [
      "x 4'e eşittir.\n",
      "y 4'e eşit değildir.\n"
     ]
    }
   ],
   "source": [
    "x=4\n",
    "y=5\n",
    "\n",
    "if x==4:\n",
    "    print(\"x 4'e eşittir.\")\n",
    "else:\n",
    "    print(\"x 4'e eşit değildir.\")\n",
    "\n",
    "if y==4:\n",
    "    print(\"y 4'e eşittir.\")\n",
    "else:\n",
    "    print(\"y 4'e eşit değildir.\")"
   ]
  },
  {
   "cell_type": "code",
   "execution_count": 10,
   "metadata": {},
   "outputs": [
    {
     "name": "stdout",
     "output_type": "stream",
     "text": [
      "<class 'int'>\n",
      "Hoşgeldiniz...\n"
     ]
    }
   ],
   "source": [
    "Kullanici_Adı=\"Emin\"\n",
    "Kullanici_Sifre=1234\n",
    "\n",
    "print(type(Kullanici_Sifre))\n",
    "Kullanıcı_Adı=input(\"Kullanıcı Adınızı giriniz: \")\n",
    "Kullanıcı_Şifre=input(\"Şifrenizi giriniz: \")\n",
    "\n",
    "if Kullanici_Adı==Kullanıcı_Adı and Kullanici_Sifre== int(Kullanıcı_Şifre):\n",
    "    print(\"Hoşgeldiniz...\")\n",
    "else:\n",
    "    print(\"Hatalı Giriş Yaptınız. Tekrar Deneyiniz.\")"
   ]
  },
  {
   "cell_type": "code",
   "execution_count": 15,
   "metadata": {},
   "outputs": [
    {
     "name": "stdout",
     "output_type": "stream",
     "text": [
      "Kullanıcı Bulunamadı.\n"
     ]
    }
   ],
   "source": [
    "Kullanıcı_Adı1=\"Emin\"\n",
    "Kullanıcı_Şifre1=1234\n",
    "\n",
    "Kullanıcı_Adı2=input(\"Kullanıcı Adınızı giriniz: \")\n",
    "Kullanıcı_Şifre2=input(\"Şifrenizi giriniz: \")\n",
    "\n",
    "if Kullanıcı_Adı1==Kullanıcı_Adı2 and Kullanıcı_Şifre1==int(Kullanıcı_Şifre2):\n",
    "    print(\"Hoşgeldiniz...\")\n",
    "elif Kullanıcı_Adı1!=Kullanıcı_Adı2 and Kullanıcı_Şifre1==int(Kullanıcı_Şifre2):\n",
    "    print(\"Kullanıcı Adı, hatalı tekrar deneyiniz.\")\n",
    "elif Kullanıcı_Adı1==Kullanıcı_Adı2 and Kullanıcı_Şifre1!=int(Kullanıcı_Şifre2):\n",
    "    print(\"Şifre, hatalı tekrar deneyiniz.\")\n",
    "else:\n",
    "    print(\"Kullanıcı Bulunamadı.\")\n",
    "\n",
    "# and operatörünü kullanmazsak adımlamadan dolayı kullanıcı adında takılı kalırdı."
   ]
  },
  {
   "cell_type": "markdown",
   "metadata": {},
   "source": [
    "# Örnek"
   ]
  },
  {
   "cell_type": "code",
   "execution_count": 17,
   "metadata": {},
   "outputs": [
    {
     "name": "stdout",
     "output_type": "stream",
     "text": [
      "Merhaba Emin, Hoşgeldiniz\n"
     ]
    }
   ],
   "source": [
    "Kullanıcı_Adı3=\"Emin\"\n",
    "Kullanıcı_Şifre3=1234\n",
    "\n",
    "Kullanıcı_Adı4=input(\"Kullanıcı Adınızı giriniz: \")\n",
    "Kullanıcı_Şifre4=input(\"Şifrenizi giriniz: \")\n",
    "\n",
    "if Kullanıcı_Adı3==Kullanıcı_Adı4 and Kullanıcı_Şifre3==int(Kullanıcı_Şifre4):\n",
    "    print(\"Merhaba {}, Hoşgeldiniz\".format(Kullanıcı_Adı3))\n",
    "elif Kullanıcı_Adı3!=Kullanıcı_Adı4 and Kullanıcı_Şifre3==int(Kullanıcı_Şifre4):\n",
    "    print(\"Kullanıcı Adı, hatalı tekrar deneyiniz.\")\n",
    "elif Kullanıcı_Adı3==Kullanıcı_Adı4 and Kullanıcı_Şifre3!=int(Kullanıcı_Şifre4):\n",
    "    print(\"Merhaba {}, şifreniz hatalıdır. Tekrar deneyiniz.\")\n",
    "else:\n",
    "    print(\"Kullanıcı Bulunamadı.\")"
   ]
  },
  {
   "cell_type": "code",
   "execution_count": 19,
   "metadata": {},
   "outputs": [
    {
     "name": "stdout",
     "output_type": "stream",
     "text": [
      "Merhaba Emin, şifreniz hatalıdır. Tekrar deneyiniz.\n"
     ]
    }
   ],
   "source": [
    "Kullanıcı_Adı3=\"Emin\"\n",
    "Kullanıcı_Şifre3=1234\n",
    "\n",
    "Kullanıcı_Adı4=input(\"Kullanıcı Adınızı giriniz: \")\n",
    "Kullanıcı_Şifre4=input(\"Şifrenizi giriniz: \")\n",
    "\n",
    "if Kullanıcı_Adı3==Kullanıcı_Adı4 and Kullanıcı_Şifre3==int(Kullanıcı_Şifre4):\n",
    "    print(\"Merhaba {}, Hoşgeldiniz\".format(Kullanıcı_Adı3))\n",
    "elif Kullanıcı_Adı3!=Kullanıcı_Adı4 and Kullanıcı_Şifre3==int(Kullanıcı_Şifre4):\n",
    "    print(\"Kullanıcı Adı, hatalı tekrar deneyiniz.\")\n",
    "elif Kullanıcı_Adı3==Kullanıcı_Adı4 and Kullanıcı_Şifre3!=int(Kullanıcı_Şifre4):\n",
    "    print(\"Merhaba {}, şifreniz hatalıdır. Tekrar deneyiniz.\".format(Kullanıcı_Adı3))\n",
    "else:\n",
    "    print(\"Kullanıcı Bulunamadı.\")"
   ]
  }
 ],
 "metadata": {
  "kernelspec": {
   "display_name": "Python 3.10.6 64-bit (system)",
   "language": "python",
   "name": "python3"
  },
  "language_info": {
   "codemirror_mode": {
    "name": "ipython",
    "version": 3
   },
   "file_extension": ".py",
   "mimetype": "text/x-python",
   "name": "python",
   "nbconvert_exporter": "python",
   "pygments_lexer": "ipython3",
   "version": "3.10.6"
  },
  "orig_nbformat": 4,
  "vscode": {
   "interpreter": {
    "hash": "153b678b2f7a8cf3f4ae0b3640dd641e7d064b4c764ba4b70fe37c6e052025cd"
   }
  }
 },
 "nbformat": 4,
 "nbformat_minor": 2
}
