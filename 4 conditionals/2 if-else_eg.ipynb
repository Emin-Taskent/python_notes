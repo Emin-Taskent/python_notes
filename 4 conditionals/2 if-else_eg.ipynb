{
 "cells": [
  {
   "cell_type": "code",
   "execution_count": 1,
   "metadata": {},
   "outputs": [
    {
     "name": "stdout",
     "output_type": "stream",
     "text": [
      "Merhaba, Vücut Kitle Endeksi Hesaplama Uygulamasına hoşgeldiniz!\n",
      "Vücut Kitle Endeksiniz 27.46'dir. Fazla Kilolu Grubundasınız!\n"
     ]
    }
   ],
   "source": [
    "print(\"Merhaba, Vücut Kitle Endeksi Hesaplama Uygulamasına hoşgeldiniz!\")\n",
    "\n",
    "Boy=int(input(\"Lütfen Boyunuzu cm Cinsinden Giriniz:\"))\n",
    "Kilo=int(input(\"Lütfen Kilonuzu Giriniz:\"))\n",
    "\n",
    "Endeks=round((Kilo)/((Boy/100)**2),2)\n",
    "\n",
    "if Endeks<=18.5:\n",
    "    print(\"Vücut Kitle Endeksiniz {}'dir. Düşük Kilolu Grubundasınız!\".format(Endeks))\n",
    "elif Endeks>18.5 and Endeks<=24.9:\n",
    "    print(\"Vücut Kitle Endeksiniz {}'dir. Normal Kilolu Grubundasınız!\".format(Endeks))\n",
    "elif Endeks>24.9 and Endeks<=29.9:\n",
    "    print(\"Vücut Kitle Endeksiniz {}'dir. Fazla Kilolu Grubundasınız!\".format(Endeks))\n",
    "elif Endeks>29.9 and Endeks<=40:\n",
    "    print(\"Vücut Kitle Endeksiniz {}'dir. Obez Grubundasınız!\".format(Endeks))\n",
    "elif Endeks>40:\n",
    "    print(\"Vücut Kitle Endeksiniz {}'dir. Aşırı Obez Grubundasınız!\".format(Endeks))"
   ]
  },
  {
   "cell_type": "code",
   "execution_count": 4,
   "metadata": {},
   "outputs": [
    {
     "name": "stdout",
     "output_type": "stream",
     "text": [
      "45 pozitif tek bir sayıdır.\n"
     ]
    }
   ],
   "source": [
    "sayi=int(input(\"Lütfen bir sayı giriniz: \"))\n",
    "\n",
    "kontrol=(sayi>0) and (sayi%2==1)\n",
    "\n",
    "if kontrol==True:\n",
    "    print(\"{} pozitif tek bir sayıdır.\".format(sayi))\n",
    "else:\n",
    "    print(\"{} pozitif çift sayıdır.\".format(sayi))"
   ]
  },
  {
   "cell_type": "code",
   "execution_count": 7,
   "metadata": {},
   "outputs": [
    {
     "name": "stdout",
     "output_type": "stream",
     "text": [
      "\n",
      "\n",
      "Üç\n",
      "Tırnak\n",
      "Kullanımı\n",
      "Böyledir.\n",
      "\n",
      "\n"
     ]
    }
   ],
   "source": [
    "print(\"\"\"\n",
    "\n",
    "Üç\n",
    "Tırnak\n",
    "Kullanımı\n",
    "Böyledir.\n",
    "\n",
    "\"\"\")"
   ]
  }
 ],
 "metadata": {
  "kernelspec": {
   "display_name": "Python 3.10.6 64-bit (system)",
   "language": "python",
   "name": "python3"
  },
  "language_info": {
   "codemirror_mode": {
    "name": "ipython",
    "version": 3
   },
   "file_extension": ".py",
   "mimetype": "text/x-python",
   "name": "python",
   "nbconvert_exporter": "python",
   "pygments_lexer": "ipython3",
   "version": "3.10.6"
  },
  "orig_nbformat": 4,
  "vscode": {
   "interpreter": {
    "hash": "153b678b2f7a8cf3f4ae0b3640dd641e7d064b4c764ba4b70fe37c6e052025cd"
   }
  }
 },
 "nbformat": 4,
 "nbformat_minor": 2
}
