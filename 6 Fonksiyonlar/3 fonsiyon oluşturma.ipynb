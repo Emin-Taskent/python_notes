{
 "cells": [
  {
   "cell_type": "markdown",
   "metadata": {},
   "source": [
    "# Fonksiyonlara Giriş"
   ]
  },
  {
   "cell_type": "code",
   "execution_count": 1,
   "metadata": {},
   "outputs": [
    {
     "name": "stdout",
     "output_type": "stream",
     "text": [
      "729\n",
      "729\n"
     ]
    }
   ],
   "source": [
    "# def ile fonksiyon tanımlanır;\n",
    "\n",
    "def üsalma(x, y):\n",
    "    sonuc=x**y\n",
    "    print(sonuc)\n",
    "\n",
    "üsalma(3,6)\n",
    "print(pow(3,6))"
   ]
  },
  {
   "cell_type": "code",
   "execution_count": 2,
   "metadata": {},
   "outputs": [
    {
     "name": "stdout",
     "output_type": "stream",
     "text": [
      "8\n",
      "8\n"
     ]
    },
    {
     "ename": "TypeError",
     "evalue": "unsupported operand type(s) for +: 'NoneType' and 'NoneType'",
     "output_type": "error",
     "traceback": [
      "\u001b[1;31m---------------------------------------------------------------------------\u001b[0m",
      "\u001b[1;31mTypeError\u001b[0m                                 Traceback (most recent call last)",
      "\u001b[1;32mc:\\Users\\Emin Taşkent\\Desktop\\python dersleri\\6 Fonksiyonlar\\python lessons_fonsiyon oluşturma.ipynb Hücre 3\u001b[0m in \u001b[0;36m<cell line: 7>\u001b[1;34m()\u001b[0m\n\u001b[0;32m      <a href='vscode-notebook-cell:/c%3A/Users/Emin%20Ta%C5%9Fkent/Desktop/python%20dersleri/6%20Fonksiyonlar/python%20lessons_fonsiyon%20olu%C5%9Fturma.ipynb#W2sZmlsZQ%3D%3D?line=3'>4</a>\u001b[0m     sonuc\u001b[39m=\u001b[39mx\u001b[39m+\u001b[39my\n\u001b[0;32m      <a href='vscode-notebook-cell:/c%3A/Users/Emin%20Ta%C5%9Fkent/Desktop/python%20dersleri/6%20Fonksiyonlar/python%20lessons_fonsiyon%20olu%C5%9Fturma.ipynb#W2sZmlsZQ%3D%3D?line=4'>5</a>\u001b[0m     \u001b[39mprint\u001b[39m(sonuc)\n\u001b[1;32m----> <a href='vscode-notebook-cell:/c%3A/Users/Emin%20Ta%C5%9Fkent/Desktop/python%20dersleri/6%20Fonksiyonlar/python%20lessons_fonsiyon%20olu%C5%9Fturma.ipynb#W2sZmlsZQ%3D%3D?line=6'>7</a>\u001b[0m topla(\u001b[39m4\u001b[39;49m,\u001b[39m4\u001b[39;49m)\u001b[39m+\u001b[39;49mtopla(\u001b[39m4\u001b[39;49m,\u001b[39m4\u001b[39;49m)\n",
      "\u001b[1;31mTypeError\u001b[0m: unsupported operand type(s) for +: 'NoneType' and 'NoneType'"
     ]
    }
   ],
   "source": [
    "# Fonksiyon oluştururken print() değil \"return \" kullanılmalıdır.\n",
    "\n",
    "def topla(x,y):\n",
    "    sonuc=x+y\n",
    "    print(sonuc)\n",
    "\n",
    "topla(4,4)+topla(4,4)   # print() fonsksiyonu sonucu bir değişken olarak değil de bir çıktı olarak vermektedir. Bu sebeple işlem hata veriyor.\n",
    "                        # 2 değişken toplanabilir ama 2 sonuç toplanamaz"
   ]
  },
  {
   "cell_type": "code",
   "execution_count": null,
   "metadata": {},
   "outputs": [
    {
     "name": "stdout",
     "output_type": "stream",
     "text": [
      "24\n"
     ]
    }
   ],
   "source": [
    "def topla1(x,y):\n",
    "    sonuc1=x+y\n",
    "    return sonuc1\n",
    "\n",
    "topla1(4,4)+topla1(4,4)     # başında print() fonksiyonuyla da kullanılabilir\n",
    "print(topla1(4,8)+topla1(4,8))\n"
   ]
  },
  {
   "cell_type": "markdown",
   "metadata": {},
   "source": [
    "## Fonksiyonlarda Argümanlar"
   ]
  },
  {
   "cell_type": "code",
   "execution_count": null,
   "metadata": {},
   "outputs": [
    {
     "name": "stdout",
     "output_type": "stream",
     "text": [
      "Emin Taskent--23--34--45\n",
      "7\n",
      "12\n"
     ]
    }
   ],
   "source": [
    "print(\"Emin Taskent\", 23,34,45, sep=\"--\")       # sep=\"\" argümanı girilmesi zorunlu olmayan bir argümandır.\n",
    "                                                # fonksiyon oluştururken, girilmesi zorunlu olan veya olmayan argümanlar tanımlanabilir.\n",
    "            \n",
    "def topla2(x,y):                                # fonksiyonun içerisine girilmesi zorunlu olan iki tane argüman eklenmistir.\n",
    "    sonuc2=x+y                                  # bu argümanlar eksik girildiğinde veya fazla girildiğinde hata verecektir.\n",
    "    return sonuc2\n",
    "\n",
    "def topla3(x,y,z=0):                            # fonksiyon için girilmesi iki tane zorunlu bir tane de opsiyonel argüman tanımlanmıştır.\n",
    "    sonuc3=x+y+z\n",
    "    return sonuc3\n",
    "\n",
    "print(topla3(3,4))\n",
    "print(topla3(3,4,5))"
   ]
  },
  {
   "cell_type": "code",
   "execution_count": null,
   "metadata": {},
   "outputs": [
    {
     "name": "stdout",
     "output_type": "stream",
     "text": [
      "(1, 2, 3, 4)\n",
      "7\n",
      "107\n",
      "257\n"
     ]
    }
   ],
   "source": [
    "# Fonksiyonlara tek bir argüman da tanımlanarak birden fazla argüman girilmesine olanak sağlanabilir.\n",
    "\n",
    "def demet(*x):\n",
    "    return x\n",
    "\n",
    "print(demet(1,2,3,4))\n",
    "demet()\n",
    "# çıktı da görüldüğü üzere oluşturulan ifade bir tuple'dır. Biz bu tuple'ın elemanları üzerinden işlem yapacağız.\n",
    "# tanımlanan demet fonksiyonun içerisinden de görülebilir.\n",
    "\n",
    "def topla4(*x):\n",
    "    sayac=0\n",
    "    for i in x:\n",
    "        \n",
    "        sayac=sayac+i\n",
    "    return sayac\n",
    "\n",
    "print(topla4(1,2,4))\n",
    "print(topla4(1,2,4,100))\n",
    "print(topla4(1,2,4,100,150))"
   ]
  },
  {
   "cell_type": "code",
   "execution_count": null,
   "metadata": {},
   "outputs": [
    {
     "name": "stdout",
     "output_type": "stream",
     "text": [
      "Merhaba, benim adım Emin, soyadım Taskent\n"
     ]
    }
   ],
   "source": [
    "def isim(*x):\n",
    "    return \"Merhaba, benim adım {}, soyadım {}\".format(x[0],x[1])\n",
    "\n",
    "print(isim(\"Emin\", \"Taskent\"))"
   ]
  },
  {
   "cell_type": "code",
   "execution_count": null,
   "metadata": {},
   "outputs": [
    {
     "name": "stdout",
     "output_type": "stream",
     "text": [
      "{'elma': 45, 'armut': 60}\n"
     ]
    }
   ],
   "source": [
    "# Tek yıldız \"*\" ile oluşturulan argümanlara isteğe bağlı yani \"*args\" argümanlar denir. Tuple olarak sonucu döndürür.\n",
    "# Çift yıldızlı \"**\" argümanlar ise \"**kwarg\" argümanlar denir. Sözlük yapısı döndürür.\n",
    "\n",
    "def kalori(**meyve):\n",
    "    return meyve\n",
    "\n",
    "print(kalori(elma=45, armut=60))                # Bir key değeri, bir de value değeri girilir.\n"
   ]
  },
  {
   "cell_type": "markdown",
   "metadata": {},
   "source": [
    "## Lambda Fonksiyonu"
   ]
  },
  {
   "cell_type": "code",
   "execution_count": 4,
   "metadata": {},
   "outputs": [
    {
     "name": "stdout",
     "output_type": "stream",
     "text": [
      "9\n",
      "9\n"
     ]
    }
   ],
   "source": [
    "# Fonksiyonu kurarken def yapısının kullanılmasının yanı sıra, \n",
    "# oluşturulacak fonksiyon çok kullanılmayacak ve \n",
    "# çok da komplike bir fonksiyon yapısı yok ise lambda ile de fonksiyon oluşturmak tercih edilebilir.\n",
    "\n",
    "def topla5(x,y):\n",
    "    sonuc5=x+y\n",
    "    return sonuc5\n",
    "\n",
    "print(topla5(2,7))\n",
    "\n",
    "\n",
    "\n",
    "topla6=lambda x,y:x+y\n",
    "print(topla6(2,7))"
   ]
  },
  {
   "cell_type": "code",
   "execution_count": null,
   "metadata": {},
   "outputs": [],
   "source": []
  }
 ],
 "metadata": {
  "kernelspec": {
   "display_name": "Python 3.10.7 64-bit",
   "language": "python",
   "name": "python3"
  },
  "language_info": {
   "codemirror_mode": {
    "name": "ipython",
    "version": 3
   },
   "file_extension": ".py",
   "mimetype": "text/x-python",
   "name": "python",
   "nbconvert_exporter": "python",
   "pygments_lexer": "ipython3",
   "version": "3.10.7"
  },
  "orig_nbformat": 4,
  "vscode": {
   "interpreter": {
    "hash": "a1a7efbbe97ace3e6a3903a1087b84955237a79a84605ff960f6ddbd0678e993"
   }
  }
 },
 "nbformat": 4,
 "nbformat_minor": 2
}
