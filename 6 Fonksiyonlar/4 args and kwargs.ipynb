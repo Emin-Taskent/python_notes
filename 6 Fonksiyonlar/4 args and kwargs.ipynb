{
 "cells": [
  {
   "cell_type": "markdown",
   "metadata": {},
   "source": [
    "# Args and Kwargs"
   ]
  },
  {
   "cell_type": "code",
   "execution_count": 1,
   "metadata": {},
   "outputs": [],
   "source": [
    "# Bir fonksiyon tanımlı olsun ve içine liste alsın. Bu fonsiyon liste içerisindeki değerleri toplamaya yarasın.\n",
    "\n",
    "def sum(list):\n",
    "    res=0\n",
    "    for i in list:\n",
    "        res+=i\n",
    "    return res"
   ]
  },
  {
   "cell_type": "code",
   "execution_count": 2,
   "metadata": {},
   "outputs": [
    {
     "data": {
      "text/plain": [
       "10"
      ]
     },
     "execution_count": 2,
     "metadata": {},
     "output_type": "execute_result"
    }
   ],
   "source": [
    "# fonskiyonumuzu deneyelim.\n",
    "\n",
    "numbers=[1, 2, 3, 4]\n",
    "\n",
    "sum(numbers)"
   ]
  },
  {
   "cell_type": "code",
   "execution_count": null,
   "metadata": {},
   "outputs": [],
   "source": [
    "# Yukarıda görüldüğü üzere fonksiyonumuz liste içerisindeki eleman sayısından bağımsız olarak bir toplama yaptı.\n",
    "# Yani bizler fonksiyonun içerisine toplanacak eleman sayısında bir kısıtlama yapmadık.\n",
    "# Peki biz liste kullanmadan, fonksiyonun içerisinde bu işlemi yapmak isteseydik;\n",
    "# Yani fonksiyon içerisine gireceğimiz eleman sayısını bilmediğimiz durumlrada ne yapmamız gerekir.\n",
    "# Bu durumda args'dan yardım alırız."
   ]
  },
  {
   "cell_type": "markdown",
   "metadata": {},
   "source": [
    "## Args\n",
    "* Değişken sayılı parametre vermenin bir yoludur."
   ]
  },
  {
   "cell_type": "code",
   "execution_count": 3,
   "metadata": {},
   "outputs": [],
   "source": [
    "# Örnek olarak;\n",
    "\n",
    "def sum2(*args):\n",
    "    res2=0\n",
    "    for e in args:\n",
    "        res2+=e\n",
    "    return res2"
   ]
  },
  {
   "cell_type": "code",
   "execution_count": 7,
   "metadata": {},
   "outputs": [],
   "source": [
    "# *args ile *x aynı şeydir."
   ]
  },
  {
   "cell_type": "code",
   "execution_count": 4,
   "metadata": {},
   "outputs": [
    {
     "data": {
      "text/plain": [
       "10"
      ]
     },
     "execution_count": 4,
     "metadata": {},
     "output_type": "execute_result"
    }
   ],
   "source": [
    "sum2(1,2,3,4)"
   ]
  },
  {
   "cell_type": "code",
   "execution_count": 6,
   "metadata": {},
   "outputs": [],
   "source": [
    "# args genellikle \"*args\" gibi kullanılır. \n",
    "# Anlamı ise en başta tuple veya list gibi bir objem vardı ama bu tek tek elemanlarına ayrıldı demektir.\n",
    "# Yani yukarıdaki örnekte *args=1, 2, 3, 4 olduğunu var sayarsak args'ın tek tek elemanlarına ayrılmış hali 1, 2, 3, 4'tür.\n",
    "# Orijinal hali ise (1, 2, 3, 4) ifadesine tekabul eder.\n",
    "\n",
    "## *List/Tuple objelerini unpack yapar ama dictionary ögelerini yapamaz.*"
   ]
  },
  {
   "cell_type": "markdown",
   "metadata": {},
   "source": [
    "## Kwargs\n",
    "* Değişken sayılı parametre vermenin bir yoludur."
   ]
  },
  {
   "cell_type": "code",
   "execution_count": 12,
   "metadata": {},
   "outputs": [],
   "source": [
    "# Bir fonksiyon tanımlayalım.\n",
    "\n",
    "def meyvekalori(**kwargs):\n",
    "    return kwargs"
   ]
  },
  {
   "cell_type": "code",
   "execution_count": 15,
   "metadata": {},
   "outputs": [
    {
     "data": {
      "text/plain": [
       "{'elma': 25, 'armut': 30, 'üzüm': 40}"
      ]
     },
     "execution_count": 15,
     "metadata": {},
     "output_type": "execute_result"
    }
   ],
   "source": [
    "meyvekalori(elma=25, armut=30, üzüm=40)"
   ]
  },
  {
   "cell_type": "code",
   "execution_count": null,
   "metadata": {},
   "outputs": [],
   "source": [
    "# Yukarıda bakıldığında meyvekalori fonksiyonunun çıktısı dictionary oldu. args'ta çıktı tuple iken kwargs'ta dictionary'dir.\n",
    "# Ama yukarıda bahsedildiği üzere args listeleri de çalıştırır yani unpack eder."
   ]
  },
  {
   "cell_type": "code",
   "execution_count": 18,
   "metadata": {},
   "outputs": [],
   "source": [
    "# Kwargs ile sadece dictionarydeki key veya value değerlerini de alabiliriz.\n",
    "\n",
    "def kimlik(**kwargs):\n",
    "    for i in kwargs.keys():\n",
    "        print(i)\n",
    "    for j in kwargs.values():\n",
    "        print(j)"
   ]
  },
  {
   "cell_type": "code",
   "execution_count": 20,
   "metadata": {},
   "outputs": [
    {
     "name": "stdout",
     "output_type": "stream",
     "text": [
      "ad\n",
      "soyad\n",
      "yaş\n",
      "Ahmet\n",
      "koçar\n",
      "28\n"
     ]
    }
   ],
   "source": [
    "kimlik(ad='Ahmet', soyad='koçar', yaş=28)"
   ]
  },
  {
   "cell_type": "markdown",
   "metadata": {},
   "source": [
    "# Args ve Kwargs'ın birlikte kullanımı"
   ]
  },
  {
   "cell_type": "code",
   "execution_count": 23,
   "metadata": {},
   "outputs": [],
   "source": [
    "# ilk önce args sonra kwargs kullanılır.\n",
    "\n",
    "def weird(*args, **kwargs):\n",
    "    res=0\n",
    "    for i in args:\n",
    "        res += i\n",
    "    \n",
    "\n",
    "    for k,v in kwargs.items():\n",
    "        print(k, ':', v)\n",
    "\n",
    "    return res"
   ]
  },
  {
   "cell_type": "code",
   "execution_count": 24,
   "metadata": {},
   "outputs": [
    {
     "name": "stdout",
     "output_type": "stream",
     "text": [
      "name : Ahmet\n",
      "surname : koçar\n"
     ]
    },
    {
     "data": {
      "text/plain": [
       "15"
      ]
     },
     "execution_count": 24,
     "metadata": {},
     "output_type": "execute_result"
    }
   ],
   "source": [
    "weird(1,2,3,4,5, name='Ahmet', surname='koçar')"
   ]
  },
  {
   "cell_type": "markdown",
   "metadata": {},
   "source": [
    "# Unpacking"
   ]
  },
  {
   "cell_type": "code",
   "execution_count": 26,
   "metadata": {},
   "outputs": [],
   "source": [
    "l=[1, 2, 3, 4]"
   ]
  },
  {
   "cell_type": "code",
   "execution_count": 27,
   "metadata": {},
   "outputs": [
    {
     "name": "stdout",
     "output_type": "stream",
     "text": [
      "[1, 2, 3, 4]\n"
     ]
    }
   ],
   "source": [
    "print(l)"
   ]
  },
  {
   "cell_type": "code",
   "execution_count": 28,
   "metadata": {},
   "outputs": [
    {
     "name": "stdout",
     "output_type": "stream",
     "text": [
      "1 2 3 4\n"
     ]
    }
   ],
   "source": [
    "print(*l) # yıldız l listesini unpack yapmamızı sağladı."
   ]
  },
  {
   "cell_type": "code",
   "execution_count": 29,
   "metadata": {},
   "outputs": [
    {
     "data": {
      "text/plain": [
       "[[1, 2, 3, 4], [20, 21]]"
      ]
     },
     "execution_count": 29,
     "metadata": {},
     "output_type": "execute_result"
    }
   ],
   "source": [
    "l1=[1,2,3,4]\n",
    "l2=[20,21]\n",
    "\n",
    "[l1,l2]"
   ]
  },
  {
   "cell_type": "code",
   "execution_count": 30,
   "metadata": {},
   "outputs": [
    {
     "data": {
      "text/plain": [
       "[1, 2, 3, 4, 20, 21]"
      ]
     },
     "execution_count": 30,
     "metadata": {},
     "output_type": "execute_result"
    }
   ],
   "source": [
    "[*l1, *l2]      # yukardaki ile arasında fark var!!"
   ]
  },
  {
   "cell_type": "code",
   "execution_count": 31,
   "metadata": {},
   "outputs": [],
   "source": [
    "d1={'name':'jake', 'number':408}\n",
    "d2={'surname':'sky', 'grade':78}"
   ]
  },
  {
   "cell_type": "code",
   "execution_count": 35,
   "metadata": {},
   "outputs": [
    {
     "data": {
      "text/plain": [
       "({'name': 'jake', 'number': 408}, {'surname': 'sky', 'grade': 78})"
      ]
     },
     "execution_count": 35,
     "metadata": {},
     "output_type": "execute_result"
    }
   ],
   "source": [
    "d1,d2 "
   ]
  },
  {
   "cell_type": "code",
   "execution_count": 36,
   "metadata": {},
   "outputs": [
    {
     "ename": "TypeError",
     "evalue": "unhashable type: 'dict'",
     "output_type": "error",
     "traceback": [
      "\u001b[1;31m---------------------------------------------------------------------------\u001b[0m",
      "\u001b[1;31mTypeError\u001b[0m                                 Traceback (most recent call last)",
      "Cell \u001b[1;32mIn [36], line 1\u001b[0m\n\u001b[1;32m----> 1\u001b[0m {d1,d2}\n",
      "\u001b[1;31mTypeError\u001b[0m: unhashable type: 'dict'"
     ]
    }
   ],
   "source": [
    "{d1,d2} # yine hata verdi"
   ]
  },
  {
   "cell_type": "code",
   "execution_count": 37,
   "metadata": {},
   "outputs": [
    {
     "data": {
      "text/plain": [
       "{'name': 'jake', 'number': 408, 'surname': 'sky', 'grade': 78}"
      ]
     },
     "execution_count": 37,
     "metadata": {},
     "output_type": "execute_result"
    }
   ],
   "source": [
    "{**d1,**d2} # d1,d2 ile arasında fark var!!"
   ]
  },
  {
   "cell_type": "code",
   "execution_count": null,
   "metadata": {},
   "outputs": [],
   "source": []
  }
 ],
 "metadata": {
  "kernelspec": {
   "display_name": "Python 3.10.7 64-bit",
   "language": "python",
   "name": "python3"
  },
  "language_info": {
   "codemirror_mode": {
    "name": "ipython",
    "version": 3
   },
   "file_extension": ".py",
   "mimetype": "text/x-python",
   "name": "python",
   "nbconvert_exporter": "python",
   "pygments_lexer": "ipython3",
   "version": "3.10.7"
  },
  "orig_nbformat": 4,
  "vscode": {
   "interpreter": {
    "hash": "a1a7efbbe97ace3e6a3903a1087b84955237a79a84605ff960f6ddbd0678e993"
   }
  }
 },
 "nbformat": 4,
 "nbformat_minor": 2
}
