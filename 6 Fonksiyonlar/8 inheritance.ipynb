{
 "cells": [
  {
   "cell_type": "markdown",
   "metadata": {},
   "source": [
    "# Inheritance\n",
    "\n",
    "Oluşturduğumuz bir sınıfta, başka  bir sınıfın özelliklerini inheritance ile alabiliriz."
   ]
  },
  {
   "cell_type": "code",
   "execution_count": 2,
   "metadata": {},
   "outputs": [],
   "source": [
    "class Insan:\n",
    "    def __init__(self, Ad, Soyad, Sacrengi, Boy, Kilo):        \n",
    "        self.Ad=Ad                                       \n",
    "        self.Soyad=Soyad                                \n",
    "        self.Sacrengi=Sacrengi\n",
    "        self.Boy=Boy\n",
    "        self.Kilo=Kilo\n",
    "\n",
    "# Aşağıda öğrenci isimli bir class daha oluşturup, insan sınıfının özelliklerini miras alacağız.\n",
    "\n",
    "class Ogrenci(Insan):                                                       # parantez içerisine miras almak istediğimiz sınıfı yazıyoruz.\n",
    "    def __init__(self, Ad, Soyad, Sacrengi, Boy, Kilo, Bolum, Yas):         # Alt satırda def init yazdığımızda alt satır otomatik olarak geliyor.\n",
    "        super().__init__(Ad, Soyad, Sacrengi, Boy, Kilo)                    # super() fonksiyonu otomatik olarak tanımlandı ve insan \n",
    "                                                                            # sınıfının özelliklerini otomatik olarak getirdi.\n",
    "                                                                            # Öğrenciye ekstradan özellik tanımlamak istersem, init'in içerisine\n",
    "                                                                            # o özellikleri yazıyorum.\n",
    "        self.Yas=Yas\n",
    "        self.Bolum=Bolum\n",
    "                                                                \n"
   ]
  },
  {
   "cell_type": "code",
   "execution_count": 3,
   "metadata": {},
   "outputs": [],
   "source": [
    "Insan1=Insan(\"Mustafa\", \"Can\", \"Siyah\", 170, 80)\n",
    "Ogrenci1=Ogrenci(\"Ali\", \"Can\", \"Kumral\", 175, 60, \"Fen\", 19)"
   ]
  },
  {
   "cell_type": "code",
   "execution_count": 4,
   "metadata": {},
   "outputs": [
    {
     "name": "stdout",
     "output_type": "stream",
     "text": [
      "Can\n",
      "Fen\n"
     ]
    }
   ],
   "source": [
    "print(Insan1.Soyad)\n",
    "print(Ogrenci1.Bolum)"
   ]
  },
  {
   "cell_type": "code",
   "execution_count": null,
   "metadata": {},
   "outputs": [],
   "source": []
  }
 ],
 "metadata": {
  "kernelspec": {
   "display_name": "Python 3.10.7 64-bit",
   "language": "python",
   "name": "python3"
  },
  "language_info": {
   "codemirror_mode": {
    "name": "ipython",
    "version": 3
   },
   "file_extension": ".py",
   "mimetype": "text/x-python",
   "name": "python",
   "nbconvert_exporter": "python",
   "pygments_lexer": "ipython3",
   "version": "3.10.7"
  },
  "orig_nbformat": 4,
  "vscode": {
   "interpreter": {
    "hash": "a1a7efbbe97ace3e6a3903a1087b84955237a79a84605ff960f6ddbd0678e993"
   }
  }
 },
 "nbformat": 4,
 "nbformat_minor": 2
}
