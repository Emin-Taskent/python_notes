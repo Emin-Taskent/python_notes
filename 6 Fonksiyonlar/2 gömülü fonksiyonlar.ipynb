{
 "cells": [
  {
   "cell_type": "code",
   "execution_count": 1,
   "metadata": {},
   "outputs": [
    {
     "name": "stdout",
     "output_type": "stream",
     "text": [
      "6\n"
     ]
    }
   ],
   "source": [
    "# abs() mutlak değer fonksiyonudur.\n",
    "\n",
    "print(abs(-6))"
   ]
  },
  {
   "cell_type": "code",
   "execution_count": 2,
   "metadata": {},
   "outputs": [
    {
     "name": "stdout",
     "output_type": "stream",
     "text": [
      "3.142857142857143\n",
      "3\n",
      "3.14\n"
     ]
    }
   ],
   "source": [
    "# round() yuvarlama fonksiyonudur.\n",
    "\n",
    "print(22/7)\n",
    "print(round(22/7))              # virgülden sonrasını göstermez\n",
    "print(round(22/7, 2))           # virgülden sonra kaç basamak getirileceğini belirti."
   ]
  },
  {
   "cell_type": "code",
   "execution_count": 4,
   "metadata": {},
   "outputs": [
    {
     "name": "stdout",
     "output_type": "stream",
     "text": [
      "True\n",
      "False\n",
      "True\n",
      "True\n"
     ]
    }
   ],
   "source": [
    "# all() fonksiyonu belirli bir listedeki bütün ifadeler \"True\" ise \"True\" değerini döndüren bir fonksiyondur.\n",
    "\n",
    "\n",
    "x=[3<4,4<5,5<6]\n",
    "y=[3<4,4<5,5<4]\n",
    "\n",
    "print(all(x))\n",
    "print(all(y))\n",
    "\n",
    "# any() fonksiyonu ise dizi içerisinde bir tane bile \"True\" değeri var ise \"True\" değerini döndüren bir fonksiyondur.\n",
    "\n",
    "print(any(x))\n",
    "print(any(y))"
   ]
  },
  {
   "cell_type": "code",
   "execution_count": 5,
   "metadata": {},
   "outputs": [
    {
     "name": "stdout",
     "output_type": "stream",
     "text": [
      "Emin \n",
      "Taskent\n",
      "'Emin \\nTaskent'\n"
     ]
    }
   ],
   "source": [
    "# ascii() fonksiyonu belirli bir işlevin görevini görmeden yazdırmamızı sağlar.\n",
    "\n",
    "print(\"Emin \\nTaskent\")\n",
    "print(ascii(\"Emin \\nTaskent\"))"
   ]
  },
  {
   "cell_type": "code",
   "execution_count": 6,
   "metadata": {},
   "outputs": [
    {
     "name": "stdout",
     "output_type": "stream",
     "text": [
      "['__add__', '__class__', '__class_getitem__', '__contains__', '__delattr__', '__delitem__', '__dir__', '__doc__', '__eq__', '__format__', '__ge__', '__getattribute__', '__getitem__', '__gt__', '__hash__', '__iadd__', '__imul__', '__init__', '__init_subclass__', '__iter__', '__le__', '__len__', '__lt__', '__mul__', '__ne__', '__new__', '__reduce__', '__reduce_ex__', '__repr__', '__reversed__', '__rmul__', '__setattr__', '__setitem__', '__sizeof__', '__str__', '__subclasshook__', 'append', 'clear', 'copy', 'count', 'extend', 'index', 'insert', 'pop', 'remove', 'reverse', 'sort']\n"
     ]
    }
   ],
   "source": [
    "# dir() belirli bir yapının metodlarını görmemizi sağlayan fonksiyondur.\n",
    "\n",
    "print(dir(list))"
   ]
  },
  {
   "cell_type": "code",
   "execution_count": 7,
   "metadata": {},
   "outputs": [
    {
     "name": "stdout",
     "output_type": "stream",
     "text": [
      "(1, 4)\n"
     ]
    }
   ],
   "source": [
    "# divmod(), bölme işleminde bölüm ve kalanı yazdıran bir fonksiyondur.\n",
    "\n",
    "print(divmod(10,6))"
   ]
  },
  {
   "cell_type": "code",
   "execution_count": 18,
   "metadata": {},
   "outputs": [
    {
     "name": "stdout",
     "output_type": "stream",
     "text": [
      "(0, 'a') (1, 'b') (2, 'c') (3, 'd') (4, 'e')\n",
      "(0, 'E') (1, 'm') (2, 'i') (3, 'n')\n"
     ]
    }
   ],
   "source": [
    " # enumerate() fonksiyonu  belirli bir nesnedeki her bir değere karşılık bir sayı ataması yapar. içinde \"*\" ile kullanılır.\n",
    "\n",
    " x=[\"a\", \"b\",\"c\",\"d\",\"e\"]\n",
    " y=\"Emin\"\n",
    "\n",
    "\n",
    "print(*enumerate(x))\n",
    "print(*enumerate(y))"
   ]
  },
  {
   "cell_type": "code",
   "execution_count": 19,
   "metadata": {},
   "outputs": [
    {
     "name": "stdout",
     "output_type": "stream",
     "text": [
      "(0, 'a')\n",
      "(1, 'b')\n",
      "(2, 'c')\n",
      "(3, 'd')\n",
      "(4, 'e')\n"
     ]
    }
   ],
   "source": [
    "# enumerate() daha çok döngülerde kullanılır.\n",
    "\n",
    "for i in enumerate(x):\n",
    "    print(i)"
   ]
  },
  {
   "cell_type": "code",
   "execution_count": 20,
   "metadata": {},
   "outputs": [
    {
     "name": "stdout",
     "output_type": "stream",
     "text": [
      "\n",
      "Welcome to Python 3.10's help utility!\n",
      "\n",
      "If this is your first time using Python, you should definitely check out\n",
      "the tutorial on the internet at https://docs.python.org/3.10/tutorial/.\n",
      "\n",
      "Enter the name of any module, keyword, or topic to get help on writing\n",
      "Python programs and using Python modules.  To quit this help utility and\n",
      "return to the interpreter, just type \"quit\".\n",
      "\n",
      "To get a list of available modules, keywords, symbols, or topics, type\n",
      "\"modules\", \"keywords\", \"symbols\", or \"topics\".  Each module also comes\n",
      "with a one-line summary of what it does; to list the modules whose name\n",
      "or summary contain a given string such as \"spam\", type \"modules spam\".\n",
      "\n",
      "Help on built-in function dir in module builtins:\n",
      "\n",
      "dir(...)\n",
      "    dir([object]) -> list of strings\n",
      "    \n",
      "    If called without an argument, return the names in the current scope.\n",
      "    Else, return an alphabetized list of names comprising (some of) the attributes\n",
      "    of the given object, and of attributes reachable from it.\n",
      "    If the object supplies a method named __dir__, it will be used; otherwise\n",
      "    the default dir() logic is used and returns:\n",
      "      for a module object: the module's attributes.\n",
      "      for a class object:  its attributes, and recursively the attributes\n",
      "        of its bases.\n",
      "      for any other object: its attributes, its class's attributes, and\n",
      "        recursively the attributes of its class's base classes.\n",
      "\n",
      "\n",
      "You are now leaving help and returning to the Python interpreter.\n",
      "If you want to ask for help on a particular object directly from the\n",
      "interpreter, you can type \"help(object)\".  Executing \"help('string')\"\n",
      "has the same effect as typing a particular string at the help> prompt.\n"
     ]
    }
   ],
   "source": [
    "# help() fonksiyonu fonksiyonla alakalı bilgi almak için kullanılır.\n",
    "\n",
    "help()"
   ]
  },
  {
   "cell_type": "code",
   "execution_count": 21,
   "metadata": {},
   "outputs": [
    {
     "name": "stdout",
     "output_type": "stream",
     "text": [
      "5\n",
      "ABC\n"
     ]
    }
   ],
   "source": [
    "# max() fonksiyonu belirli bir listedeki en büyük nesneyi getirir. Eğer ki bu listede str varsa fonksiyona bir argüman eklenir.\n",
    "# min() fonksiyonu da böyle çalışır.\n",
    "x1=[1,2,3,5,4]\n",
    "y1=[\"A\", \"AB\", \"ABC\"]\n",
    "\n",
    "print(max(x1))\n",
    "print(max(y1,key=len))"
   ]
  },
  {
   "cell_type": "code",
   "execution_count": 22,
   "metadata": {},
   "outputs": [
    {
     "name": "stdout",
     "output_type": "stream",
     "text": [
      "8\n"
     ]
    }
   ],
   "source": [
    "# pow() üs alma fonksiyonudur.\n",
    "\n",
    "print(pow(2,3))"
   ]
  },
  {
   "cell_type": "code",
   "execution_count": 25,
   "metadata": {},
   "outputs": [
    {
     "name": "stdout",
     "output_type": "stream",
     "text": [
      "Ankara İstanbul İzmir\n",
      "Ankara---İstanbul---İzmir..."
     ]
    }
   ],
   "source": [
    "# sep= ve and= argümanlarının kullanımı şöyledir;\n",
    "\n",
    "print(\"Ankara\", \"İstanbul\", \"İzmir\")\n",
    "\n",
    "print(\"Ankara\", \"İstanbul\", \"İzmir\", sep=\"---\", end=\"...\")"
   ]
  },
  {
   "cell_type": "code",
   "execution_count": 27,
   "metadata": {},
   "outputs": [
    {
     "name": "stdout",
     "output_type": "stream",
     "text": [
      "range(1, 10)\n",
      "[1, 2, 3, 4, 5, 6, 7, 8, 9]\n",
      "0\n",
      "1\n",
      "2\n"
     ]
    }
   ],
   "source": [
    "# range() fonksiyonu belirli aralığı belirtir.\n",
    "\n",
    "print(range(1,10))\n",
    "print(list(range(1,10)))\n",
    "\n",
    "for i in range(0,3):\n",
    "    print(i)"
   ]
  },
  {
   "cell_type": "code",
   "execution_count": 29,
   "metadata": {},
   "outputs": [
    {
     "name": "stdout",
     "output_type": "stream",
     "text": [
      "15\n"
     ]
    }
   ],
   "source": [
    "# sum() fonksiyonu bir dizi içerisinde toplama işlemi gerçekleştiriliyor.\n",
    "\n",
    "x2=[1,2,3,4,5]\n",
    "\n",
    "print(sum(x2))"
   ]
  },
  {
   "cell_type": "code",
   "execution_count": null,
   "metadata": {},
   "outputs": [],
   "source": []
  }
 ],
 "metadata": {
  "kernelspec": {
   "display_name": "Python 3.10.6 64-bit (system)",
   "language": "python",
   "name": "python3"
  },
  "language_info": {
   "codemirror_mode": {
    "name": "ipython",
    "version": 3
   },
   "file_extension": ".py",
   "mimetype": "text/x-python",
   "name": "python",
   "nbconvert_exporter": "python",
   "pygments_lexer": "ipython3",
   "version": "3.10.6"
  },
  "orig_nbformat": 4,
  "vscode": {
   "interpreter": {
    "hash": "153b678b2f7a8cf3f4ae0b3640dd641e7d064b4c764ba4b70fe37c6e052025cd"
   }
  }
 },
 "nbformat": 4,
 "nbformat_minor": 2
}
