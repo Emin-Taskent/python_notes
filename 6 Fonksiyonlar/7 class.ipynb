{
 "cells": [
  {
   "cell_type": "markdown",
   "metadata": {},
   "source": [
    "# Class\n",
    "Fonksiyon tanımlarken \"def\" kullanılır, sınıf tanımlarken ise \"class\" kullanılır."
   ]
  },
  {
   "cell_type": "code",
   "execution_count": 1,
   "metadata": {},
   "outputs": [
    {
     "name": "stdout",
     "output_type": "stream",
     "text": [
      "<class '__main__.Deneme'>\n",
      "<class 'str'>\n"
     ]
    }
   ],
   "source": [
    "# Örneğin;\n",
    "class Deneme:\n",
    "    pass\n",
    "\n",
    "\n",
    "y=\"Hello\"\n",
    "x=Deneme()\n",
    "print(type(x))\n",
    "print(type(y))"
   ]
  },
  {
   "cell_type": "code",
   "execution_count": 2,
   "metadata": {},
   "outputs": [
    {
     "data": {
      "text/plain": [
       "'Mehmet'"
      ]
     },
     "execution_count": 2,
     "metadata": {},
     "output_type": "execute_result"
    }
   ],
   "source": [
    "# Örnek2:\n",
    "\n",
    "class Deneme_Insan:\n",
    "    Ad='Mehmet'\n",
    "    Soyad='Can'\n",
    "    Yas=22\n",
    "    Sacrengi='Siyah'            # Deneme_Insan adında bir sınıf oluşturduk ve bu sınıfa \"Ad\", \"Soyad\", \"Yas\", \"Sacrengi\" özellikler ekledik.\n",
    "                                # Bu özellikler metod gibi çağrılabilir.\n",
    "\n",
    "\n",
    "Deneme_Insan.Ad"
   ]
  },
  {
   "cell_type": "code",
   "execution_count": 3,
   "metadata": {},
   "outputs": [],
   "source": [
    "# Yukarıdaki örnekte bir sınıf içerisinde sadece bir kişi oluşturuldu. \n",
    "# Lakin sınıflar içerisinde birden daha fazla kişi veya bilgiler oluşturulabilir. \n",
    "# Önemli olan verilerin aynı türden özellikleri barındırmasıdır.\n",
    "# Eğer bir sınıf içerisinde aynı özelliği taşıyan birden fazla değer girmek istersem;\n",
    "\n",
    "class Insan:\n",
    "    def __init__(self, Ad, Soyad, Yas, Sacrengi):        # Altta def ile başlayan bir yapı çalıştırılır.\n",
    "        self.Ad=Ad                                       # Nasıl bir sınıf tanımlanırsa tanımlansın self ilk parametredir.\n",
    "        self.Soyad=Soyad                                 # Aşaığda self ile eşleştirme yapılmalıdır.\n",
    "        self.Yas=Yas\n",
    "        self.Sacrengi=Sacrengi\n",
    "\n",
    "Insan1=Insan(\"Mustafa\", \"Can\", 22, \"Siyah\")\n",
    "Insan2=Insan(\"Hasan\", \"Durmuş\", 27, \"Kumral\")                     \n",
    "                                                         "
   ]
  },
  {
   "cell_type": "markdown",
   "metadata": {},
   "source": [
    "**Insan1 ve Insan2 instance'dır.**"
   ]
  },
  {
   "cell_type": "code",
   "execution_count": 4,
   "metadata": {},
   "outputs": [
    {
     "data": {
      "text/plain": [
       "'Mustafa'"
      ]
     },
     "execution_count": 4,
     "metadata": {},
     "output_type": "execute_result"
    }
   ],
   "source": [
    "Insan1.Ad\n"
   ]
  },
  {
   "cell_type": "code",
   "execution_count": 5,
   "metadata": {},
   "outputs": [
    {
     "data": {
      "text/plain": [
       "'Durmuş'"
      ]
     },
     "execution_count": 5,
     "metadata": {},
     "output_type": "execute_result"
    }
   ],
   "source": [
    "Insan2.Soyad"
   ]
  },
  {
   "cell_type": "markdown",
   "metadata": {},
   "source": [
    "## Class metodu oluşturma"
   ]
  },
  {
   "cell_type": "code",
   "execution_count": 6,
   "metadata": {},
   "outputs": [
    {
     "data": {
      "text/plain": [
       "0"
      ]
     },
     "execution_count": 6,
     "metadata": {},
     "output_type": "execute_result"
    }
   ],
   "source": [
    "# class oluştururken içine metod da tanımlanabilir. \n",
    "# Örneğin;\n",
    "\n",
    "x=\"Merhaba\"\n",
    "\n",
    "x.index(\"M\")"
   ]
  },
  {
   "cell_type": "markdown",
   "metadata": {},
   "source": [
    "Yukarıda görülen index metodu string sınıfına tanımlanmış bir metodtur.\n",
    "\n",
    "Yani python dilini yazan kişi veya kişiler \"string\" sınıfını/class'ını oluşturduktan sonra bu görevi yerine getirebilmesi için, içerisine index isimli bir metod tanımlamıştır."
   ]
  },
  {
   "cell_type": "markdown",
   "metadata": {},
   "source": [
    "Bizim tanımladığımız bir sınıfın içerisine de bir metod tanımlanabilir"
   ]
  },
  {
   "cell_type": "code",
   "execution_count": 7,
   "metadata": {},
   "outputs": [],
   "source": [
    "class Kisi:\n",
    "    def __init__(self, Ad, Soyad, Yas, Sacrengi):        \n",
    "        self.Ad=Ad                                       \n",
    "        self.Soyad=Soyad                                \n",
    "        self.Yas=Yas\n",
    "        self.Sacrengi=Sacrengi\n",
    "\n",
    "# Şimdi Kisi sınıfı içerisine çağırıldığında Kisi'nin bütün özelliklerini getiren bir bir metod oluşturacağız...\n",
    "    \n",
    "    def bilgi(self):\n",
    "        print(self.Ad)\n",
    "        print(self.Soyad)\n",
    "        print(self.Yas)\n",
    "        print(self.Sacrengi)\n",
    "\n",
    "    def dogumyılı(self):\n",
    "        return 2022-self.Yas\n"
   ]
  },
  {
   "cell_type": "code",
   "execution_count": 11,
   "metadata": {},
   "outputs": [],
   "source": [
    "Kisi1=Kisi(\"Ahmet\", \"Can\", 23, \"Siyah\")"
   ]
  },
  {
   "cell_type": "code",
   "execution_count": 12,
   "metadata": {},
   "outputs": [
    {
     "name": "stdout",
     "output_type": "stream",
     "text": [
      "Ahmet\n",
      "Can\n",
      "23\n",
      "Siyah\n"
     ]
    }
   ],
   "source": [
    "Kisi1.bilgi()"
   ]
  },
  {
   "cell_type": "code",
   "execution_count": 13,
   "metadata": {},
   "outputs": [
    {
     "data": {
      "text/plain": [
       "1999"
      ]
     },
     "execution_count": 13,
     "metadata": {},
     "output_type": "execute_result"
    }
   ],
   "source": [
    "Kisi1.dogumyılı()"
   ]
  }
 ],
 "metadata": {
  "kernelspec": {
   "display_name": "Python 3.10.7 64-bit",
   "language": "python",
   "name": "python3"
  },
  "language_info": {
   "codemirror_mode": {
    "name": "ipython",
    "version": 3
   },
   "file_extension": ".py",
   "mimetype": "text/x-python",
   "name": "python",
   "nbconvert_exporter": "python",
   "pygments_lexer": "ipython3",
   "version": "3.10.7"
  },
  "orig_nbformat": 4,
  "vscode": {
   "interpreter": {
    "hash": "a1a7efbbe97ace3e6a3903a1087b84955237a79a84605ff960f6ddbd0678e993"
   }
  }
 },
 "nbformat": 4,
 "nbformat_minor": 2
}
