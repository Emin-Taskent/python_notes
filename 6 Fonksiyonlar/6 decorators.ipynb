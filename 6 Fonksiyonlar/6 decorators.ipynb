{
 "cells": [
  {
   "cell_type": "markdown",
   "metadata": {},
   "source": [
    "# Decorators"
   ]
  },
  {
   "cell_type": "code",
   "execution_count": 1,
   "metadata": {},
   "outputs": [],
   "source": [
    "# Decoratörler bir fonksiyona ya da birden fazla fonksiyona dışarıdan ek bir özellik ekleme yapısıdır.\n",
    "\n",
    "def topla(x,y):\n",
    "    sonuc=x+y\n",
    "    print(sonuc)\n",
    "\n",
    "# şeklinde bir fonksiyon tanımlı olsun. "
   ]
  },
  {
   "cell_type": "code",
   "execution_count": 3,
   "metadata": {},
   "outputs": [
    {
     "name": "stdout",
     "output_type": "stream",
     "text": [
      "7\n"
     ]
    }
   ],
   "source": [
    "a=topla # şeklinde fonksiyon yapısını a değişkenine atayabiliriz. Parantez açılmadı, açılırsa bir argüman işlemi oluşturulur.\n",
    "        # a=topla() şeklinde bir ifade yazmaya çalışırsak hata ile karşılaşırız.\n",
    "        # Çünkü topla' fonkisyonunun içerisine iki tane argüman tanımlamamız gerekir.\n",
    "\n",
    "# şimdi a bir fonkisyon gibi davranır;\n",
    "\n",
    "a(3,4)"
   ]
  },
  {
   "cell_type": "code",
   "execution_count": 9,
   "metadata": {},
   "outputs": [],
   "source": [
    "# Şimdi fonksiyon içerisine bir fonksiyon tanımlamış olalım;\n",
    "\n",
    "def fonk1():\n",
    "    print('Merhabalar')\n",
    "\n",
    "    def fonk2():\n",
    "        print('Nasılsınız?')"
   ]
  },
  {
   "cell_type": "code",
   "execution_count": 10,
   "metadata": {},
   "outputs": [
    {
     "name": "stdout",
     "output_type": "stream",
     "text": [
      "Merhabalar\n"
     ]
    }
   ],
   "source": [
    "# Şimdi ilk fonksiyonu çağıralım;\n",
    "\n",
    "fonk1()\n",
    "\n",
    "# Sadece \"Merhabalar\" çıktısını aldık. \n",
    "# Çünkü fonk2()' ye \"Nasılsınız?\" çıktısı dönmüyor. Bir çıktıyı döndürmek için ise 'return' yapısı kullanılırdı."
   ]
  },
  {
   "cell_type": "code",
   "execution_count": 11,
   "metadata": {},
   "outputs": [],
   "source": [
    "def fonk3():\n",
    "    print('Merhabalar')\n",
    "\n",
    "    def fonk4():\n",
    "        return('Nasılsınız?')"
   ]
  },
  {
   "cell_type": "code",
   "execution_count": 12,
   "metadata": {},
   "outputs": [
    {
     "name": "stdout",
     "output_type": "stream",
     "text": [
      "Merhabalar\n"
     ]
    }
   ],
   "source": [
    "fonk3()\n",
    "\n",
    "# Yine sadece merhabalar çıktısını aldık. Çünkü fonk4'e \"Nasılsınız?\" döndü lakin yazdıracak bir yapı kullanmadık."
   ]
  },
  {
   "cell_type": "code",
   "execution_count": 16,
   "metadata": {},
   "outputs": [],
   "source": [
    "# Şimdi fonksiyonumuzu yeniden düzenleyelim.\n",
    "\n",
    "def fonk5():\n",
    "    print('Merhabalar')\n",
    "\n",
    "    def fonk6():\n",
    "        return('Nasılsınız?')\n",
    "\n",
    "    print(fonk6())"
   ]
  },
  {
   "cell_type": "code",
   "execution_count": 17,
   "metadata": {},
   "outputs": [
    {
     "name": "stdout",
     "output_type": "stream",
     "text": [
      "Merhabalar\n",
      "Nasılsınız?\n"
     ]
    }
   ],
   "source": [
    "fonk5()"
   ]
  },
  {
   "cell_type": "code",
   "execution_count": 28,
   "metadata": {},
   "outputs": [],
   "source": [
    "# Deneme\n",
    "\n",
    "def fonk7():\n",
    "    print('Merhabalar')\n",
    "\n",
    "    def fonk8():\n",
    "        print('Nasılsınız?')\n",
    "    print(fonk8())"
   ]
  },
  {
   "cell_type": "code",
   "execution_count": 29,
   "metadata": {},
   "outputs": [
    {
     "name": "stdout",
     "output_type": "stream",
     "text": [
      "Merhabalar\n",
      "Nasılsınız?\n",
      "None\n"
     ]
    }
   ],
   "source": [
    "fonk7()"
   ]
  },
  {
   "cell_type": "code",
   "execution_count": 32,
   "metadata": {},
   "outputs": [],
   "source": [
    "# Decoratör fonksiyonunun tanımını bir kez daha hatırlayalım;\n",
    "# Decoratörler bir fonksiyona ya da birden fazla fonksiyona dışarıdan ek bir özellik ekleme yapısıdır.\n",
    "\n",
    "# Yani bir fonksiyona eklenecek bir özellik (fonkisyon) oluşturulup birden fazla fonksiyona eklenebilir.\n",
    "\n",
    "# Örneğin;\n",
    "\n",
    "def function(func):\n",
    "    def wrapper():          # 2. def'de wrapper yerine başke bir şey de yazılabilir, lakin genel kullanılan syntax böyledir.\n",
    "        print(\"Eklemek istediğimiz Alan1\")\n",
    "        func()\n",
    "        print(\"Eklemek istediğimiz Alan2\")\n",
    "    \n",
    "    return wrapper          # return wrapper demezsek çıktıyı döndürmemiş oluruz.\n",
    "\n",
    "\n",
    "@function\n",
    "def selam():\n",
    "    print(\"Merhaba\")        # fonksiyonun başına @function yazarsam;"
   ]
  },
  {
   "cell_type": "code",
   "execution_count": 33,
   "metadata": {},
   "outputs": [
    {
     "name": "stdout",
     "output_type": "stream",
     "text": [
      "Eklemek istediğimiz Alan1\n",
      "Merhaba\n",
      "Eklemek istediğimiz Alan2\n"
     ]
    }
   ],
   "source": [
    "# selam fonksiyonunu çalıştırırsak;\n",
    "\n",
    "selam()"
   ]
  },
  {
   "cell_type": "code",
   "execution_count": 39,
   "metadata": {},
   "outputs": [],
   "source": [
    "# Örnek;\n",
    "\n",
    "def deco(func):\n",
    "    def wrapper(x,y):\n",
    "        print(\"İşleminizin sonucu:\")\n",
    "        func(x,y)\n",
    "    return wrapper\n",
    "\n",
    "@deco\n",
    "def topla2(x,y):\n",
    "    sonuc=x+y\n",
    "    print(sonuc)\n",
    "@deco\n",
    "def carpma2(x,y):\n",
    "    sonuc=x*y\n",
    "    print(sonuc)\n",
    "\n"
   ]
  },
  {
   "cell_type": "code",
   "execution_count": 41,
   "metadata": {},
   "outputs": [
    {
     "name": "stdout",
     "output_type": "stream",
     "text": [
      "İşleminizin sonucu:\n",
      "8\n",
      "İşleminizin sonucu:\n",
      "12\n"
     ]
    }
   ],
   "source": [
    "topla2(2,6)\n",
    "\n",
    "carpma2(2,6)"
   ]
  },
  {
   "cell_type": "code",
   "execution_count": 44,
   "metadata": {},
   "outputs": [],
   "source": [
    "# Örnek 2;\n",
    "import time\n",
    "\n",
    "def zamanolc(func):\n",
    "    def wrapper(*args, **kwargs):\n",
    "        basla=time.time()\n",
    "        time.sleep(1)\n",
    "        func(*args, **kwargs)\n",
    "        bitir=time.time()\n",
    "        fark=bitir-basla\n",
    "        print(\"Fonksiyon {} saniyede çalışmasını bitirdi...\".format(fark))\n",
    "\n",
    "    return wrapper\n",
    "\n",
    "\n",
    "@zamanolc\n",
    "def topla2(x,y):\n",
    "    sonuc=x+y\n",
    "    print(sonuc)\n",
    "@zamanolc\n",
    "def carpma2(x,y):\n",
    "    sonuc=x*y\n",
    "    print(sonuc)"
   ]
  },
  {
   "cell_type": "code",
   "execution_count": 45,
   "metadata": {},
   "outputs": [
    {
     "name": "stdout",
     "output_type": "stream",
     "text": [
      "5\n",
      "Fonksiyon 1.006417989730835 saniyede çalışmasını bitirdi...\n",
      "6\n",
      "Fonksiyon 1.0057275295257568 saniyede çalışmasını bitirdi...\n"
     ]
    }
   ],
   "source": [
    "topla2(2,3)\n",
    "carpma2(2,3)"
   ]
  },
  {
   "cell_type": "code",
   "execution_count": 6,
   "metadata": {},
   "outputs": [
    {
     "data": {
      "text/plain": [
       "529344067295497451"
      ]
     },
     "execution_count": 6,
     "metadata": {},
     "output_type": "execute_result"
    }
   ],
   "source": [
    "tupl=(1,2,3)\n",
    "\n",
    "hash(tupl)\n"
   ]
  },
  {
   "cell_type": "code",
   "execution_count": null,
   "metadata": {},
   "outputs": [],
   "source": []
  }
 ],
 "metadata": {
  "kernelspec": {
   "display_name": "Python 3.10.7 64-bit",
   "language": "python",
   "name": "python3"
  },
  "language_info": {
   "codemirror_mode": {
    "name": "ipython",
    "version": 3
   },
   "file_extension": ".py",
   "mimetype": "text/x-python",
   "name": "python",
   "nbconvert_exporter": "python",
   "pygments_lexer": "ipython3",
   "version": "3.10.7"
  },
  "orig_nbformat": 4,
  "vscode": {
   "interpreter": {
    "hash": "a1a7efbbe97ace3e6a3903a1087b84955237a79a84605ff960f6ddbd0678e993"
   }
  }
 },
 "nbformat": 4,
 "nbformat_minor": 2
}
