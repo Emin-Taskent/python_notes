{
 "cells": [
  {
   "cell_type": "markdown",
   "metadata": {},
   "source": [
    "# Closure\n",
    "Bir fonksiyonun içinde tanımlanmış fonksiyonun, dışındaki fonksiyonun içinde tanımlanmış değişkenlere, dıştaki fonksiyon çağrılmış olsa da erişebilmesidir."
   ]
  },
  {
   "cell_type": "code",
   "execution_count": 1,
   "metadata": {},
   "outputs": [],
   "source": [
    "def outer():\n",
    "    msg='hey'\n",
    "\n",
    "    def inner():\n",
    "        print(msg)\n",
    "    \n",
    "    return inner()"
   ]
  },
  {
   "cell_type": "code",
   "execution_count": 2,
   "metadata": {},
   "outputs": [
    {
     "name": "stdout",
     "output_type": "stream",
     "text": [
      "hey\n"
     ]
    }
   ],
   "source": [
    "outer()"
   ]
  },
  {
   "cell_type": "code",
   "execution_count": null,
   "metadata": {},
   "outputs": [],
   "source": []
  }
 ],
 "metadata": {
  "kernelspec": {
   "display_name": "Python 3.10.7 64-bit",
   "language": "python",
   "name": "python3"
  },
  "language_info": {
   "codemirror_mode": {
    "name": "ipython",
    "version": 3
   },
   "file_extension": ".py",
   "mimetype": "text/x-python",
   "name": "python",
   "nbconvert_exporter": "python",
   "pygments_lexer": "ipython3",
   "version": "3.10.7"
  },
  "orig_nbformat": 4,
  "vscode": {
   "interpreter": {
    "hash": "a1a7efbbe97ace3e6a3903a1087b84955237a79a84605ff960f6ddbd0678e993"
   }
  }
 },
 "nbformat": 4,
 "nbformat_minor": 2
}
