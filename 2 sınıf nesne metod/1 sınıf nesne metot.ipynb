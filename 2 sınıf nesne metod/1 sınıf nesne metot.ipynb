{
 "cells": [
  {
   "cell_type": "markdown",
   "metadata": {},
   "source": [
    "Buradan izle\n",
    "\n",
    "https://www.youtube.com/watch?v=MzDidIWAFp8&list=PLK8LlaNiWQOusZmEzLunxfgti9-ciRuXe&index=16&ab_channel=Anla%C5%9F%C4%B1l%C4%B1rEkonomi"
   ]
  },
  {
   "cell_type": "markdown",
   "metadata": {},
   "source": [
    "## Sayısal Metotlar"
   ]
  },
  {
   "cell_type": "code",
   "execution_count": 2,
   "metadata": {},
   "outputs": [
    {
     "name": "stdout",
     "output_type": "stream",
     "text": [
      "12\n",
      "12\n"
     ]
    }
   ],
   "source": [
    "x=-12\n",
    "print(x.__abs__())\n",
    "\n",
    "#mutlak değer metodudur.\n",
    "\n",
    "print(abs(x))\n",
    "#fonksiyon olarak da kullanılır."
   ]
  },
  {
   "cell_type": "code",
   "execution_count": 6,
   "metadata": {},
   "outputs": [
    {
     "name": "stdout",
     "output_type": "stream",
     "text": [
      "-8\n",
      "-8\n"
     ]
    }
   ],
   "source": [
    "x1=-2\n",
    "print(x1.__pow__(3))\n",
    "\n",
    "#kuvvetini alır.\n",
    "\n",
    "print(pow(x1, 3))\n",
    "#fonsiyon olarak da kullanılabilir."
   ]
  },
  {
   "cell_type": "code",
   "execution_count": 9,
   "metadata": {},
   "outputs": [
    {
     "name": "stdout",
     "output_type": "stream",
     "text": [
      "(7, 1)\n"
     ]
    }
   ],
   "source": [
    "x2=15\n",
    "print(x2.__divmod__(2))\n",
    "\n",
    "# bölme işlemindeki bölüm ve kalan kısmını tuple (demet) olarak yazdırır."
   ]
  },
  {
   "cell_type": "code",
   "execution_count": 11,
   "metadata": {},
   "outputs": [
    {
     "name": "stdout",
     "output_type": "stream",
     "text": [
      "(9, 2)\n",
      "(2871044762448691, 562949953421312)\n"
     ]
    }
   ],
   "source": [
    "x3=4.5\n",
    "print(x3.as_integer_ratio())\n",
    "\n",
    "# hangi sayının hangi sayıya bölünmesiyle değişkenin oluştuğunu gösteriyor :)\n",
    "\n",
    "x4=5.1\n",
    "print(x4.as_integer_ratio())"
   ]
  },
  {
   "cell_type": "markdown",
   "metadata": {},
   "source": [
    "## String Metotları\n",
    "\n",
    "https://www.w3schools.com/python/python_ref_string.asp"
   ]
  },
  {
   "cell_type": "code",
   "execution_count": 18,
   "metadata": {},
   "outputs": [
    {
     "name": "stdout",
     "output_type": "stream",
     "text": [
      "anlaşılır ekonomi\n",
      "ANLAŞILIR EKONOMI\n",
      "True\n",
      "True\n"
     ]
    }
   ],
   "source": [
    "x5=\"Anlaşılır Ekonomi\"\n",
    "r5_1=x5.lower()\n",
    "r5_2=x5.upper()\n",
    "\n",
    "print(r5_1)\n",
    "print(r5_2)\n",
    "\n",
    "\n",
    "print(r5_2.isupper())\n",
    "\n",
    "# is upper hepsinin büyük harften mi oluştuğunu kontrol eder.\n",
    "\n",
    "x6=\"1234\"\n",
    "print(x6.isnumeric())\n",
    "\n",
    "#is mantığına dikkat edelim!!\n",
    "\n",
    "## bu kodlar şifre gibi yerlerde kontrol amacı ile kullanılmaktadır.\n"
   ]
  },
  {
   "cell_type": "code",
   "execution_count": 20,
   "metadata": {},
   "outputs": [
    {
     "name": "stdout",
     "output_type": "stream",
     "text": [
      "aNLAŞILIR eKONOMI\n",
      "2\n",
      "1\n"
     ]
    }
   ],
   "source": [
    "print(x5.swapcase())\n",
    "print(x5.count(\"o\"))\n",
    "print(x5.count(\"A\"))\n",
    "\n",
    "# a yı bir bulmasının sebebi case sensitive olmasıdır."
   ]
  },
  {
   "cell_type": "code",
   "execution_count": 27,
   "metadata": {},
   "outputs": [
    {
     "name": "stdout",
     "output_type": "stream",
     "text": [
      "Anlaşılır Ekonomi\n",
      "nlaşılır Ekonomi\n",
      "Anlaşılır Ekonomi\n"
     ]
    }
   ],
   "source": [
    "x6=\" Anlaşılır Ekonomi  \"\n",
    "\n",
    "print(x6.strip(\" \"))\n",
    "\n",
    "#strip etrafındaki boşlukları temizler, aradaki boşluklara  bir şey yapmaz zira baştan ve sondan aramaya başlar\n",
    "\n",
    "x7=\"Anlaşılır Ekonomi\"\n",
    "print(x7.strip(\"A\"))\n",
    "print(x7.strip(\"n\"))\n"
   ]
  },
  {
   "cell_type": "code",
   "execution_count": 29,
   "metadata": {},
   "outputs": [
    {
     "name": "stdout",
     "output_type": "stream",
     "text": [
      "['Merhaba,', 'ben', 'Anlaşılır', 'Ekonomi']\n"
     ]
    }
   ],
   "source": [
    "x8=\"Merhaba, ben Anlaşılır Ekonomi\"\n",
    "\n",
    "print(x8.split(\" \"))\n",
    "# verilen karakterle yapıyı parçalar ve oluşan nesnelarle bir liste oluşturur."
   ]
  },
  {
   "cell_type": "code",
   "execution_count": 32,
   "metadata": {},
   "outputs": [
    {
     "name": "stdout",
     "output_type": "stream",
     "text": [
      "Merhaba, ben Anlaşılır Ekonomi\n",
      "Merhaba,*ben*Anlaşılır*Ekonomi\n"
     ]
    }
   ],
   "source": [
    "r9=x8.split(\" \")\n",
    "\n",
    "x9=\" \".join(r9)\n",
    "print(x9)\n",
    "\n",
    "#join fonksiyonu, liste içerisindeki elemanları başta verilen nesne ile birleştirir.\n",
    "\n",
    "x10=\"*\".join(r9)\n",
    "print(x10)"
   ]
  },
  {
   "cell_type": "code",
   "execution_count": 34,
   "metadata": {},
   "outputs": [
    {
     "name": "stdout",
     "output_type": "stream",
     "text": [
      "Merhaba Ekonomi\n"
     ]
    }
   ],
   "source": [
    "x11=\"Anlaşılır Ekonomi\"\n",
    "\n",
    "r11=x11.replace(\"Anlaşılır\", \"Merhaba\")\n",
    "print(r11)"
   ]
  },
  {
   "cell_type": "code",
   "execution_count": 38,
   "metadata": {},
   "outputs": [
    {
     "name": "stdout",
     "output_type": "stream",
     "text": [
      "['Emin', 'Taskent', 'Eğitmen']\n",
      "Kişinin adı: Emin, Kişinin soyadı: Taskent, Kişinin Görevi: Eğitmen\n"
     ]
    }
   ],
   "source": [
    "Adı=\"Emin\"\n",
    "Soyadı=\"Taskent\"\n",
    "Mesleği=\"Eğitmen\"\n",
    "\n",
    "liste1=[Adı, Soyadı, Mesleği]\n",
    "print(liste1)\n",
    "\n",
    "print(\"Kişinin adı: {}, Kişinin soyadı: {}, Kişinin Görevi: {}\"\n",
    ".format(liste1[0],liste1[1],liste1[2]))"
   ]
  },
  {
   "cell_type": "markdown",
   "metadata": {},
   "source": [
    "# Liste Metotları\n",
    "\n",
    "https://www.w3schools.com/python/python_ref_list.asp"
   ]
  },
  {
   "cell_type": "code",
   "execution_count": 51,
   "metadata": {},
   "outputs": [
    {
     "name": "stdout",
     "output_type": "stream",
     "text": [
      "[1, 2, 5, 'Merhaba', 2.5, 'Anlaşılır Ekonomi']\n",
      "[1, 'Emin', 2, 5, 'Merhaba', 2.5, 'Anlaşılır Ekonomi']\n",
      "[1, 'Emin', 2, 'Merhaba', 2.5, 'Anlaşılır Ekonomi']\n",
      "[1, 2, 'Merhaba', 2.5]\n",
      "[1, 2, 'Merhaba', 2.5]\n",
      "[1, 2, 3, 4, 5, 6, 7, 8]\n",
      "['Emin', 'Taskent', 'Eğitmen', 5, 6, 7, 8, 5, 6, 7, 8, 5, 6, 7, 8]\n"
     ]
    }
   ],
   "source": [
    "liste2=[1,2,5, \"Merhaba\", 2.5]\n",
    "\n",
    "# .append metodu listenin en sonuna nesne ekler\n",
    "\n",
    "liste2.append(\"Anlaşılır Ekonomi\")\n",
    "print(liste2)\n",
    "\n",
    "# en sona değil de belirli bir yere eklemek istersek .insert metodu kullanılır.\n",
    "\n",
    "liste2.insert(1, \"Emin\")\n",
    "print(liste2)\n",
    "\n",
    "# .remove metodu ise listedeki gördüğü nesneyi siler.\n",
    "\n",
    "liste2.remove(5)\n",
    "print(liste2)\n",
    "\n",
    "# .pop metodu ise listedeki index olarak belirtilen nesneyi siler. Boş çalıştırıldığında ise son nesneyi siler.\n",
    "\n",
    "liste2.pop()\n",
    "liste2.pop(1)\n",
    "print(liste2)\n",
    "\n",
    "# .copy listeyi başka bir değişkene kopyalarken kullanılır.\n",
    "liste3=liste2.copy()\n",
    "print(liste3)\n",
    "\n",
    "# .extend metodu listeleri birleştirir veya += yapısı da kullanılabilir\n",
    "liste4=[1,2,3,4]\n",
    "liste5=[5,6,7,8]\n",
    "\n",
    "liste4.extend(liste5)\n",
    "print(liste4)\n",
    "\n",
    "liste1 += liste5\n",
    "print(liste1)"
   ]
  },
  {
   "cell_type": "code",
   "execution_count": 54,
   "metadata": {},
   "outputs": [
    {
     "name": "stdout",
     "output_type": "stream",
     "text": [
      "5\n",
      "2\n"
     ]
    }
   ],
   "source": [
    "# .count listede o elemandan kaç tane olduğunu gösterir bize\n",
    "liste6=[1,2,3,4,4,4,4,4, \"ekonomi\", \"ekonomi\"]\n",
    "\n",
    "print(liste6.count(4))\n",
    "print(liste6.count(\"ekonomi\"))\n"
   ]
  },
  {
   "cell_type": "code",
   "execution_count": 59,
   "metadata": {},
   "outputs": [
    {
     "name": "stdout",
     "output_type": "stream",
     "text": [
      "[1, 2, 3, 5, 6, 7, 9]\n",
      "[9, 7, 6, 5, 3, 2, 1]\n",
      "[7, 1, 6, 5, 2, 3, 9]\n",
      "[]\n"
     ]
    }
   ],
   "source": [
    "# .sort listeyi sıralıyor\n",
    "\n",
    "liste7=[9,3,2,5,6,1,7]\n",
    "\n",
    "liste7.sort()\n",
    "print(liste7)\n",
    "\n",
    "liste7.sort(reverse=True)\n",
    "print(liste7)\n",
    "\n",
    "# .reverse metodu ise listeyi tersine çevirmektedir\n",
    "liste7=[9,3,2,5,6,1,7]\n",
    "liste7.reverse()\n",
    "print(liste7)\n",
    "\n",
    "# .clear ise listeyi temizler.\n",
    "\n",
    "liste7.clear()\n",
    "print(liste7)"
   ]
  },
  {
   "cell_type": "markdown",
   "metadata": {},
   "source": [
    "# Sözlük Metotları\n",
    "\n",
    "https://www.w3schools.com/python/python_ref_dictionary.asp"
   ]
  },
  {
   "cell_type": "code",
   "execution_count": 81,
   "metadata": {},
   "outputs": [
    {
     "name": "stdout",
     "output_type": "stream",
     "text": [
      "{'Ad': 'Emin', 'Soyad': 'Taskent', 'Dyer': 'Ankara', 'TCno': 98345102345}\n",
      "dict_keys(['Ad', 'Soyad', 'Dyer', 'TCno'])\n",
      "dict_values(['Emin', 'Taskent', 'Ankara', 98345102345])\n",
      "dict_items([('Ad', 'Emin'), ('Soyad', 'Taskent'), ('Dyer', 'Ankara'), ('TCno', 98345102345)])\n",
      "Emin\n"
     ]
    }
   ],
   "source": [
    "Bilgi={\n",
    "         \"Ad\": \"Emin\",\n",
    "         \"Soyad\":\"Taskent\",\n",
    "         \"Dyer\": \"Ankara\",\n",
    "         \"TCno\": 98345102345\n",
    "}\n",
    "print(Bilgi)\n",
    "\n",
    "# .keys metodu sözlükteki anahtarları liste şeklinde döndürür.\n",
    "\n",
    "print(Bilgi.keys())\n",
    "\n",
    "# .values metodu sözlükteki değerleri liste şeklinde döndürür.\n",
    "\n",
    "print(Bilgi.values())\n",
    "\n",
    "# .items metodu sözlükteki anahtar ve değerleri birlikte liste şeklinde döndürür.\n",
    "\n",
    "print(Bilgi.items())\n",
    "\n",
    "# .get metodu ise istenen anahtara ait olan değeri getirir.\n",
    "\n",
    "print(Bilgi.get(\"Ad\"))"
   ]
  },
  {
   "cell_type": "code",
   "execution_count": 82,
   "metadata": {},
   "outputs": [
    {
     "name": "stdout",
     "output_type": "stream",
     "text": [
      "{'Ad': 'Emin', 'Soyad': 'Taskent', 'Dyer': 'Ankara', 'TCno': 98345102345, 'Cinsiyet': 'Erkek'}\n"
     ]
    }
   ],
   "source": [
    "# .update metodu ise sözlüğe ekleme yapmak için kullanılır.\n",
    "\n",
    "Bilgi.update({\"Cinsiyet\":\"Erkek\"})\n",
    "print(Bilgi)"
   ]
  },
  {
   "cell_type": "code",
   "execution_count": 83,
   "metadata": {},
   "outputs": [
    {
     "name": "stdout",
     "output_type": "stream",
     "text": [
      "{'Ad': 'Emin', 'Soyad': 'Taskent', 'Dyer': 'Ankara', 'TCno': 98345102345, 'Cinsiyet': 'Erkek'}\n",
      "5\n",
      "{'Ad': 'Emin', 'Soyad': 'Taskent', 'Dyer': 'Ankara', 'Cinsiyet': 'Erkek'}\n"
     ]
    }
   ],
   "source": [
    "# .copy sözlüğü başka bir değişkene kopyalarken kullanılır.\n",
    "\n",
    "Bilgi2=Bilgi.copy()\n",
    "print(Bilgi2)\n",
    "\n",
    "# .__len__ metodu ise sözlükteki çift (anahtar ve değer) sayısını döndürür.\n",
    "print(Bilgi.__len__())\n",
    "\n",
    "# .pop metodu ise sözlükteki anahtar ile belirtilen nesneyi siler.\n",
    "Bilgi.pop(\"TCno\")\n",
    "print(Bilgi)\n"
   ]
  },
  {
   "cell_type": "code",
   "execution_count": 84,
   "metadata": {},
   "outputs": [
    {
     "name": "stdout",
     "output_type": "stream",
     "text": [
      "{}\n"
     ]
    }
   ],
   "source": [
    "# .clear ise sözlüğü temizler.\n",
    "Bilgi2.clear()\n",
    "print(Bilgi2)"
   ]
  }
 ],
 "metadata": {
  "kernelspec": {
   "display_name": "Python 3.10.6 64-bit (system)",
   "language": "python",
   "name": "python3"
  },
  "language_info": {
   "codemirror_mode": {
    "name": "ipython",
    "version": 3
   },
   "file_extension": ".py",
   "mimetype": "text/x-python",
   "name": "python",
   "nbconvert_exporter": "python",
   "pygments_lexer": "ipython3",
   "version": "3.10.6"
  },
  "orig_nbformat": 4,
  "vscode": {
   "interpreter": {
    "hash": "153b678b2f7a8cf3f4ae0b3640dd641e7d064b4c764ba4b70fe37c6e052025cd"
   }
  }
 },
 "nbformat": 4,
 "nbformat_minor": 2
}
