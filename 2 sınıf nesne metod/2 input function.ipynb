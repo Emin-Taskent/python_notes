{
 "cells": [
  {
   "cell_type": "markdown",
   "metadata": {},
   "source": [
    "Input fonksiyonu kullanıcının veri girmesine müsaade eden bir fonsksiyondur."
   ]
  },
  {
   "cell_type": "code",
   "execution_count": 2,
   "metadata": {},
   "outputs": [
    {
     "name": "stdout",
     "output_type": "stream",
     "text": [
      "12\n"
     ]
    }
   ],
   "source": [
    "x=input(\"İlk Sayıyı giriniz.\")\n",
    "y=input(\"İkinci Sayıyı giriniz.\")\n",
    "\n",
    "z=x+y\n",
    "print(z)\n",
    "\n",
    "# x için 1 ve y için 2 girilmiştir, string olarak algıladığı için de 12 çıktısını vermiştir."
   ]
  },
  {
   "cell_type": "code",
   "execution_count": 3,
   "metadata": {},
   "outputs": [
    {
     "name": "stdout",
     "output_type": "stream",
     "text": [
      "3.0\n"
     ]
    }
   ],
   "source": [
    "a=input(\"İlk Sayıyı giriniz.\")\n",
    "b=input(\"İkinci Sayıyı giriniz.\")\n",
    "\n",
    "c=float(a)+float(b)\n",
    "print(c)\n",
    "\n",
    "# a için 1 ve b için 2 girilmiştir."
   ]
  },
  {
   "cell_type": "code",
   "execution_count": 7,
   "metadata": {},
   "outputs": [
    {
     "name": "stdout",
     "output_type": "stream",
     "text": [
      "Sonuç 3.0\n"
     ]
    }
   ],
   "source": [
    "a1=input(\"İlk Sayıyı giriniz.\")\n",
    "b2=input(\"İkinci Sayıyı giriniz.\")\n",
    "\n",
    "c=float(a1)+float(2)\n",
    "print(\"Sonuç\"+ \" \"+str(c))\n",
    "\n",
    "# c değişkenini print içerisinde tekrardan string olarak tanımamazsak değişenler farklı olduğu için hata verecektir.\n",
    "\n"
   ]
  },
  {
   "cell_type": "markdown",
   "metadata": {},
   "source": [
    "Daire alanını hesaplayan bir formül oluşturalım."
   ]
  },
  {
   "cell_type": "code",
   "execution_count": 9,
   "metadata": {},
   "outputs": [
    {
     "name": "stdout",
     "output_type": "stream",
     "text": [
      "Yarıçapını girdiğiniz dairenin alanı 176.7144375\n"
     ]
    }
   ],
   "source": [
    "Çap=input(\"Dairenin Çapını giriniz.\")\n",
    "yarıçap=float(Çap)/2\n",
    "pi=3.14159\n",
    "\n",
    "alan=pi*(yarıçap*yarıçap)\n",
    "print(\"Yarıçapını girdiğiniz dairenin alanı\"+\" \"+str(alan))"
   ]
  },
  {
   "cell_type": "code",
   "execution_count": null,
   "metadata": {},
   "outputs": [],
   "source": []
  }
 ],
 "metadata": {
  "kernelspec": {
   "display_name": "Python 3.10.6 64-bit (system)",
   "language": "python",
   "name": "python3"
  },
  "language_info": {
   "codemirror_mode": {
    "name": "ipython",
    "version": 3
   },
   "file_extension": ".py",
   "mimetype": "text/x-python",
   "name": "python",
   "nbconvert_exporter": "python",
   "pygments_lexer": "ipython3",
   "version": "3.10.6"
  },
  "orig_nbformat": 4,
  "vscode": {
   "interpreter": {
    "hash": "153b678b2f7a8cf3f4ae0b3640dd641e7d064b4c764ba4b70fe37c6e052025cd"
   }
  }
 },
 "nbformat": 4,
 "nbformat_minor": 2
}
