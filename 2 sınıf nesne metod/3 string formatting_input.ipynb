{
 "cells": [
  {
   "cell_type": "markdown",
   "metadata": {},
   "source": [
    "# String Formatting"
   ]
  },
  {
   "cell_type": "code",
   "execution_count": 1,
   "metadata": {},
   "outputs": [
    {
     "name": "stdout",
     "output_type": "stream",
     "text": [
      "<class 'tuple'>\n",
      "('Python', 'Java', 'Ruby', 'JavaScript')\n",
      "<class 'tuple'>\n",
      "('Python', 'Java', 'Ruby', 'JavaScript')\n",
      "<class 'str'>\n",
      "Hello, John!\n"
     ]
    }
   ],
   "source": [
    "#Python uses C-style string formatting to create new, formatted strings. \n",
    "# The \"%\" operator is used to format a set of variables enclosed in a \"tuple\" (a fixed size list), \n",
    "# together with a format string, which contains normal text together with \"argument specifiers\", special symbols like \"%s\" and \"%d\".\n",
    "\n",
    "#Let's say you have a variable called \"name\" with your user name in it, and you would then like to print(out a greeting to that user.)\n",
    "\n",
    "#Tuple(Demet) Nedir?\n",
    "#Demetlerin ne olduğunu açıklarsak; \n",
    "#   Demetler birden fazla veri türünü bir arada bulundurabilen virgüllerle veya \n",
    "#   parantez ile gösterilen immutable(değiştirilemeyen) veri tipleridir.\n",
    "#   Farklı veri türlerinin bir araya gelerek oluşturduğu veri türleridir;\n",
    "#   yani bir Tuple içinde tamsayı, ondalık sayı, metin ve hatta bir Tuple içinde başka bir Tuple olabilir. \n",
    "#   Değiştirilemez olmasının sebebi ise siz bu veri türüne eleman ekleme,çıkarma yada farklı bir değiştirme işlemi yapamazsınız. \n",
    "\n",
    "demet = (\"Python\",\"Java\",\"Ruby\",\"JavaScript\")\n",
    "print(type(demet))\n",
    "print(demet)\n",
    "\n",
    "demet2 = \"Python\",\"Java\",\"Ruby\",\"JavaScript\"\n",
    "print(type(demet2))\n",
    "print(demet2)\n",
    "\n",
    "#Ama burada dikkat etmemiz gereken çok önemli bir nokta var eğer virgül kullanacaksak ve \n",
    "# demet bir elemanlı ise sonuna virgül koymadığımız zaman yorumlayıcı String(karakter dizisi) şeklinde algılar.\n",
    "#Hemen göstereyim;\n",
    "\n",
    "\n",
    "demet3 = \"Python\"\n",
    "print(type(demet3))\n",
    "\n",
    "demet4 = \"Python\",\n",
    "type(demet4)\n",
    "# This prints out \"Hello, John!\"\n",
    "name = \"John\"\n",
    "print(\"Hello, %s!\" % name)\n"
   ]
  },
  {
   "cell_type": "code",
   "execution_count": 2,
   "metadata": {},
   "outputs": [
    {
     "name": "stdout",
     "output_type": "stream",
     "text": [
      "John is 23 years old.\n"
     ]
    }
   ],
   "source": [
    "# *To use two or more argument specifiers, use a tuple (parentheses):\n",
    "\n",
    "# This prints out \"John is 23 years old.\"\n",
    "name2 = \"John\"\n",
    "age = 23\n",
    "print(\"%s is %d years old.\" % (name2, age))\n"
   ]
  },
  {
   "cell_type": "code",
   "execution_count": 3,
   "metadata": {},
   "outputs": [
    {
     "name": "stdout",
     "output_type": "stream",
     "text": [
      "A list: [1, 2, 3]\n"
     ]
    }
   ],
   "source": [
    "#Any object which is not a string can be formatted using the %s operator as well.\n",
    "# The string which returns from the \"repr\" method of that object is formatted as the string. For example;\n",
    "\n",
    "# This prints out: A list: [1, 2, 3]\n",
    "mylist = [1,2,3]\n",
    "print(\"A list: %s\" % mylist)\n"
   ]
  },
  {
   "cell_type": "markdown",
   "metadata": {},
   "source": [
    "\n",
    "## \n",
    "Here are some basic argument specifiers you should know:\n",
    "\n",
    "%s - String (or any object with a string representation, like numbers)\n",
    "\n",
    "%d - Integers\n",
    "\n",
    "%f - Floating point numbers\n",
    "\n",
    "%.<number of digits>f - Floating point numbers with a fixed amount of digits to the right of the dot.\n",
    "\n",
    "%x/%X - Integers in hex representation (lowercase/uppercase)\n"
   ]
  },
  {
   "cell_type": "markdown",
   "metadata": {},
   "source": [
    "## Exercise\n",
    "You will need to write a format string which prints out the data using the following syntax: Hello John Doe. Your current balance is $53.44.\n",
    "###### \n",
    "\n",
    "data = (\"John\", \"Doe\", 53.44)\n",
    "\n",
    "format_string = \"Hello\"\n",
    "\n",
    "print(format_string % data)\n"
   ]
  },
  {
   "cell_type": "code",
   "execution_count": 4,
   "metadata": {},
   "outputs": [
    {
     "name": "stdout",
     "output_type": "stream",
     "text": [
      "Hello John Doe. Your current balance is $53.44.\n"
     ]
    }
   ],
   "source": [
    "data = (\"John\", \"Doe\", 53.44)\n",
    "format_string = \"Hello %s %s. Your current balance is $%s.\"\n",
    "\n",
    "print(format_string % data)"
   ]
  },
  {
   "cell_type": "code",
   "execution_count": null,
   "metadata": {},
   "outputs": [],
   "source": []
  }
 ],
 "metadata": {
  "kernelspec": {
   "display_name": "Python 3.10.6 64-bit (system)",
   "language": "python",
   "name": "python3"
  },
  "language_info": {
   "codemirror_mode": {
    "name": "ipython",
    "version": 3
   },
   "file_extension": ".py",
   "mimetype": "text/x-python",
   "name": "python",
   "nbconvert_exporter": "python",
   "pygments_lexer": "ipython3",
   "version": "3.10.6"
  },
  "orig_nbformat": 4,
  "vscode": {
   "interpreter": {
    "hash": "153b678b2f7a8cf3f4ae0b3640dd641e7d064b4c764ba4b70fe37c6e052025cd"
   }
  }
 },
 "nbformat": 4,
 "nbformat_minor": 2
}
