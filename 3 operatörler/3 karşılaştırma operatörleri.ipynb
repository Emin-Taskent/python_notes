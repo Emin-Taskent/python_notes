{
 "cells": [
  {
   "cell_type": "markdown",
   "metadata": {},
   "source": [
    "# Karşılaştırma Operatörleri"
   ]
  },
  {
   "cell_type": "code",
   "execution_count": 4,
   "metadata": {},
   "outputs": [
    {
     "name": "stdout",
     "output_type": "stream",
     "text": [
      "True\n",
      "False\n",
      "True\n"
     ]
    }
   ],
   "source": [
    "# Karşılaştırma Operatörleri sonucu kontrol eder. Doğruya \"True\", yanlışsa \"False\" değerini döndürür.\n",
    "\n",
    "x,y= 9,12\n",
    "\n",
    "print(x<y)\n",
    "\n",
    "# Bir diğer operatör ise eşittir, lakin operatör olarak kullanıldığında \"==\" eşittir olarak kullanılır. \n",
    "# \"=\" sembolü atama yapmak için kullanılır.\n",
    "\n",
    "print(x==10)\n",
    "\n",
    "# Değil olarak ise\"!\" kullanılır. Örnek: eşit değildir = \"!=\"\n",
    "\n",
    "print(x!=10)"
   ]
  },
  {
   "cell_type": "code",
   "execution_count": 7,
   "metadata": {},
   "outputs": [
    {
     "name": "stdout",
     "output_type": "stream",
     "text": [
      "True\n",
      "False\n",
      "True\n"
     ]
    }
   ],
   "source": [
    "# \"in\"  operatörü kapsama operatörüdür. \n",
    "# Yani ardığımız bir nesne veya değerin başka bir sınıfın içinde olup olmadığını kontrol eden bir operatördür.\n",
    "\n",
    "x1=[1,3,5]\n",
    "\n",
    "print(3 in x1)  # \"3\" sayısı x1 listesi içinde yer alıp almadığını sorgular.\n",
    "print(4 in x1)\n",
    "\n",
    "print(4 not in x1) # \"not\" ile \"4\" sayısının x1 listesinde yer almadığını doğruladık."
   ]
  },
  {
   "cell_type": "code",
   "execution_count": null,
   "metadata": {},
   "outputs": [],
   "source": []
  }
 ],
 "metadata": {
  "kernelspec": {
   "display_name": "Python 3.10.6 64-bit (system)",
   "language": "python",
   "name": "python3"
  },
  "language_info": {
   "codemirror_mode": {
    "name": "ipython",
    "version": 3
   },
   "file_extension": ".py",
   "mimetype": "text/x-python",
   "name": "python",
   "nbconvert_exporter": "python",
   "pygments_lexer": "ipython3",
   "version": "3.10.6"
  },
  "orig_nbformat": 4,
  "vscode": {
   "interpreter": {
    "hash": "153b678b2f7a8cf3f4ae0b3640dd641e7d064b4c764ba4b70fe37c6e052025cd"
   }
  }
 },
 "nbformat": 4,
 "nbformat_minor": 2
}
