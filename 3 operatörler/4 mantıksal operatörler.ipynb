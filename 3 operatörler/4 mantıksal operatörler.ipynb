{
 "cells": [
  {
   "cell_type": "markdown",
   "metadata": {},
   "source": [
    "# Mantıksal Operatörler"
   ]
  },
  {
   "cell_type": "code",
   "execution_count": 3,
   "metadata": {},
   "outputs": [
    {
     "name": "stdout",
     "output_type": "stream",
     "text": [
      "True\n",
      "True\n",
      "False\n"
     ]
    }
   ],
   "source": [
    "# \"or\", verilen koşullardan herhangi biri gerçekleştiği takdirde sonucu \"True\" olarak döndüren bir operatördür. \n",
    "## Şartların tamamı yanlış ise \"False\" değerini döndürür\n",
    "\n",
    "#\"and\", verilen koşullardan her ikisi de gerçekleştiği takdirde sonucu \"True\" olarak döndüren bir operatördür.\n",
    "## Şartlardan biri yanlış ise \"False\" değerini döndürür.\n",
    "\n",
    "x,y=2,5\n",
    "print(x<3 or y<2)\n",
    "print(x<5 and y>1)\n",
    "\n",
    "# \"not\", çıktının değilini döndüren bir operatördür.\n",
    "\n",
    "print(not(x<3 or y<2))"
   ]
  }
 ],
 "metadata": {
  "kernelspec": {
   "display_name": "Python 3.10.6 64-bit (system)",
   "language": "python",
   "name": "python3"
  },
  "language_info": {
   "codemirror_mode": {
    "name": "ipython",
    "version": 3
   },
   "file_extension": ".py",
   "mimetype": "text/x-python",
   "name": "python",
   "nbconvert_exporter": "python",
   "pygments_lexer": "ipython3",
   "version": "3.10.6"
  },
  "orig_nbformat": 4,
  "vscode": {
   "interpreter": {
    "hash": "153b678b2f7a8cf3f4ae0b3640dd641e7d064b4c764ba4b70fe37c6e052025cd"
   }
  }
 },
 "nbformat": 4,
 "nbformat_minor": 2
}
